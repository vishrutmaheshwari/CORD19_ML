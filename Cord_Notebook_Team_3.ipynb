{
  "nbformat": 4,
  "nbformat_minor": 0,
  "metadata": {
    "colab": {
      "name": "Cord Notebook Team 3.ipynb",
      "provenance": [],
      "collapsed_sections": [
        "kN8ge_9X8ZXo",
        "_81IJzSlnTtY",
        "2uylI2Ilndhs",
        "cQTTt5iB4mZn",
        "Fgpnm35D9M4b",
        "r4tbafnrDIol",
        "0na4epJUYhp9",
        "YXUPchX6Yvp0",
        "w3DEFvod3Sha"
      ],
      "toc_visible": true,
      "include_colab_link": true
    },
    "kernelspec": {
      "name": "python3",
      "display_name": "Python 3"
    }
  },
  "cells": [
    {
      "cell_type": "markdown",
      "metadata": {
        "id": "view-in-github",
        "colab_type": "text"
      },
      "source": [
        "<a href=\"https://colab.research.google.com/github/vishrutmaheshwari/CORD19_ML/blob/master/Cord_Notebook_Team_3.ipynb\" target=\"_parent\"><img src=\"https://colab.research.google.com/assets/colab-badge.svg\" alt=\"Open In Colab\"/></a>"
      ]
    },
    {
      "cell_type": "markdown",
      "metadata": {
        "id": "kN8ge_9X8ZXo",
        "colab_type": "text"
      },
      "source": [
        "### Mounting Google Drive (Necessary)"
      ]
    },
    {
      "cell_type": "markdown",
      "metadata": {
        "id": "J1GbfGko22sv",
        "colab_type": "text"
      },
      "source": [
        "Mount Google Drive so that we can access data from Google Drive."
      ]
    },
    {
      "cell_type": "code",
      "metadata": {
        "id": "exMWAJSN713i",
        "colab_type": "code",
        "outputId": "3c7ea97b-c15f-40db-bd28-a7836b0191d6",
        "colab": {
          "base_uri": "https://localhost:8080/",
          "height": 128
        }
      },
      "source": [
        "from google.colab import drive\n",
        "drive.mount('/content/drive')"
      ],
      "execution_count": 0,
      "outputs": [
        {
          "output_type": "stream",
          "text": [
            "Go to this URL in a browser: https://accounts.google.com/o/oauth2/auth?client_id=947318989803-6bn6qk8qdgf4n4g3pfee6491hc0brc4i.apps.googleusercontent.com&redirect_uri=urn%3aietf%3awg%3aoauth%3a2.0%3aoob&response_type=code&scope=email%20https%3a%2f%2fwww.googleapis.com%2fauth%2fdocs.test%20https%3a%2f%2fwww.googleapis.com%2fauth%2fdrive%20https%3a%2f%2fwww.googleapis.com%2fauth%2fdrive.photos.readonly%20https%3a%2f%2fwww.googleapis.com%2fauth%2fpeopleapi.readonly\n",
            "\n",
            "Enter your authorization code:\n",
            "··········\n",
            "Mounted at /content/drive\n"
          ],
          "name": "stdout"
        }
      ]
    },
    {
      "cell_type": "markdown",
      "metadata": {
        "id": "eRj4HMJD3BDR",
        "colab_type": "text"
      },
      "source": [
        ""
      ]
    },
    {
      "cell_type": "markdown",
      "metadata": {
        "id": "_81IJzSlnTtY",
        "colab_type": "text"
      },
      "source": [
        "### Importing Libraries (Necessary)"
      ]
    },
    {
      "cell_type": "code",
      "metadata": {
        "id": "wU9XjFeem7O1",
        "colab_type": "code",
        "colab": {}
      },
      "source": [
        "import os\n",
        "import gc\n",
        "import sys\n",
        "import json\n",
        "\n",
        "import numpy as np # linear algebra\n",
        "import pandas as pd # data processing, CSV file I/O (e.g. pd.read_csv)\n",
        "import matplotlib.pyplot as plt\n",
        "\n",
        "import glob\n",
        "import pickle\n",
        "import spacy\n",
        "from spacy import displacy\n",
        "from spacy.matcher import Matcher\n",
        "from sklearn import decomposition\n",
        "from sklearn import datasets\n",
        "from sklearn.cluster import KMeans\n",
        "\n",
        "import nltk\n",
        "import re\n",
        "import string\n",
        "from nltk.corpus import stopwords                   #Stopwords corpus\n",
        "from nltk.stem import PorterStemmer                 # Stemmer\n",
        "from nltk.tokenize import RegexpTokenizer\n",
        "\n",
        "from sklearn.feature_extraction.text import CountVectorizer          \n",
        "from sklearn.feature_extraction.text import TfidfVectorizer     \n",
        "\n",
        "import gensim, re\n",
        "from gensim.models.doc2vec import TaggedDocument, LabeledSentence"
      ],
      "execution_count": 0,
      "outputs": []
    },
    {
      "cell_type": "markdown",
      "metadata": {
        "id": "2uylI2Ilndhs",
        "colab_type": "text"
      },
      "source": [
        "\n",
        "### Loading Metadata and data into DataFrame (Run only if you want to create the DataFrame again) -- *Approx Runtime = 9 mins*"
      ]
    },
    {
      "cell_type": "markdown",
      "metadata": {
        "id": "KkL07d0P3Prh",
        "colab_type": "text"
      },
      "source": [
        "Run only if you want to create the DataFrame again as c_df and export it as a full_data CSV\n",
        "\n",
        "---\n",
        "We loaded this data on kaggle. If you wanna run this on colab, make sure you have a directory '../input/CORD-19-research-challenge/metadata.csv' where the data is stored\n",
        "\n",
        "---\n",
        "Loaing Metadata\n",
        "\n"
      ]
    },
    {
      "cell_type": "code",
      "metadata": {
        "id": "jPzAmRqy3pf9",
        "colab_type": "code",
        "colab": {}
      },
      "source": [
        "meta = pd.read_csv('../input/CORD-19-research-challenge/metadata.csv', low_memory=False)"
      ],
      "execution_count": 0,
      "outputs": []
    },
    {
      "cell_type": "markdown",
      "metadata": {
        "id": "kIPbu0_94PKi",
        "colab_type": "text"
      },
      "source": [
        "Setting INPUT_DIR"
      ]
    },
    {
      "cell_type": "code",
      "metadata": {
        "id": "1QpyWcXM4T0a",
        "colab_type": "code",
        "colab": {}
      },
      "source": [
        "INPUT_DIR = '../input/CORD-19-research-challenge'"
      ],
      "execution_count": 0,
      "outputs": []
    },
    {
      "cell_type": "markdown",
      "metadata": {
        "id": "jo1zM5Di4Yin",
        "colab_type": "text"
      },
      "source": [
        "Loading all documents in DataFrame c_df"
      ]
    },
    {
      "cell_type": "code",
      "metadata": {
        "id": "X9crbUAL4cm-",
        "colab_type": "code",
        "colab": {}
      },
      "source": [
        "c_df = pd.DataFrame()\n",
        "\n",
        "for pdf_file in meta[meta.pdf_json_files.notnull()].pdf_json_files:\n",
        "    \n",
        "    current_data =  {\"paper_id\": None, \"title\": None, \"abstract\": None, \"body_text\": None}\n",
        "    \n",
        "    # Some entries have multiple paths separated by ';'\n",
        "    pdf_file = pdf_file.split(';')[0] # take the first one\n",
        "    \n",
        "    with open(os.path.join(INPUT_DIR, pdf_file), 'rb') as jdata:\n",
        "        pdf_data = json.load(jdata)\n",
        "        \n",
        "        current_data['paper_id'] = pdf_data['paper_id'] #Paper ID\n",
        "        current_data['title'] = pdf_data['metadata']['title'] #Paper Title\n",
        "        \n",
        "        #Joining all the text of abstract together, and storing it\n",
        "        abstract_all = [abstext['text'] for abstext in pdf_data['abstract']]\n",
        "        abstract = \"\\n \".join(abstract_all)\n",
        "\n",
        "        current_data['abstract'] = abstract\n",
        "\n",
        "        #Joining all the text of body together, and storing it\n",
        "        body_all = [bodtext['text'] for bodtext in pdf_data['body_text']]\n",
        "        body = \"\\n \".join(body_all)\n",
        "            \n",
        "        current_data['body_text'] = body\n",
        "        \n",
        "        c_df = c_df.append(current_data, ignore_index=True) #Adding it in the dataframe\n",
        "        \n",
        "c_df.to_csv('drive/My Drive/data/full_data.csv')"
      ],
      "execution_count": 0,
      "outputs": []
    },
    {
      "cell_type": "markdown",
      "metadata": {
        "id": "cQTTt5iB4mZn",
        "colab_type": "text"
      },
      "source": [
        "### Loading the DataFrame from pre-created csv file. (Run only if you wanna create further dataframe for new preprocessing of tf_idf, or word embedding ) -- *Approx time 15s*"
      ]
    },
    {
      "cell_type": "code",
      "metadata": {
        "id": "4yLJ0B775r9J",
        "colab_type": "code",
        "outputId": "ed1ed9cd-a6f2-438f-eae8-3ef5aefeca1a",
        "colab": {
          "base_uri": "https://localhost:8080/"
        }
      },
      "source": [
        "%%time\n",
        "\n",
        "c_df = pd.read_csv('drive/My Drive/data/full_data.csv', low_memory=False)"
      ],
      "execution_count": 0,
      "outputs": [
        {
          "output_type": "stream",
          "text": [
            "CPU times: user 12 s, sys: 3.2 s, total: 15.2 s\n",
            "Wall time: 25.4 s\n"
          ],
          "name": "stdout"
        }
      ]
    },
    {
      "cell_type": "markdown",
      "metadata": {
        "id": "sIt2WQGO6gxN",
        "colab_type": "text"
      },
      "source": [
        "Checking if it has loaded properly"
      ]
    },
    {
      "cell_type": "code",
      "metadata": {
        "id": "udGVqUJj6bx6",
        "colab_type": "code",
        "outputId": "892bc76f-c538-47f6-ae59-60a383aadd36",
        "colab": {
          "base_uri": "https://localhost:8080/",
          "height": 456
        }
      },
      "source": [
        "c_df.tail()\n"
      ],
      "execution_count": 0,
      "outputs": [
        {
          "output_type": "execute_result",
          "data": {
            "text/html": [
              "<div>\n",
              "<style scoped>\n",
              "    .dataframe tbody tr th:only-of-type {\n",
              "        vertical-align: middle;\n",
              "    }\n",
              "\n",
              "    .dataframe tbody tr th {\n",
              "        vertical-align: top;\n",
              "    }\n",
              "\n",
              "    .dataframe thead th {\n",
              "        text-align: right;\n",
              "    }\n",
              "</style>\n",
              "<table border=\"1\" class=\"dataframe\">\n",
              "  <thead>\n",
              "    <tr style=\"text-align: right;\">\n",
              "      <th></th>\n",
              "      <th>Unnamed: 0</th>\n",
              "      <th>abstract</th>\n",
              "      <th>body_text</th>\n",
              "      <th>paper_id</th>\n",
              "      <th>title</th>\n",
              "    </tr>\n",
              "  </thead>\n",
              "  <tbody>\n",
              "    <tr>\n",
              "      <th>48919</th>\n",
              "      <td>48919</td>\n",
              "      <td>NaN</td>\n",
              "      <td>An increasing number of xenobiotics are associ...</td>\n",
              "      <td>1c2ec5f7aa7133b58659aa5403e03f14da7ba1a1</td>\n",
              "      <td>2.11 Alterations in Blood Components</td>\n",
              "    </tr>\n",
              "    <tr>\n",
              "      <th>48920</th>\n",
              "      <td>48920</td>\n",
              "      <td>NaN</td>\n",
              "      <td>data. Such has been the case, for example, wit...</td>\n",
              "      <td>7d94ed06736e171ba688a2e72a622d6d9884f88c</td>\n",
              "      <td>Epidemiology in Perspective Descriptive Epidem...</td>\n",
              "    </tr>\n",
              "    <tr>\n",
              "      <th>48921</th>\n",
              "      <td>48921</td>\n",
              "      <td>MB78 is a virulent phage of Salmonella typhimu...</td>\n",
              "      <td>allow phages like P22 and 9NA to grow in its p...</td>\n",
              "      <td>45713f9e6085b078e4dc902790cf3e5cdca43151</td>\n",
              "      <td>Synthesis of a bacteriophage MB78 late protein...</td>\n",
              "    </tr>\n",
              "    <tr>\n",
              "      <th>48922</th>\n",
              "      <td>48922</td>\n",
              "      <td>NaN</td>\n",
              "      <td>Guide d'ORL © 2016 Elsevier Masson SAS. Tous d...</td>\n",
              "      <td>4534efb66ced62c3f0bf6490732a97194cf50635</td>\n",
              "      <td>NaN</td>\n",
              "    </tr>\n",
              "    <tr>\n",
              "      <th>48923</th>\n",
              "      <td>48923</td>\n",
              "      <td>NaN</td>\n",
              "      <td>Aminopeptidase N (CD13) is a widely expressed ...</td>\n",
              "      <td>f616fc58218452c55948631f421b119fda4f60df</td>\n",
              "      <td>NaN</td>\n",
              "    </tr>\n",
              "  </tbody>\n",
              "</table>\n",
              "</div>"
            ],
            "text/plain": [
              "       Unnamed: 0  ...                                              title\n",
              "48919       48919  ...               2.11 Alterations in Blood Components\n",
              "48920       48920  ...  Epidemiology in Perspective Descriptive Epidem...\n",
              "48921       48921  ...  Synthesis of a bacteriophage MB78 late protein...\n",
              "48922       48922  ...                                                NaN\n",
              "48923       48923  ...                                                NaN\n",
              "\n",
              "[5 rows x 5 columns]"
            ]
          },
          "metadata": {
            "tags": []
          },
          "execution_count": 107
        }
      ]
    },
    {
      "cell_type": "markdown",
      "metadata": {
        "id": "Ujoe7s84nnHe",
        "colab_type": "text"
      },
      "source": [
        "## **tf_idf**"
      ]
    },
    {
      "cell_type": "markdown",
      "metadata": {
        "id": "sKWpeQ3168Wo",
        "colab_type": "text"
      },
      "source": [
        "> ### Preprocessing the data and creating a dataframe (Run only if you want to preprocess the data again) -- *Approx Runtime = 15  mins*\n",
        "\n",
        "\n",
        "\n"
      ]
    },
    {
      "cell_type": "markdown",
      "metadata": {
        "id": "bujIBQNun7gY",
        "colab_type": "text"
      },
      "source": [
        " Dictionary for Covid-related terms\n",
        "\n",
        "\n"
      ]
    },
    {
      "cell_type": "code",
      "metadata": {
        "id": "AwaOKmJBnujB",
        "colab_type": "code",
        "colab": {}
      },
      "source": [
        "covid19_terms = {\n",
        "    '2019-nCoV',\n",
        "    '2019-nCoV.',\n",
        "    '2019-n-CoV',\n",
        "    '2019 n-CoV'\n",
        "    '2019 ncov',\n",
        "    '2019 n cov',\n",
        "    '2019n cov',\n",
        "    '2019ncov',\n",
        "    '2019-novel Coronavirus',\n",
        "    'coronavirus 2',\n",
        "    'coronavirus 2019',\n",
        "    'coronavirus-19',\n",
        "    'covid',\n",
        "    'COVID-19',\n",
        "    'COVID19',\n",
        "    'n cov 2019',\n",
        "    'ncov 2019',\n",
        "    'wuhan pneumonia',\n",
        "    'wuhan virus',\n",
        "    'wuhan coronavirus',\n",
        "    'CoViD 19',\n",
        "    'CoViD-19'\n",
        "    }"
      ],
      "execution_count": 0,
      "outputs": []
    },
    {
      "cell_type": "markdown",
      "metadata": {
        "id": "0_e1eDuSoHVy",
        "colab_type": "text"
      },
      "source": [
        "Function to check if body contains covid19_terms"
      ]
    },
    {
      "cell_type": "code",
      "metadata": {
        "id": "y2voyDAkn5oe",
        "colab_type": "code",
        "colab": {}
      },
      "source": [
        "def has_covid19(text):\n",
        "    for name in covid19_terms:\n",
        "        if text and name.lower() in text.lower():\n",
        "            return True\n",
        "    return False"
      ],
      "execution_count": 0,
      "outputs": []
    },
    {
      "cell_type": "markdown",
      "metadata": {
        "id": "0H-Xz5g_soME",
        "colab_type": "text"
      },
      "source": [
        "Remove docs if body text doesn't contain covid19_terms"
      ]
    },
    {
      "cell_type": "code",
      "metadata": {
        "id": "2OzSaafYoLXZ",
        "colab_type": "code",
        "outputId": "85d89758-dc50-488e-c5b8-daa6869abb39",
        "colab": {
          "base_uri": "https://localhost:8080/",
          "height": 974
        }
      },
      "source": [
        "df = c_df\n",
        "df['body_has_covid19'] = df.body_text.apply(has_covid19)\n",
        "dfBody=df['body_has_covid19']\n",
        "\n",
        "df=df[dfBody]\n",
        "df = df.drop(['body_has_covid19'], axis = 1)\n",
        "df"
      ],
      "execution_count": 0,
      "outputs": [
        {
          "output_type": "execute_result",
          "data": {
            "text/html": [
              "<div>\n",
              "<style scoped>\n",
              "    .dataframe tbody tr th:only-of-type {\n",
              "        vertical-align: middle;\n",
              "    }\n",
              "\n",
              "    .dataframe tbody tr th {\n",
              "        vertical-align: top;\n",
              "    }\n",
              "\n",
              "    .dataframe thead th {\n",
              "        text-align: right;\n",
              "    }\n",
              "</style>\n",
              "<table border=\"1\" class=\"dataframe\">\n",
              "  <thead>\n",
              "    <tr style=\"text-align: right;\">\n",
              "      <th></th>\n",
              "      <th>Unnamed: 0</th>\n",
              "      <th>abstract</th>\n",
              "      <th>body_text</th>\n",
              "      <th>paper_id</th>\n",
              "      <th>title</th>\n",
              "    </tr>\n",
              "  </thead>\n",
              "  <tbody>\n",
              "    <tr>\n",
              "      <th>3</th>\n",
              "      <td>3</td>\n",
              "      <td>The key enzyme in coronavirus polyprotein proc...</td>\n",
              "      <td>Transmissible gastroenteritis virus (TGEV) bel...</td>\n",
              "      <td>cf584e00f637cbd8f1bb35f3f09f5ed07b71aeb0</td>\n",
              "      <td>NaN</td>\n",
              "    </tr>\n",
              "    <tr>\n",
              "      <th>12</th>\n",
              "      <td>12</td>\n",
              "      <td>The exact origin of the cause of the Severe Ac...</td>\n",
              "      <td>Severe Acute Respiratory Syndrome (SARS), a ne...</td>\n",
              "      <td>59ffca26c9d1f881e4e37e7c5af626d72d858dc4</td>\n",
              "      <td>Relationship of SARS-CoV to other pathogenic R...</td>\n",
              "    </tr>\n",
              "    <tr>\n",
              "      <th>13</th>\n",
              "      <td>13</td>\n",
              "      <td>Because of the constant threat posed by emergi...</td>\n",
              "      <td>Over the past two decades, technological advan...</td>\n",
              "      <td>c63c4d58d170136b8d3b5a66424b5ac3f73a92d9</td>\n",
              "      <td>Viral Discovery and Sequence Recovery Using DN...</td>\n",
              "    </tr>\n",
              "    <tr>\n",
              "      <th>27</th>\n",
              "      <td>27</td>\n",
              "      <td>Background: Despite the passing of more than a...</td>\n",
              "      <td>In the spring of 2003, the Severe Acute Respir...</td>\n",
              "      <td>b499a41ad1d85a0e071b59e60065c874e534911d</td>\n",
              "      <td>Coronavirus 3CL pro proteinase cleavage sites:...</td>\n",
              "    </tr>\n",
              "    <tr>\n",
              "      <th>34</th>\n",
              "      <td>34</td>\n",
              "      <td>The molecular basis of severe acute respirator...</td>\n",
              "      <td>The causative agent for SARS has been identifi...</td>\n",
              "      <td>45d2d838cb3d5ae2dabd7bb7c82329b398d1c65f</td>\n",
              "      <td>BMC Infectious Diseases A human in vitro model...</td>\n",
              "    </tr>\n",
              "    <tr>\n",
              "      <th>...</th>\n",
              "      <td>...</td>\n",
              "      <td>...</td>\n",
              "      <td>...</td>\n",
              "      <td>...</td>\n",
              "      <td>...</td>\n",
              "    </tr>\n",
              "    <tr>\n",
              "      <th>48903</th>\n",
              "      <td>48903</td>\n",
              "      <td>An RT-PCR-hybridization was developed that amp...</td>\n",
              "      <td>Human coronaviruses were described initially i...</td>\n",
              "      <td>8d1498b4b95b0bf8f6d9577764fffcecd1bae360</td>\n",
              "      <td>Direct diagnosis of human respiratory coronavi...</td>\n",
              "    </tr>\n",
              "    <tr>\n",
              "      <th>48911</th>\n",
              "      <td>48911</td>\n",
              "      <td>NaN</td>\n",
              "      <td>Coronaviruses (CoV) are divided into four gene...</td>\n",
              "      <td>2e7f047e863ea96cf05fe606a7e8163d3217e1ab</td>\n",
              "      <td>Plausible mechanisms of Niclosamide as an anti...</td>\n",
              "    </tr>\n",
              "    <tr>\n",
              "      <th>48912</th>\n",
              "      <td>48912</td>\n",
              "      <td>NaN</td>\n",
              "      <td>This appendix has been provided by the authors...</td>\n",
              "      <td>a243da5abdf029948b1fa8beb600db0ab124da63</td>\n",
              "      <td>Supplementary appendix</td>\n",
              "    </tr>\n",
              "    <tr>\n",
              "      <th>48914</th>\n",
              "      <td>48914</td>\n",
              "      <td>NaN</td>\n",
              "      <td>A new emerged human coronavirus is reported in...</td>\n",
              "      <td>fbd0883af84e01bf3f6c874e9cb863934995a113</td>\n",
              "      <td>Anti-HCV, nucleotide inhibitors, repurposing a...</td>\n",
              "    </tr>\n",
              "    <tr>\n",
              "      <th>48923</th>\n",
              "      <td>48923</td>\n",
              "      <td>NaN</td>\n",
              "      <td>Aminopeptidase N (CD13) is a widely expressed ...</td>\n",
              "      <td>f616fc58218452c55948631f421b119fda4f60df</td>\n",
              "      <td>NaN</td>\n",
              "    </tr>\n",
              "  </tbody>\n",
              "</table>\n",
              "<p>9845 rows × 5 columns</p>\n",
              "</div>"
            ],
            "text/plain": [
              "       Unnamed: 0  ...                                              title\n",
              "3               3  ...                                                NaN\n",
              "12             12  ...  Relationship of SARS-CoV to other pathogenic R...\n",
              "13             13  ...  Viral Discovery and Sequence Recovery Using DN...\n",
              "27             27  ...  Coronavirus 3CL pro proteinase cleavage sites:...\n",
              "34             34  ...  BMC Infectious Diseases A human in vitro model...\n",
              "...           ...  ...                                                ...\n",
              "48903       48903  ...  Direct diagnosis of human respiratory coronavi...\n",
              "48911       48911  ...  Plausible mechanisms of Niclosamide as an anti...\n",
              "48912       48912  ...                             Supplementary appendix\n",
              "48914       48914  ...  Anti-HCV, nucleotide inhibitors, repurposing a...\n",
              "48923       48923  ...                                                NaN\n",
              "\n",
              "[9845 rows x 5 columns]"
            ]
          },
          "metadata": {
            "tags": []
          },
          "execution_count": 76
        }
      ]
    },
    {
      "cell_type": "markdown",
      "metadata": {
        "id": "T2a80EuUtNZp",
        "colab_type": "text"
      },
      "source": [
        "Preprocessing"
      ]
    },
    {
      "cell_type": "code",
      "metadata": {
        "id": "yXPhRfgusx3O",
        "colab_type": "code",
        "outputId": "64c7dc41-0c2e-4b38-b9b5-f349acdbf140",
        "colab": {
          "base_uri": "https://localhost:8080/",
          "height": 53
        }
      },
      "source": [
        "from nltk.corpus import stopwords\n",
        "nltk.download('stopwords')\n",
        "ps = PorterStemmer()\n",
        "stop_words = stopwords.words('english')\n",
        "stop_words.extend(['copyright','peer','holder','preprint','author','funder','https','doi','org','reviewed',\n",
        "                    'bioRxiv','et','found','sought','wondered','reserved','rights','reuse',\n",
        "                    'permission','allowed','without','right','using','http','although','create','however',\n",
        "                    'cc','by','license','biorxiv','medrxiv','fig','http','1101','et','al','figure',\n",
        "                    'nc','nd','4','0','international','made','available','under','for','this',\n",
        "                    'preprint','which','was','not','10','2020','01','30','927574','ma','02','03',\n",
        "                    'could','non','within','il','three','value','shown','pcr','rnl','ml','min','mm','new','would',\n",
        "                    'related','thus','per','site','like','known','may','also','used','know','e','g','settings','usefulness'])"
      ],
      "execution_count": 0,
      "outputs": [
        {
          "output_type": "stream",
          "text": [
            "[nltk_data] Downloading package stopwords to /root/nltk_data...\n",
            "[nltk_data]   Unzipping corpora/stopwords.zip.\n"
          ],
          "name": "stdout"
        }
      ]
    },
    {
      "cell_type": "code",
      "metadata": {
        "id": "qgIv6djPZdkY",
        "colab_type": "code",
        "colab": {}
      },
      "source": [
        "# preprocessing involving removing stop words, converting to lower case,\n",
        "# deleting non-alpha numeric character and stemming\n",
        "def preprocess(sentences):\n",
        "  temp = []\n",
        "  sentences = sentences.split('.')\n",
        "  for sentence in sentences:\n",
        "      # convert to lower case\n",
        "      sentence = sentence.lower()\n",
        "      tokenizer = RegexpTokenizer(r'\\w+')\n",
        "      # remove punctuations\n",
        "      tokens = tokenizer.tokenize(sentence)\n",
        "      # remove stopwords and perform stemming\n",
        "      words = [ps.stem(word) for word in tokens if word not in stop_words] \n",
        "      t = ' '.join(words)\n",
        "      temp.append(t)\n",
        "  return temp      "
      ],
      "execution_count": 0,
      "outputs": []
    },
    {
      "cell_type": "markdown",
      "metadata": {
        "id": "0ipD6dPo8rbP",
        "colab_type": "text"
      },
      "source": [
        "Applying preprocessing on dataframe"
      ]
    },
    {
      "cell_type": "code",
      "metadata": {
        "id": "7pAb7cOEoiQ0",
        "colab_type": "code",
        "outputId": "6716f522-03d0-4006-eb92-f651afd0a34c",
        "colab": {
          "base_uri": "https://localhost:8080/",
          "height": 53
        }
      },
      "source": [
        "%%time \n",
        "\n",
        "df['body_preprocessed'] = df.body_text.apply(preprocess)"
      ],
      "execution_count": 0,
      "outputs": [
        {
          "output_type": "stream",
          "text": [
            "CPU times: user 5min 33s, sys: 491 ms, total: 5min 34s\n",
            "Wall time: 5min 34s\n"
          ],
          "name": "stdout"
        }
      ]
    },
    {
      "cell_type": "markdown",
      "metadata": {
        "id": "OqcepmWi8vPW",
        "colab_type": "text"
      },
      "source": [
        "Export DataFrame into csv"
      ]
    },
    {
      "cell_type": "code",
      "metadata": {
        "id": "wc3wqyLDk4oF",
        "colab_type": "code",
        "colab": {}
      },
      "source": [
        "df.to_csv(\"drive/My Drive/data/tf_idf/df_for_tf_idf.csv\")"
      ],
      "execution_count": 0,
      "outputs": []
    },
    {
      "cell_type": "markdown",
      "metadata": {
        "id": "Fgpnm35D9M4b",
        "colab_type": "text"
      },
      "source": [
        "> ### Loading DataFrame from pre-created csv (Necessary to run the main algorithm)"
      ]
    },
    {
      "cell_type": "code",
      "metadata": {
        "id": "76UFe1rE-rvY",
        "colab_type": "code",
        "outputId": "10b65dca-cdf9-4c4a-877a-9158fc0ac1cb",
        "colab": {
          "base_uri": "https://localhost:8080/",
          "height": 1000
        }
      },
      "source": [
        "df = pd.read_csv('drive/My Drive/data/tf_idf/df_for_tf_idf.csv', low_memory=False)\n",
        "df = df.drop(df.columns[0], axis=1)\n",
        "df"
      ],
      "execution_count": 0,
      "outputs": [
        {
          "output_type": "execute_result",
          "data": {
            "text/html": [
              "<div>\n",
              "<style scoped>\n",
              "    .dataframe tbody tr th:only-of-type {\n",
              "        vertical-align: middle;\n",
              "    }\n",
              "\n",
              "    .dataframe tbody tr th {\n",
              "        vertical-align: top;\n",
              "    }\n",
              "\n",
              "    .dataframe thead th {\n",
              "        text-align: right;\n",
              "    }\n",
              "</style>\n",
              "<table border=\"1\" class=\"dataframe\">\n",
              "  <thead>\n",
              "    <tr style=\"text-align: right;\">\n",
              "      <th></th>\n",
              "      <th>Unnamed: 0.1</th>\n",
              "      <th>abstract</th>\n",
              "      <th>body_text</th>\n",
              "      <th>paper_id</th>\n",
              "      <th>title</th>\n",
              "      <th>body_preprocessed</th>\n",
              "    </tr>\n",
              "  </thead>\n",
              "  <tbody>\n",
              "    <tr>\n",
              "      <th>0</th>\n",
              "      <td>3</td>\n",
              "      <td>The key enzyme in coronavirus polyprotein proc...</td>\n",
              "      <td>Transmissible gastroenteritis virus (TGEV) bel...</td>\n",
              "      <td>cf584e00f637cbd8f1bb35f3f09f5ed07b71aeb0</td>\n",
              "      <td>NaN</td>\n",
              "      <td>['transmiss gastroenter viru tgev belong coron...</td>\n",
              "    </tr>\n",
              "    <tr>\n",
              "      <th>1</th>\n",
              "      <td>12</td>\n",
              "      <td>The exact origin of the cause of the Severe Ac...</td>\n",
              "      <td>Severe Acute Respiratory Syndrome (SARS), a ne...</td>\n",
              "      <td>59ffca26c9d1f881e4e37e7c5af626d72d858dc4</td>\n",
              "      <td>Relationship of SARS-CoV to other pathogenic R...</td>\n",
              "      <td>['sever acut respiratori syndrom sar newli ide...</td>\n",
              "    </tr>\n",
              "    <tr>\n",
              "      <th>2</th>\n",
              "      <td>13</td>\n",
              "      <td>Because of the constant threat posed by emergi...</td>\n",
              "      <td>Over the past two decades, technological advan...</td>\n",
              "      <td>c63c4d58d170136b8d3b5a66424b5ac3f73a92d9</td>\n",
              "      <td>Viral Discovery and Sequence Recovery Using DN...</td>\n",
              "      <td>['past two decad technolog advanc molecular bi...</td>\n",
              "    </tr>\n",
              "    <tr>\n",
              "      <th>3</th>\n",
              "      <td>27</td>\n",
              "      <td>Background: Despite the passing of more than a...</td>\n",
              "      <td>In the spring of 2003, the Severe Acute Respir...</td>\n",
              "      <td>b499a41ad1d85a0e071b59e60065c874e534911d</td>\n",
              "      <td>Coronavirus 3CL pro proteinase cleavage sites:...</td>\n",
              "      <td>['spring 2003 sever acut respiratori syndrom s...</td>\n",
              "    </tr>\n",
              "    <tr>\n",
              "      <th>4</th>\n",
              "      <td>34</td>\n",
              "      <td>The molecular basis of severe acute respirator...</td>\n",
              "      <td>The causative agent for SARS has been identifi...</td>\n",
              "      <td>45d2d838cb3d5ae2dabd7bb7c82329b398d1c65f</td>\n",
              "      <td>BMC Infectious Diseases A human in vitro model...</td>\n",
              "      <td>['caus agent sar identifi novel coronaviru 1 2...</td>\n",
              "    </tr>\n",
              "    <tr>\n",
              "      <th>...</th>\n",
              "      <td>...</td>\n",
              "      <td>...</td>\n",
              "      <td>...</td>\n",
              "      <td>...</td>\n",
              "      <td>...</td>\n",
              "      <td>...</td>\n",
              "    </tr>\n",
              "    <tr>\n",
              "      <th>9840</th>\n",
              "      <td>48903</td>\n",
              "      <td>An RT-PCR-hybridization was developed that amp...</td>\n",
              "      <td>Human coronaviruses were described initially i...</td>\n",
              "      <td>8d1498b4b95b0bf8f6d9577764fffcecd1bae360</td>\n",
              "      <td>Direct diagnosis of human respiratory coronavi...</td>\n",
              "      <td>['human coronavirus describ initi patient infe...</td>\n",
              "    </tr>\n",
              "    <tr>\n",
              "      <th>9841</th>\n",
              "      <td>48911</td>\n",
              "      <td>NaN</td>\n",
              "      <td>Coronaviruses (CoV) are divided into four gene...</td>\n",
              "      <td>2e7f047e863ea96cf05fe606a7e8163d3217e1ab</td>\n",
              "      <td>Plausible mechanisms of Niclosamide as an anti...</td>\n",
              "      <td>['coronavirus cov divid four genera α β cov in...</td>\n",
              "    </tr>\n",
              "    <tr>\n",
              "      <th>9842</th>\n",
              "      <td>48912</td>\n",
              "      <td>NaN</td>\n",
              "      <td>This appendix has been provided by the authors...</td>\n",
              "      <td>a243da5abdf029948b1fa8beb600db0ab124da63</td>\n",
              "      <td>Supplementary appendix</td>\n",
              "      <td>['appendix provid author give reader addit inf...</td>\n",
              "    </tr>\n",
              "    <tr>\n",
              "      <th>9843</th>\n",
              "      <td>48914</td>\n",
              "      <td>NaN</td>\n",
              "      <td>A new emerged human coronavirus is reported in...</td>\n",
              "      <td>fbd0883af84e01bf3f6c874e9cb863934995a113</td>\n",
              "      <td>Anti-HCV, nucleotide inhibitors, repurposing a...</td>\n",
              "      <td>['emerg human coronaviru report decemb 2019 wu...</td>\n",
              "    </tr>\n",
              "    <tr>\n",
              "      <th>9844</th>\n",
              "      <td>48923</td>\n",
              "      <td>NaN</td>\n",
              "      <td>Aminopeptidase N (CD13) is a widely expressed ...</td>\n",
              "      <td>f616fc58218452c55948631f421b119fda4f60df</td>\n",
              "      <td>NaN</td>\n",
              "      <td>['aminopeptidas n cd13 wide express ectoenzym ...</td>\n",
              "    </tr>\n",
              "  </tbody>\n",
              "</table>\n",
              "<p>9845 rows × 6 columns</p>\n",
              "</div>"
            ],
            "text/plain": [
              "      Unnamed: 0.1  ...                                  body_preprocessed\n",
              "0                3  ...  ['transmiss gastroenter viru tgev belong coron...\n",
              "1               12  ...  ['sever acut respiratori syndrom sar newli ide...\n",
              "2               13  ...  ['past two decad technolog advanc molecular bi...\n",
              "3               27  ...  ['spring 2003 sever acut respiratori syndrom s...\n",
              "4               34  ...  ['caus agent sar identifi novel coronaviru 1 2...\n",
              "...            ...  ...                                                ...\n",
              "9840         48903  ...  ['human coronavirus describ initi patient infe...\n",
              "9841         48911  ...  ['coronavirus cov divid four genera α β cov in...\n",
              "9842         48912  ...  ['appendix provid author give reader addit inf...\n",
              "9843         48914  ...  ['emerg human coronaviru report decemb 2019 wu...\n",
              "9844         48923  ...  ['aminopeptidas n cd13 wide express ectoenzym ...\n",
              "\n",
              "[9845 rows x 6 columns]"
            ]
          },
          "metadata": {
            "tags": []
          },
          "execution_count": 100
        }
      ]
    },
    {
      "cell_type": "code",
      "metadata": {
        "id": "sCcIdLweLmfP",
        "colab_type": "code",
        "outputId": "bf728a63-0b49-450e-f0b7-54a424bae1e4",
        "colab": {
          "base_uri": "https://localhost:8080/",
          "height": 283
        }
      },
      "source": [
        "df.tail()"
      ],
      "execution_count": 0,
      "outputs": [
        {
          "output_type": "execute_result",
          "data": {
            "text/html": [
              "<div>\n",
              "<style scoped>\n",
              "    .dataframe tbody tr th:only-of-type {\n",
              "        vertical-align: middle;\n",
              "    }\n",
              "\n",
              "    .dataframe tbody tr th {\n",
              "        vertical-align: top;\n",
              "    }\n",
              "\n",
              "    .dataframe thead th {\n",
              "        text-align: right;\n",
              "    }\n",
              "</style>\n",
              "<table border=\"1\" class=\"dataframe\">\n",
              "  <thead>\n",
              "    <tr style=\"text-align: right;\">\n",
              "      <th></th>\n",
              "      <th>abstract</th>\n",
              "      <th>body_text</th>\n",
              "      <th>paper_id</th>\n",
              "      <th>title</th>\n",
              "    </tr>\n",
              "  </thead>\n",
              "  <tbody>\n",
              "    <tr>\n",
              "      <th>9840</th>\n",
              "      <td>An RT-PCR-hybridization was developed that amp...</td>\n",
              "      <td>['human coronavirus describ initi patient infe...</td>\n",
              "      <td>8d1498b4b95b0bf8f6d9577764fffcecd1bae360</td>\n",
              "      <td>Direct diagnosis of human respiratory coronavi...</td>\n",
              "    </tr>\n",
              "    <tr>\n",
              "      <th>9841</th>\n",
              "      <td>NaN</td>\n",
              "      <td>['coronavirus cov divid four genera α β cov in...</td>\n",
              "      <td>2e7f047e863ea96cf05fe606a7e8163d3217e1ab</td>\n",
              "      <td>Plausible mechanisms of Niclosamide as an anti...</td>\n",
              "    </tr>\n",
              "    <tr>\n",
              "      <th>9842</th>\n",
              "      <td>NaN</td>\n",
              "      <td>['appendix provid author give reader addit inf...</td>\n",
              "      <td>a243da5abdf029948b1fa8beb600db0ab124da63</td>\n",
              "      <td>Supplementary appendix</td>\n",
              "    </tr>\n",
              "    <tr>\n",
              "      <th>9843</th>\n",
              "      <td>NaN</td>\n",
              "      <td>['new emerg human coronaviru report decemb 201...</td>\n",
              "      <td>fbd0883af84e01bf3f6c874e9cb863934995a113</td>\n",
              "      <td>Anti-HCV, nucleotide inhibitors, repurposing a...</td>\n",
              "    </tr>\n",
              "    <tr>\n",
              "      <th>9844</th>\n",
              "      <td>NaN</td>\n",
              "      <td>['aminopeptidas n cd13 wide express ectoenzym ...</td>\n",
              "      <td>f616fc58218452c55948631f421b119fda4f60df</td>\n",
              "      <td>NaN</td>\n",
              "    </tr>\n",
              "  </tbody>\n",
              "</table>\n",
              "</div>"
            ],
            "text/plain": [
              "                                               abstract  ...                                              title\n",
              "9840  An RT-PCR-hybridization was developed that amp...  ...  Direct diagnosis of human respiratory coronavi...\n",
              "9841                                                NaN  ...  Plausible mechanisms of Niclosamide as an anti...\n",
              "9842                                                NaN  ...                             Supplementary appendix\n",
              "9843                                                NaN  ...  Anti-HCV, nucleotide inhibitors, repurposing a...\n",
              "9844                                                NaN  ...                                                NaN\n",
              "\n",
              "[5 rows x 4 columns]"
            ]
          },
          "metadata": {
            "tags": []
          },
          "execution_count": 28
        }
      ]
    },
    {
      "cell_type": "code",
      "metadata": {
        "id": "psT6luu3N3IY",
        "colab_type": "code",
        "outputId": "08551228-4c8e-499c-a241-6e1fe663a22e",
        "colab": {
          "base_uri": "https://localhost:8080/",
          "height": 55
        }
      },
      "source": [
        "df.iat[0, 1]"
      ],
      "execution_count": 0,
      "outputs": [
        {
          "output_type": "execute_result",
          "data": {
            "text/plain": [
              "\"['transmiss gastroenter viru tgev belong coronavirida famili posit strand rna virus', 'coronavirus largest rna viral genom known date 28 500 nucleotid case tgev share similar genom organ common transcript translat strategi arterivirida den boon et al', '1991 cavanagh 1997', 'tgev infect associ sever often fatal diarrhoea young pig review see enjuan van der zeijst 1995 saif wesley 1999', 'viral protein requir tgev genom replic transcript encod replicas gene eleouet et al', '1995 penz et al', '2001', 'gene encod two replic polyprotein pp1a 447 kda pp1ab 754 kda process viru encod proteinas produc function subunit replic complex review ziebuhr et al', '2000', 'central c proxim region pp1a pp1ab process 33', '1 kda viral cystein proteinas call main proteinas pro altern thè 3c like proteinas 3cl pro', 'name 3c like proteinas introduc origin similar substrat speci citi coronaviru pro picornaviru 3c proteinas 3c pro identi cation cystein princip catalyt residu context predict two b barrel fold gorbalenya et al', '1989a b', 'meanwhil howev sever studi reveal signi cant differ activ site domain structur coronaviru picornaviru enzym liu brown 1995 lu denison 1997 ziebuhr et al', '1997 ziebuhr et al', '2000', 'also crystal structur report number picornaviru 3c proteinas allair et al', '1994 matthew et al', '1994 bergmann et al', '1997 mosimann et al', '1997 use predict three dimension structur coronaviru main proteinas', 'larg phylogenet distanc two group enzym use term coronaviru pro throughout articl', 'sequenc comparison figur 1 experiment data obtain coronaviru homologu allow us predict matur form tgev pro releas pp1a pp1ab autoproteolyt cleavag ank gln ser ala site eleouet et al', '1995', 'accordingli tgev pro 302 amino acid residu correspond pp1a pp1ab residu 2879 3180', 'vivo vitro analys avian infecti bronchiti viru ibv mous hepat viru mhv human coronaviru 229e hcov 229e pro activ shown consist proteinas cleav replicas polyprotein 11 conserv site therefor seem reason conclud pro mediat process pathway conserv coronavirus includ tgev', 'previou theoret studi experiment data led follow conclus bazan fletterick 1988 gorbalenya et al', '1989a b liu brown 1995 lu et al', '1995 ziebuhr et al', '1995 ziebuhr et al', '1997 ziebuhr et al', '2000 lu denison 1997 seybert et al', '1997 ziebuhr siddel 1999 ng liu 2000 coronaviru main proteinas employ conserv cystein histidin residu catalyt site', 'tgev pro cys144 his41', 'debat exist third residu catalyt centr', 'common picornaviru 3c proteinas catalyt centr coronaviru pro predict embed chymotrypsin like two b barrel structur cystein rather serin serv princip nucleophil', 'ii coronaviru main proteinas well de ned substrat speci citi', 'known cleavag site contain bulki hydrophob residu mainli leucin p2 posit glutamin p1 posit small structur coronaviru main proteinas reveal combin chymotrypsin fold extra helic domain embo journal vol', '21', '13 pp', '3213 3224 2002 ã european molecular biolog organ aliphat residu p1 posit', 'iii coronaviru main proteinas possess larg c termin domain 110 amino acid residu found rna viru 3c like proteinas', 'character recombin protein 33 28 34 c termin amino acid residu delet ibv mhv hcov main proteinas respect result consist dramat loss proteolyt activ suggest c termin domain pro contribut proteolyt activ und ned mechan', '1', '96 ê tgev pro crystal structur report herein reveal structur detail uniqu catalyt system facilit interpret previous publish mutagenesi studi least part remain specul due complet lack structur inform 3c like enzym', 'structur determin mad phase presenc 10 methionin residu tgev pro molecul suggest selenomethionin base multi wavelength anomal dispers mad hendrickson et al', '1990 could use solv phase problem', 'unit cell dimens crystal 72', '8 ê b 160', '1 ê c 88', '9 ê b 94', '3 space group p2 1 self rotat calcul indic presenc mani six tgev pro molecul per asymmetr unit', 'mad phase process nalli succeed locat 48 60 crystallograph independ selenium site shake bake approach direct method week miller 1999 without recours heavi atom deriv method phase see materi method', 'phase obtain result readili interpret electron densiti map', 'qualiti model six copi design f tgev pro asymmetr unit crystal could built well de ned electron densiti figur 2 cover almost 302 amino acid residu monom', 'except two c termin residu visibl six chain', 'monom e f also lack electron densiti residu 300', 'thompson et al', '1997 correct manual basi three dimension structur tgev pro', 'correspond sequenc fipv strain 79 1146 hcov strain 229e bovin coronaviru bcov isol lun mhv strain jhm ibv strain beaudett deriv replic polyprotein respect virus whose sequenc deposit ddbj embl genbank databas access no fipv af326575 hcov x69721 bcov af391542 mhv m55148 ibv m95169 tgev aj271965', 'b strand helic reveal tgev pro crystal structur studi shown sequenc align see also figur 4 5', 'black background colour indic catalyt cystein histidin residu', 'grey background colour indic key residu s1 subsit tgev pro his162 equival coronaviru main proteinas', 'also shown grey phenylalanin tyrosin residu tgev pro phe139 tyr160 propos stabil neutral state his162 see text detail', 'nal model compris 1798 amino acid residu 1006 water molecul well 27 sulfat ion nine dioxan molecul six 2 methyl 2 4 pentanediol mpd molecul crystal medium', 'nement converg nal r factor 0', '210 r free bru ènger 1992 0', '256 good stereochemistri', 'altogeth 88', '4 amino acid residu found favour region ramachandran plot 10', '8 addit allow region', 'residu asn70 asn71 ser279 region gener allow clear electron densiti', 'six tgev pro monom present asymmetr unit arrang three dimer figur 3', 'monom fold three domain rst two antiparallel b barrel reminisc found serin proteinas chymotrypsin famili figur 4', 'residu 8 100 form domain residu 101 183 make domain ii', 'connect c termin domain iii form long loop compris residu 184 199', 'domain iii residu 200 302 contain novel arrang helic', 'deep cleft domain ii line hydrophob residu constitut substrat bind site', 'catalyt site situat centr cleft', 'interior b barrel domain consist entir hydrophob residu', 'short helix helix tyr53 ser58 close barrel like lid', 'domain ii smaller domain also smaller homolog domain ii chymotrypsin hepat viru hav 3c pro tsukada blow 1985 allair et al', '1994 bergmann et al', '1997', 'sever secondari structur element hav 3c pro strand b2ii cii interven loop miss tgev pro', 'also domain ii barrel tgev pro far perfect figur 4', 'segment gly135 ser146 form part barrel even though consist mostli consecut loop turn', 'fact contrast domain structur align domain ii proven dif cult', 'superposit domain ii tgev pro onto hav 3c pro yield r', '', '', '', '1', '85 0', '05 ê 114 equival 184 compar c pair domain ii alon display r', '', '', '', '3', '25 0', '28 ê 57 85 c pair', 'domain iii compos mostli antiparallel helic loop connect', 'crossov angl 90 helic b e 30 b 20 c e 80 e f wherea c b b f parallel see figur 5', 'interhel contact mediat hydrophob side chain', 'loop helic quit long interstiti space domain iii', 'databas search holm sander 1993 gilbert et al', '1999 reveal protein protein domain topolog domain iii', 'n termin segment residu 1 5 polypeptid chain fold onto domain iii place n terminu protein within 17', '0 t2', '7 ê c terminu figur 4', 'six copi tgev pro asymmetr unit crystal highli similar', 'activ site coronaviru pro similar picornaviru 3c proteinas predict earlier gorbalenya et al', '1989b', 'mutual arrang nucleophil cys144 gener acid base catalyst his41 tgev pro ident hav 3c pro cys172 his44 residu ser195 his57 residu chymotrypsin', 'distanc sulfur atom cys144 n e2 his41 4', '05 t0', '04 ê', 'e', 'longer correspond cystein histidin distanc hav 3c pro 3', '92 ê bergmann et al', '1997 polioviru pv 3c pro 3', '4 ê mosimann et al', '1997 papain 3', '65 ê kamphui et al', '1984 figur 6b c', 'contrast papain agreement picornaviru 3c proteinas sulfur atom plane histidin imidazol', 'clear indic differ fourier synthesi figur 6a cys144 oxid least stage sul nic acid 2 probabl sulfon acid 3 six copi tgev pro crystal', 'oxid could occur time requir crystal x ray data collect would lead inactiv enzym', 'nement correspond deriv howev success', 'gener assum nativ state activ site papain like cystein proteinas thiolat imidazolium ion pair form cystein histidin residu polga âr 1974', 'proteinas papain famili asparagin third member catalyt triad', 'chymotrypsin member serin proteinas famili catalyt triad consist ser195', '', '', 'his57', '', '', 'asp102', 'hav 3c pro asp84 present requir posit although side chain point away his44 make role disput malcolm 1995 bergmann et al', '1997', 'pv 3c pro human rhinoviru hrv 3c pro hrv 2a pro glutam aspart proper orient accept hydrogen bond activ site histidin matthew et al', '1994 mosimann et al', '1997 petersen et al', '1999', 'contrast tgev pro val84 correspond posit side chain point away catalyt site figur 6b c', 'buri water molecul found place normal would occupi side chain third member catalyt triad', 'water molecul make hydrogen bond his41 n d1 his163 n d1 asp186 d1 figur 6b', 'his163 conserv among coronaviru main proteinas substitut leucin pro h163l signi cant effect proteolyt activ standard peptid assay see materi method compar activ wild type pro tabl', 'asp186 make salt bridg arg40 appear requir maintain activ site geometri sinc asp186 arg40 absolut conserv among coronavirus', 'interact polypeptid segment 184 199 connect domain ii iii probabl involv substrat bind see held proper posit', 'taken togeth data contradict direct involv his163 asp186 catalysi make tgev pro clear case viral cystein proteinas employ catalyt dyad', 'substrat hydrolysi cystein serin proteinas occur coval tetrahedr intermedi result attack activ site nucleophil carbonyl carbon scissil bond', 'develop oxyanion stabil strong hydrogen bond donat amid group enzym', 'call oxyanion hole also found tgev pro', 'made main chain amid gly142 thr143 cys144 figur 6b', 'speci citi pro limit rang amino acid p1 p2 p4 posit resembl substrat speci citi picornaviru 3c proteinas palmenberg 1990 ziebuhr et al', '2000', 'lead us believ similarli 3c pro matthew et al', '1994 bergmann et al', '1997 mosimann et al', '1997 speci c substrat bind pro ensur well de ned s4 s2 s1 speci citi pocket', 'order visual potenti interact substrat model pentapeptid repres p5 p1 residu tgev pro cleavag site asn ser thr leu gln pp1a amino acid 2874 2878 substratebind cleft pro figur 7', 'model base assumpt pro bind substrat manner analog found complex chymotrypsin like proteinas peptid inhibitor', 'x ray structur shown p4 p1 residu peptid inhibitor assum common main chain conform bound proteinas p4 p3 residu adopt b conform p2 p1 residu assum speci c main chain conform suitabl place side chain pre form s1 s2 speci citi pocket structur tgev main proteinas jame et al', '1980 fujinaga et al', '1985 1987 matthew et al', '1999', 'studi lead us suggest residu p5 p3 pro substrat may form antiparallel b sheet segment 164 167 long strand eii one side segment 186 191 link domain ii iii', 'hydrogen bond interact like main chain amid carbonyl oxygen atom substrat residu thr p3 ser p4 asn p5 main chain atom tgev pro residu glu165 ser189 gly167 see figur 7', 'shown hav hrv pv 3c pro enzym imidazol side chain conserv histidin locat centr hydrophob pocket interact p1 carboxamid side chain substrat', 'interact gener accept determin picornaviru 3c pro speci citi glutamin p1 matthew et al', '1994 matthew et al', '1999 bergmann et al', '1997 mosimann et al', '1997', 'mutat analys reveal replac his162 complet abolish proteolyt activ hcov felin infecti sequenc 15mer substrat peptid h 2 n vsvnstlqsglrkma cooh deriv n termin pro autoprocess site residu shown bold indic scissil bond', 'activ wild type pro encompass 302 residu taken 100 mean valu three experi vari 15 shown', 'proteolyt activ determin use peptid base cleavag assay see materi method', 'periton viru fipv pro enzym', 'structur show imidazol side chain his162 posit suitabl interact p1 glutamin side chain', 'his162 locat bottom hydrophob pocket form residu phe139 main chain atom ile140 leu164 glu165 his171', 'side chain glu165 form ion pair 2', '96 0', '14 ê his171', 'salt bridg peripheri molecul form part outer wall s1 subsit', 'accordingli mutant hcov 229e pro residu equival his171 replac alanin serin threonin retain signi cant proteolyt activ', 'order interact p1 glutamin side chain substrat his162 maintain neutral state wide ph rang', 'probabl achiev two import interact stack onto phenyl ring phe139 distanc 3', '53 0', '18 ê ii accept hydrogen bond buri tyr160 hydroxyl group hydrogen bond partner', 'role propos hydroxyl group tyr160 strongli support fipv pro mutagenesi studi proteolyt activ y160f y160g y160a y160t mutant shown dramat reduc', 'tyr160 part absolut conserv coronaviru pro sequenc signatur 160 tyr x 162 figur 1 2 wherea gli ala x found equival sequenc posit 3c 3c like proteinas gorbalenya et al', '1989a', 'accordingli 3c 3clike proteinas stabil histidin neutral tautomer state ensur residu', 'notabl case pv 3c pro involv tyrosin residu tyr138 howev provid differ part structur b strand cii mosimann et al', '1997', 'hav 3c pro mechan propos bergmann et al', '1997', 'halfway s1 subsit tgev pro dumbbel shape electron densiti assign two water molecul although theoret close one anoth 2', '10 0', '16 ê', 'one make hydrogen bond n e2 his162 second one unusu water make addit contact', 'model substrat complex two water molecul mark posit carboxamid group p1 glutamin side chain', 'coronaviru main proteinas strong prefer leucin p2 posit ziebuhr et al', '2000', 'put s2 subsit identi ed structur hydrophob pocket suitabl posit larg enough accommod leucin side chain easili', 's2 pocket line side chain leu164 main chain form part s1 subsit see pro188 ile51 his41 thr47 figur 7', 'electron densiti map part s2 subsit six copi monom harbour extra electron densiti interpret mpd molecul crystal medium', 'hav 3c pro correspond subsit form differ part polypeptid chain', 'also smaller accommod side chain serin threonin bergmann et al', '1997', 'quaternari arrang proteinas homodim three copi asymmetr unit monom b c e f', 'dimer approxim c 2 symmetri figur 3 1580 t199 ê 2 monom', 'e', '11 12 solventaccess surfac buri upon dimer', 'dimer format driven mainli intermolecular interact domain ii iii one monom n termin residu see structur tgev main proteinas detail', 'contrast domain iii domain iii interfac appear consequ rather caus intermolecular interact', 'involv rel small area 337 45 ê 2 compris two hydrogen bond amid group gly281 molecul main chain oxygen ser279 molecul b well symmetri mate gly281b', '', '', 'ser279a 3', '22 0', '37 ê averag six monom', 'interestingli n termin residu monom rel close substrat bind site monom dimer', 'follow observ monom hold true monom', 'nh 3 group ser1a p1 residu autocleavag reaction tgev pro 11', '9 1', '6 ê activ site cys144b g second molecul dimer much 34', '2 0', '9 ê away activ site cystein', 'ser1a contact residu particip substrat bind site monom b', 'nh 3 group make salt bridg 4', '99 1', '04 ê carboxyl glu165b figur 8', 'glutam absolut conserv among coronavirus part s1 subsit see also interact his171', 'although two side chain form wall speci citi site polar group orient toward surfac proteinas molecul away substrat p1 glutamin', 'intermolecular ionic interact arg4a glu286b 6', '0 0', '7 ê appear play role posit n termin residu', '2 fold non crystallograph symmetri nc interact occur arg4b glu286a', 'residu 6a 8a form short b strand interact strand cii monom b val124b', 'interact n terminu molecul region next s1 subsit molecul b constitut perfect', 'given fact p residu serin cystein proteinas constitut leav group cleavag reaction coronaviru main proteinas subject stringent speci citi requir quit conceiv autoproteolysi n terminu one monom slide activ site partner monom adopt posit seen crystal structur', 'e', 'ser1a interact glu165b outer wall s1 subsit', 'turn would suggest dimer see correspond product autolysi reaction occur tran', 'molecular model reveal bind pro n terminu activ site cleft molecul would requir remodel entir n termin segment beyond residu 1 13 data shown make cleavag ci less like', 'addit experiment evid support conclus', 'first dilut experi mhv pro translat vitro contradict ci cleavag activ lu et al', '1996', 'secondli fact earli infect pro remain part rel stabl 150 kda precursor protein ank hydrophob domain schiller et al', '1998 argu rapid autoprocess ci', 'propos model intermolecular selfprocess would impli compon replic complex could rst anchor membran', 'e', 'site rna replic uncleav form later precursor protein accumul high local concentr pro releas intermolecular cleavag therebi trigger complet spectrum tran process reaction', 'speci c conform n termin segment allow squeez residu 1 8 domain ii iii monom domain ii iii monom b see figur 8', 'context n terminu also interact domain ii iii protom', 'exampl side chain amino group lys5a make strong intramolecular hydrogen bond ser110a g domain ii 2', '83 0', '15 ê glu286a main chain oxygen 2', '80 0', '07 ê well glu291a e1 2', '74 0', '13 ê domain iii', 'furthermor side chain leu3a complet hydrophob patch domain iii includ phe206a ala209a phe287a val292a c b atom gln295a met296a residu belong helic b f', 'sequenc member coronaviru proteinas famili hydrophob residu posit 3 glycin absolut conserv posit 2 see figur 1', 'latter residu adopt l conform easili access glycin', 'investig function signi canc interact recombin protein pro d1 5 n termin residu ser1 lys5 remov pro sequenc express test proteolyt activ tran cleavag assay use 15mer peptid repres n termin tgev pro autoprocess site', 'shown tabl activ pro d1 5 decreas 0', '3 pro activ', 'conclud data inde residu 1 5 may critic involv stabil mutual orient domain ii iii thu indirectli maintain proper orient interven loop region residu 184 199', 'hypothesi correct delet domain iii similarli detriment effect proteolyt activ fact publish data see introduct seem support conclus', 'corrobor hypothesi addit set pro mutant character use structur inform remov domain iii complet', 'approach probabl domain iii misfold might caus pro inactiv previou studi use randomli truncat coronaviru main proteinas lu denison 1997 ziebuhr et al', '1997 ng liu 2000 signi cantli reduc', 'tgev pro delet mutant test activ compris domain ii pro d184 302 ii domain ii togeth entir loop region pro d200 302 iii domain ii combin loop region lack n termin residu pro d1 5 d200 302', 'tabl show pro d200 302 clearli detect albeit signi cantli reduc activ 0', '4 pro', 'similarli mutant pro d1 5 d200 302 signi cantli reduc activ 0', '6 pro', 'sharp contrast activ detect pro d184 302 activ site mutant pro c144a latter use neg control', 'fact residu 184 199 prove indispens proteolyt activ support model substrat bind figur 7 residu loop predict critic involv format b sheet type structur substrat see', 'data also show intact n terminu c termin domain requir full activ', 'structur suggest addit ahel domain iii well n termin residu help x domain ii loop 184 199 catalyt compet orient', 'interest investig whether similar mechan also oper 3c like proteinas smaller c termin domain e', 'g', 'arterivirus potyvirus ziebuhr et al', '2000', 'beyond presum role proteolyt activ domain iii may function remain determin', 'contrast picornaviru 3c proteinas rna bind activ well establish andino et al', '1993 leong et al', '1993 xiang et al', '1995 pro structur support activ coronaviru main proteinas', 'thu calcul electrostat potenti nichol et al', '1991 reveal overal basic charact domain iii distinct patch basic aromat residu data shown', 'appli domain ii', 'also conserv picornaviru sequenc motif kfrdi locat domain ii well small helic revers turn togeth form rnabind site hav 3c pro bergmann et al', '1997 miss tgev pro structur', 'crystal structur tgev pro show coronavirus evolv proteinas thiolat imidazolium catalyt dyad combin two b barrel fold', 'framework extend novel helic domain togeth n termin residu 1 5 appear involv proteolyt activ maintain proper posit presum substrat bind loop 184 199', 'con dent rst crystal structur non picornavir chymotrypsinlik cystein proteinas facilit molecular model member huge famili rna viral 3c like enzym structur inform still lack', 'protein puri cation crystal recombin tgev pro express puri ed previous describ hcov fipv main proteinas', 'brie code sequenc tgev pro insert xmni bamhi site pmal c2 plasmid dna new england biolab', 'result plasmid pmal pro use transform escherichia coli tb1 cell', 'maltos bind protein mbp tgev pro fusion protein puri ed amylos agaros chromatographi cleav factor xa recombin pro residu ser1 gln302 puri ed hydrophob interact anion exchang size exclus chromatographi', 'puri ed concentr tgev pro 12', '5 mg ml store 12 mm tri hcl ph 7', '5 120 mm nacl 1 mm dithiothreitol dtt 0', '1 mm edta', 'protein solut use crystal pro hang drop vapour diffus method 4 c', 'best crystal triangular shape dimens 0', '3 q 0', '25 q 0', '3 mm obtain use 100 mm hepe ph 8', '8 1', '8 ammonium sulfat 6 mpd 5 mm dtt 4 dioxan reservoir grew 10 day', 'pro structur could solv use convent molecular replac techniqu', 'therefor selenomethionin semet substitut tgev pro produc', 'code sequenc mbp tgev pro fusion protein insert pet 11d novagen result plasmid pet tgev pro use transform methionin auxotroph 834 de3 e', 'coli strain novagen propag minim medium contain 40 mg ml seleno lmethionin', 'semet substitut tgev pro puri ed describ concentr 9', '5 mg ml', 'crystal semet substitut pro grown decrib nativ protein use 2 ammonium sulfat 8 mpd', 'crystal use data collect rins mustard oil cryocool liquid nitrogen', 'diffract data 1', '95 ê resolut collect nativ crystal 100 k x ray diffract beamlin elettra sincrotron triest triest itali use mar165 ccd detector tabl ii', 'mad data set collect 2', '8 ê resolut four wavelength use mar165 ccd detector beamlin bw7a embl outstat desi hamburg germani', 'semet data set collect f maximum f minimum wavelength', 'addit data collect remot wavelength se k edg tabl ii', 'data integr scale perform use denzo scalepack otwinowski minor 1997', 'unit cell dimens well self rotat function almn ccp4 1994 impli sever monom present asymmetr unit', 'matthew coef cient matthew 1968 2', '3 ê 3 da solvent content 51 obtain assum six molecul asymmetr unit', 'bottleneck structur determin identi cation 60 selenium posit six monom 10 se', 'solv problem snb v2', '0 week miller 1999 requir data increas precis obtain averag sever data set monitor process r pim weiss hilgenfeld 1997', 'combin three merg peakwavelength data set two merg edg wavelength data set redund 18 abl obtain 105 solut 5000 trial signi cantli reduc minim function valu r min 0', '49 cc 0', '51 hauptman 1991 detail publish elsewher', 'posit best 60 atom solut snb examin nc', 'total 37 posit found obey 2 fold nc', 'symmetri predict 11 posit', '48 posit use mlphare ccp4 1994 phase follow solvent atten nc averag dm cowtan main 1996', 'result electron densiti map suf cient qualiti chain trace', 'rst monom built manual experiment electron densiti map use program jone et al', '1991', 'monom gener nc', 'nc restraint appli initi stage nement low resolut later gradual releas resolut limit extend 1', '96 ê', 'cycl adjust model subsequ nement use program cn bru ènger et al', '1998 converg r free 0', '256 crystallograph r factor 0', '210', 'data qualiti nement statist given tabl iii', 'qualiti structur model agreement structur factor check program procheck laskowski et al', '1993 whatcheck vriend 1990 sfcheck vaguin et al', '1999', 'solvent access calcul use algorithm lee richard 1971 program naccess use solvent probe radiu 1', '4 ê', 'molecular diagram drawn use molscript krauli 1991 render raster 3d bacon anderson 1988', 'atom coordin structur factor submit rcsb protein data bank access code 1lvo', '5', '4 2', '9 3', '8 3', '8 3', '9 3', '8 3', '9 3', '7 3', '6 2', '9 c 13', '5 4', '0 5', '4 4', '7 4', '8 6', '1 4', '1 4', '1 4', '9 2', '5 x ray diffract beamlin elettra triest equip mar ccd detector', 'b wiggler beamlin embl desi hamburg equip mar ccd detector', 'c highest resolut bin parenthes', 'ection point peak wavelength collect invers beam mode wherea remot wavelength collect low energi side se edg littl anomal signal result invers beam data collect', 'e p1 p2 p3 peak wavelength 1 2 3 e1 e2 edg wavelength 1 2 point ection h1 h2 high energi remot wavelength 1 2 l1 low energi remot wavelength', 'f r merg 100 q hkl hkl observ intens averag intens multipl measur', 'g r rim 100 q n n 1 1 2 hkl hkl n number time given ection measur', 'qualiti indic correspond r sym independ redund measur', 'h r pim 100 q 1 n 1 1 2 hkl hkl', 'factor provid inform averag precis data', 'express pro protein n c termin delet pro d184 302 pro d200 302 pro d1 5 pro d1 5 d200 302 correspond pro code sequenc ampli ed pcr insert xmni bamhi digest pmal c2 plasmid dna', 'substitut pro residu cys144 ala his163 leu correspond codon replac pmal pro site direct mutagenesi use recombin pcr method yao et al', '1992', 'detail primer use clone mutagenesi amino acid sequenc recombin protein express test proteolyt activ given tabl', 'plasmid dna transform e', 'coli tb1 cell recombin protein synthes af niti puri ed cleav factor xa describ previous', 'puriti structur integr mutant protein analys sd page', 'control protein experi wild type tgev mpro pro puri ed ident manner', 'enzymat activ mutant protein measur use peptid cleavag assay peptid substrat repres n termin tgev pro autoprocess site h 2 n vsvnstlqsglrkma cooh letter bold indic scissil bond cleav pro', '']\""
            ]
          },
          "metadata": {
            "tags": []
          },
          "execution_count": 41
        }
      ]
    },
    {
      "cell_type": "markdown",
      "metadata": {
        "id": "4VTS3HNj_Myf",
        "colab_type": "text"
      },
      "source": [
        "> ### Main Algorithm -- *Approx Runtime = 15 mins*"
      ]
    },
    {
      "cell_type": "markdown",
      "metadata": {
        "id": "4q0xldGGADmb",
        "colab_type": "text"
      },
      "source": [
        "Defining Pre-processor"
      ]
    },
    {
      "cell_type": "code",
      "metadata": {
        "id": "u7KdP2kcMvLL",
        "colab_type": "code",
        "outputId": "01782286-4962-46ef-9a90-ee263c2b3e30",
        "colab": {
          "base_uri": "https://localhost:8080/",
          "height": 53
        }
      },
      "source": [
        "from nltk.corpus import stopwords\n",
        "nltk.download('stopwords')\n",
        "ps = PorterStemmer()\n",
        "stop_words = stopwords.words('english')\n",
        "stop_words.extend(['copyright','peer','holder','preprint','author','funder','https','doi','org','reviewed',\n",
        "                    'bioRxiv','et','found','sought','wondered','reserved','rights','reuse',\n",
        "                    'permission','allowed','without','right','using','http','although','create','however',\n",
        "                    'cc','by','license','biorxiv','medrxiv','fig','http','1101','et','al','figure',\n",
        "                    'nc','nd','4','0','international','made','available','under','for','this',\n",
        "                    'preprint','which','was','not','10','2020','01','30','927574','ma','02','03',\n",
        "                    'could','non','within','il','three','value','shown','pcr','rnl','ml','min','mm','new','would',\n",
        "                    'related','thus','per','site','like','known','may','also','used','know','e','g','settings','usefulness'])\n",
        "\n",
        "# preprocessing involving removing stop words, converting to lower case,\n",
        "# deleting non-alpha numeric character and stemming\n",
        "def preprocess(sentences):\n",
        "  temp = []\n",
        "  sentences = sentences.split('.')\n",
        "  for sentence in sentences:\n",
        "      # convert to lower case\n",
        "      sentence = sentence.lower()\n",
        "      tokenizer = RegexpTokenizer(r'\\w+')\n",
        "      # remove punctuations\n",
        "      tokens = tokenizer.tokenize(sentence)\n",
        "      # remove stopwords and perform stemming\n",
        "      words = [ps.stem(word) for word in tokens if word not in stop_words] \n",
        "      t = ' '.join(words)\n",
        "      temp.append(t)\n",
        "  return temp      "
      ],
      "execution_count": 0,
      "outputs": [
        {
          "output_type": "stream",
          "text": [
            "[nltk_data] Downloading package stopwords to /root/nltk_data...\n",
            "[nltk_data]   Package stopwords is already up-to-date!\n"
          ],
          "name": "stdout"
        }
      ]
    },
    {
      "cell_type": "markdown",
      "metadata": {
        "id": "rHyjvrLW_app",
        "colab_type": "text"
      },
      "source": [
        "Defining Queries "
      ]
    },
    {
      "cell_type": "code",
      "metadata": {
        "id": "AuKvVUka_ZOR",
        "colab_type": "code",
        "outputId": "85d2e651-5929-433b-fa29-bf8701a2015e",
        "colab": {
          "base_uri": "https://localhost:8080/",
          "height": 73
        }
      },
      "source": [
        "initial_queries = [\"Identification of suitable animal models for testing of COVID-19 post-exposure therapies, the best laboratory animal would not only get infected and get sick, but get sick in the same way that humans do, showing a similar course of disease.\", \n",
        "                   \"Convalescent plasma is one of the crudest forms of antibody therapy, which was used extensively to treat infectious diseases a century ago.\", \n",
        "                   \"Mice, hamsters, ferrets, monkeys, which lab animals can help defeat the new coronavirus? Beloved as pets, Syrian hamsters are winning another kind of attention from scientists trying to understand and defeat COVID-19.\", \n",
        "                   \"hydroxychloroquine have been prescribed to patients to reduce the length of hospital stay and improve the evolution of COVID-19-related pneumonia.\", \n",
        "                   \"Hydroxychloroquine is not expensive, is readily available, and seems to be safe.\", \n",
        "                   \"what's remdesivir? Remdesivir is a drug designed to obstruct the stage of replication, when the virus creates copies of itself, followed endlessly by the copies creating copies of themselves.\", \n",
        "                   \"Is remdesivir the treatment for corona viruses? Although the drug didn't work well against that disease, it later showed promise fighting SARS and MERS, illnesses caused by coronaviruses, in animal studies, which is why researchers thought remdesivir might help fight COVID-19.\", \n",
        "                   \"what is serological test? Antibody tests, also called serological tests, have usually been the time-tested approach to finding out the presence of a virus in the body, they do so by detecting the presence and quantity of antibodies that are produced by the immune system to battle an infection.\", \n",
        "                   \"what do antibody test reveal? Given that they are not useful for directly detecting the presence of the virus, antibody tests can be used to gauge the extent of infection in a community or a large group of people who may have had exposure to the virus.\", \n",
        "                   \"The new Elecsys Anti-SARS-CoV-2 serology test can support the detection of antibodies against SARS-CoV-2 in patients who have been exposed to the virus which causes COVID-19.\", \n",
        "                   \"where did corona virus originate? The coronavirus disease 19 (COVID-19) is a highly transmittable and pathogenic viral infection caused by severe acute respiratory syndrome coronavirus 2 (SARS-CoV-2), which emerged in Wuhan, China and spread around the world.\", \n",
        "                   \"Initially, interferons-α nebulization, broad-spectrum antibiotics, and anti-viral drugs were used to reduce the viral load, however Remdesivir only and in combination with chloroquine or interferon beta significantly blocked the SARS-CoV-2 replication and patients were declared as clinically recovered.\", \n",
        "                   \"These patients usually present with symptoms of an upper respiratory tract viral infection, including mild fever, cough (dry), sore throat, nasal congestion, malaise, headache, muscle pain, or malaise, Respiratory symptoms such as cough and shortness of breath (or tachypnea in children) are present without signs of severe pneumonia.\"\n",
        "                  ]\n",
        "\n",
        "queries = []\n",
        "\n",
        "for query in initial_queries:\n",
        "  query = preprocess(query)\n",
        "  queries.append(query[0])\n",
        "\n",
        "print(queries)\n",
        "print(len(queries))"
      ],
      "execution_count": 0,
      "outputs": [
        {
          "output_type": "stream",
          "text": [
            "['identif suitabl anim model test covid 19 post exposur therapi best laboratori anim get infect get sick get sick way human show similar cours diseas', 'convalesc plasma one crudest form antibodi therapi extens treat infecti diseas centuri ago', 'mice hamster ferret monkey lab anim help defeat coronaviru belov pet syrian hamster win anoth kind attent scientist tri understand defeat covid 19', 'hydroxychloroquin prescrib patient reduc length hospit stay improv evolut covid 19 pneumonia', 'hydroxychloroquin expens readili seem safe', 'remdesivir remdesivir drug design obstruct stage replic viru creat copi follow endlessli copi creat copi', 'remdesivir treatment corona virus drug work well diseas later show promis fight sar mer ill caus coronavirus anim studi research thought remdesivir might help fight covid 19', 'serolog test antibodi test call serolog test usual time test approach find presenc viru bodi detect presenc quantiti antibodi produc immun system battl infect', 'antibodi test reveal given use directli detect presenc viru antibodi test gaug extent infect commun larg group peopl exposur viru', 'elecsi anti sar cov 2 serolog test support detect antibodi sar cov 2 patient expos viru caus covid 19', 'corona viru origin coronaviru diseas 19 covid 19 highli transmitt pathogen viral infect caus sever acut respiratori syndrom coronaviru 2 sar cov 2 emerg wuhan china spread around world', 'initi interferon α nebul broad spectrum antibiot anti viral drug reduc viral load remdesivir combin chloroquin interferon beta significantli block sar cov 2 replic patient declar clinic recov', 'patient usual present symptom upper respiratori tract viral infect includ mild fever cough dri sore throat nasal congest malais headach muscl pain malais respiratori symptom cough short breath tachypnea children present sign sever pneumonia']\n",
            "13\n"
          ],
          "name": "stdout"
        }
      ]
    },
    {
      "cell_type": "markdown",
      "metadata": {
        "id": "BrHWw5FgAQNc",
        "colab_type": "text"
      },
      "source": [
        "Defining Cosine Similarity Function"
      ]
    },
    {
      "cell_type": "code",
      "metadata": {
        "id": "qsoYPonHAdAf",
        "colab_type": "code",
        "colab": {}
      },
      "source": [
        "from scipy import spatial\n",
        "def cos_sim(v1, v2):\n",
        "  return 1 - spatial.distance.cosine(v1, v2)"
      ],
      "execution_count": 0,
      "outputs": []
    },
    {
      "cell_type": "markdown",
      "metadata": {
        "id": "c3kYTF1qAsOU",
        "colab_type": "text"
      },
      "source": [
        "The Algorithm"
      ]
    },
    {
      "cell_type": "code",
      "metadata": {
        "id": "0DV7vDlBAr1J",
        "colab_type": "code",
        "outputId": "630891ea-c7df-4aca-a16f-c340b65550d4",
        "colab": {
          "base_uri": "https://localhost:8080/",
          "height": 53
        }
      },
      "source": [
        "%%time\n",
        "\n",
        "from sklearn.feature_extraction.text import CountVectorizer\n",
        "from sklearn.feature_extraction.text import TfidfVectorizer\n",
        "\n",
        "# initialise vectoriser\n",
        "vectorizer = TfidfVectorizer()\n",
        "\n",
        "body_list = []\n",
        "body_index = df.columns.get_loc(\"body_preprocessed\")\n",
        "id_index = df.columns.get_loc(\"paper_id\")\n",
        "\n",
        "for i in range(df.shape[0]):\n",
        "  x = df.iat[i, body_index].strip('][').split(', ')\n",
        "  body_list = body_list + x\n",
        "\n",
        "# combine queries and body text to train model\n",
        "vectors = queries + body_list\n",
        "vectorizer.fit_transform(vectors)\n",
        "\n",
        "# cosine similarity matrix containing cosine similarity values between all queries and all docs\n",
        "all_cosine = []\n",
        "for query in queries:\n",
        "  query_vector = vectorizer.transform([query]).toarray()\n",
        "  query_body_list = []\n",
        "  for i in range(df.shape[0]):\n",
        "    body = df.iat[i, body_index].strip('][').strip(\"'\")\n",
        "    body_vector = vectorizer.transform([body]).toarray()\n",
        "    cosine_similarity = cos_sim(body_vector, query_vector)\n",
        "    # print(cosine)\n",
        "    query_body_list.append([df.iat[i, id_index], cosine_similarity])\n",
        "  all_cosine.append(pd.DataFrame(query_body_list, columns = [\"id\", \"cosine_value\"]))  \n",
        "\n",
        "##print(all_cosine)"
      ],
      "execution_count": 0,
      "outputs": [
        {
          "output_type": "stream",
          "text": [
            "CPU times: user 13min 10s, sys: 4min 10s, total: 17min 20s\n",
            "Wall time: 17min 21s\n"
          ],
          "name": "stdout"
        }
      ]
    },
    {
      "cell_type": "markdown",
      "metadata": {
        "id": "dWwM3MrcCkhF",
        "colab_type": "text"
      },
      "source": [
        "Ranking the docs"
      ]
    },
    {
      "cell_type": "code",
      "metadata": {
        "id": "lNrrGFMCCISw",
        "colab_type": "code",
        "outputId": "5fb882a6-0d20-47e0-b6ea-2763c8e1b262",
        "colab": {
          "base_uri": "https://localhost:8080/",
          "height": 1000
        }
      },
      "source": [
        "# The above dataframe all_cosines has rows as queries and columns as doc titles.\n",
        "# Each element of this matrix [i, j] is a list of length two.\n",
        "# The first element of the list is the doc_id, \n",
        "# the second element is the cosine similarity value between query i and doc_title j\n",
        "\n",
        "ranked_docs = []\n",
        "for i in range(len(all_cosine)):\n",
        "  query_cosine_values = all_cosine[i]\n",
        "  # more code here\n",
        "  query_cosine_values.sort_values(by = \"cosine_value\", ascending = False, inplace = True)\n",
        "  sorted_list = query_cosine_values.iloc[0:10]\n",
        "  ranked_docs.append(sorted_list)\n",
        "  \n",
        "print(ranked_docs) "
      ],
      "execution_count": 0,
      "outputs": [
        {
          "output_type": "stream",
          "text": [
            "[                                            id  cosine_value\n",
            "8214  ab0920d9c9b4b36d63943f751a372890ac1fed0e      0.303527\n",
            "529   c93765c4a3b318802baaf2c6a68f11d1de9ca8f7      0.273709\n",
            "5984  a99f02efcd401fc017aab682571c7af17c29b634      0.261685\n",
            "6659  757b5c18ea0d5f36ba9ea742d22cac06e30e371c      0.236913\n",
            "1738  960ce652ea3f7fb9df40da78e21eb1efbdf577ad      0.218901\n",
            "1062  898203edb625248406fc805e60a05fabb72eb216      0.218077\n",
            "2444  e9d64a31d412b2d0c91a37631f1c359b11142304      0.212335\n",
            "5197  4ccace93e8bd13df5cb19e4211ed66f64cc4891c      0.211581\n",
            "9576  1d162cd83fb09ad4919ab8445cfdef7c6206fe50      0.207581\n",
            "9088  d0786f512c50de64c4f50dd3f881ea6f9e2dd343      0.207508,                                             id  cosine_value\n",
            "4207  82f84285306e119b5994713bf84feb0e018667ca      0.390903\n",
            "3506  583bd048e2c150cca317e633e43cd04f76e59594      0.338788\n",
            "577   f242a1a7a7c8f4027c8793025c07885eea2359c5      0.295111\n",
            "5130  7e61af45f92e097e572bf735c647a31040deb210      0.290815\n",
            "4145  9614c166792357aeb8cf542af2193d86e7a2f8c3      0.267540\n",
            "1329  c5b56e5c1e33dcf247157b735550f7d8da7a0e5c      0.256462\n",
            "6435  2cc90bf722a8a4456cf6e7ee46b9bfe8da42bc3c      0.240731\n",
            "8894  fb0c496af128204a417aa9b18ce6ed674cbbff6e      0.231763\n",
            "8677  b9f617f6229dcea28f092bc9fa9c2bbe3c8e9b81      0.213793\n",
            "5407  8d6d3be5f9353eb3358b44e646c83f1a90861b4d      0.212762,                                             id  cosine_value\n",
            "1019  6ac544ebb283cb03324dc7c36535b77a202bb921      0.250945\n",
            "7163  38f43b5cad0ed884e80defbe43c1a5716c945fa6      0.202022\n",
            "1062  898203edb625248406fc805e60a05fabb72eb216      0.159463\n",
            "5197  4ccace93e8bd13df5cb19e4211ed66f64cc4891c      0.158976\n",
            "4736  c7c745598a4d37174b3aaa575abf40c964411aa0      0.137694\n",
            "4306  c1335ae9c8ec9452811cb5bf43d2baca6263ed06      0.133312\n",
            "8827  1f2bc41c3b85d1327446c145183676230eb8c578      0.132638\n",
            "4446  3ce7904a8a8af7271415529b6deaa8023ff5f89d      0.130580\n",
            "706   a9c263a072d6e85329020a153a7ed9a1c53cea4a      0.129134\n",
            "6454  0fd5170ad0080433dbe4ed11906969f93981e67d      0.115223,                                             id  cosine_value\n",
            "5016  1b1300d760cc07aee7ea54f8bc060a5764330898      0.356573\n",
            "4875  cfef8928ebc57961e1a604a099878dc839434688      0.341014\n",
            "6449  e7b08cc40e413c9b948602b582065e4c904e2a6c      0.335044\n",
            "2770  075d097dc8d8c4a03403fb05093adbfda36699f3      0.308809\n",
            "1776  9c230522b6276fc65f397c9aed635453d8148253      0.301147\n",
            "3627  73243d95149d9f2260f3c852599d7d39f4cc8ccc      0.292748\n",
            "7365  9566a0cfb831c1b129d202cad8b81d762d09039f      0.286259\n",
            "5729  50be853b37945ba63f2fa2c4654b8c57ce0c1597      0.281143\n",
            "2042  c9f29ef1f56556ef73d0df00409ddc820d454697      0.281053\n",
            "5682  70242f0f937a11c385935ef0242ab86b56dbcdad      0.279265,                                             id  cosine_value\n",
            "1776  9c230522b6276fc65f397c9aed635453d8148253      0.245877\n",
            "1804  57386622d0705c97b19a7cc72a0e8d65c5e734c2      0.235163\n",
            "9600  10020b18a770b4f93c8413bbf60029225d151471      0.223774\n",
            "3627  73243d95149d9f2260f3c852599d7d39f4cc8ccc      0.220823\n",
            "5729  50be853b37945ba63f2fa2c4654b8c57ce0c1597      0.216439\n",
            "3625  c46981d79358841d13230dee08d5ecc6cca84c77      0.213540\n",
            "4875  cfef8928ebc57961e1a604a099878dc839434688      0.201519\n",
            "7365  9566a0cfb831c1b129d202cad8b81d762d09039f      0.200661\n",
            "7179  38dad6f2f646e7e1b0143736183f114d76a3422d      0.198637\n",
            "4920  354e1489b942490e74eba4b9e2f6ad17f5fd1cfd      0.187959,                                             id  cosine_value\n",
            "8831  80734e9029dd6c1a74bf7b176d8818b199be7e4c      0.284125\n",
            "4264  0929964edf07b187c3b5458498cb8dbac966c606      0.265688\n",
            "3981  a6009259cceb933dbbaa6456be281cf953d5137d      0.251170\n",
            "9232  c7ab2dca0d2a4a49fb570750b26db4c3abfc5ab7      0.249110\n",
            "5020  8796f675565b3db4e344bb7b61e9acc4db082649      0.248659\n",
            "1960  13498fba6d53e585300db03164791cb4c53994ad      0.247004\n",
            "2667  996a9e34b0efb4ed163bd0ba8eb92f16e642ca62      0.233053\n",
            "5685  6e152fc97c25c1da2b60c3062a97242427fe6b67      0.222960\n",
            "7425  fc2fa555457201e604d635170cd7fb69cebef7ef      0.209807\n",
            "7310  23b2574a7d27b836a3b9a544789708cbf448c1ee      0.207039,                                             id  cosine_value\n",
            "8831  80734e9029dd6c1a74bf7b176d8818b199be7e4c      0.383315\n",
            "4264  0929964edf07b187c3b5458498cb8dbac966c606      0.378010\n",
            "9232  c7ab2dca0d2a4a49fb570750b26db4c3abfc5ab7      0.366797\n",
            "5020  8796f675565b3db4e344bb7b61e9acc4db082649      0.353932\n",
            "1960  13498fba6d53e585300db03164791cb4c53994ad      0.341000\n",
            "9085  6b4ecf5007f65703ebf6d5705809aa3a8d6ff123      0.337629\n",
            "2667  996a9e34b0efb4ed163bd0ba8eb92f16e642ca62      0.315387\n",
            "6785  b557f73960f276b871b5b3af05d3b5be410b2a70      0.271128\n",
            "6169  53bfbed1d1353b6fcc48b2dbf37878bdc9eb5841      0.263408\n",
            "4510  f499f11dbb357468962a170977bd580ef7d411bd      0.262314,                                             id  cosine_value\n",
            "1199  f8794e4a2e60a5b9e9815d7c04b0d59510bf11f8      0.502710\n",
            "1162  a40321cfa92f3b927ab1e9ce4c33e248cfe8328a      0.490683\n",
            "3462  d284ba862f4cdb0c644fa38c158de5aa6e0c6b35      0.488945\n",
            "7262  5480ebb7fe247f98557ed6bb3ab2dd0bfcfc46ad      0.488837\n",
            "3130  a5b8b399c5c806d0d1df7c85c5584142046aa9c2      0.453516\n",
            "6865  067b2657c08dacbd77f93ed74374ea245fffa76a      0.415557\n",
            "1380  d8673db0439823ec6aab0ef13f470e04fd064e10      0.398883\n",
            "7374  3edace6bfd1425ed3fa9790f8a55026ec970200d      0.395684\n",
            "1043  d027ab188d9266af8d93376412f91147b9dc9aee      0.386055\n",
            "625   f3a63003f0b0c19970acfacb0043459e0ea4dd96      0.381263,                                             id  cosine_value\n",
            "3462  d284ba862f4cdb0c644fa38c158de5aa6e0c6b35      0.436579\n",
            "6865  067b2657c08dacbd77f93ed74374ea245fffa76a      0.361824\n",
            "3130  a5b8b399c5c806d0d1df7c85c5584142046aa9c2      0.351121\n",
            "7955  e83d85e8a48bcfd6b3813bb5aecf96de3b9bb2ad      0.339341\n",
            "448   607219f47d6a41ce969e3e4063096c41102de86a      0.339221\n",
            "6981  f3c552c3c618afe038d88a257de3f5bc84029226      0.335369\n",
            "7262  5480ebb7fe247f98557ed6bb3ab2dd0bfcfc46ad      0.314127\n",
            "1199  f8794e4a2e60a5b9e9815d7c04b0d59510bf11f8      0.302392\n",
            "625   f3a63003f0b0c19970acfacb0043459e0ea4dd96      0.301364\n",
            "2780  abbf5a3b072ffae3a2c092310ae4ff1f933f4da7      0.301098,                                             id  cosine_value\n",
            "1199  f8794e4a2e60a5b9e9815d7c04b0d59510bf11f8      0.439160\n",
            "1162  a40321cfa92f3b927ab1e9ce4c33e248cfe8328a      0.435366\n",
            "9741  c91678f10d2687e0f8f8eebbd4b329a197e447e4      0.430466\n",
            "3629  6dbe863788c7a02efb68c5a88287484cf00c29f9      0.424196\n",
            "1505  0eadf5a901c0d89fad2c202990056556be103e12      0.423662\n",
            "8579  f294f0df7468a8ac9e27776cc15fa20297a9f040      0.422682\n",
            "9042  b41d64d9d916c4cb05e925d9ad3942caae948aff      0.421611\n",
            "3626  628224850a2206055fd6792b865f83674e3d3c29      0.406521\n",
            "394   c5db08a4925ae08d69530ee3c2bb263f8fd9fca4      0.401704\n",
            "9001  89b3274ee3e57d674c7d3ddffb81aadff7b23a3e      0.396535,                                             id  cosine_value\n",
            "811   43d547f2da6fff3b6498352d1b706afa4a36fa6d      0.433558\n",
            "9306  a8ae1ac9aff82f9c415860ed27683f48dfd6c499      0.414292\n",
            "1845  9311af449c6ee2ee88a400eedaba4f24912dbbac      0.404257\n",
            "4071  ebeef7ed15f08b86ff80ec8aea566c2604476492      0.396150\n",
            "788   3f7f93195da153394883fb19fde7758d0f86c85f      0.394895\n",
            "1510  9dd215f5b70cf477742426fffa12fbf95a45a66c      0.393238\n",
            "2773  73c4a5aab7f88741a884c05f604ab46ea34f39f3      0.391245\n",
            "2068  147de820d90c0ce89fb5ae6836ea1794b808fdf2      0.376971\n",
            "9833  d60d497f638b4d0575fa80f8ae523b8a76aae5e7      0.372409\n",
            "4451  0ddffb5065201f469bdbc98060174a1b16c3f4b5      0.367370,                                             id  cosine_value\n",
            "911   b40db19fae95ded4cc57d3eb19e0e54b807f13c5      0.321946\n",
            "9657  d88886c3bc8373df053468a58836190b5fc043ca      0.312937\n",
            "5884  38c35aed007b69cf403a097e93b18ad261072568      0.306272\n",
            "9232  c7ab2dca0d2a4a49fb570750b26db4c3abfc5ab7      0.301262\n",
            "4214  a0327c89dd46ce06ec8e979ddbad8c7b9c32660b      0.299990\n",
            "4510  f499f11dbb357468962a170977bd580ef7d411bd      0.290093\n",
            "9588  130a1a27637331d206d4a8af2827bf929c5a9694      0.288944\n",
            "1524  188e7ff1e260864c89f266b5597de26d69a84660      0.284461\n",
            "4264  0929964edf07b187c3b5458498cb8dbac966c606      0.281325\n",
            "3792  de65f3fb73516427c7045617c7bdf6f87dd8df3b      0.278394,                                             id  cosine_value\n",
            "2411  18f46b0ba6222533a4738543fbb8f863831140e2      0.309012\n",
            "9428  20789336f8f30b6604894e72211e6072abd9f775      0.290512\n",
            "4215  e4b18c2650a0735f7db3a316ff8c560da61931bb      0.287289\n",
            "9544  63601a5425b9a369c9a4a757e617a3855a1ffa5f      0.285777\n",
            "1109  bf85ecdf18c18976c7a35ed5125de4efe2f6dbf2      0.278612\n",
            "796   04002eb2da9febbca9ac7f6d35c02f5ca32c91f4      0.273495\n",
            "8989  078a2676f3c29cc2644c7017a23043963039eba8      0.273091\n",
            "1238  587950d397c6b56f6d94195ac631edb634740b36      0.271290\n",
            "4800  3be82327cba78019f82bb8a1f7ead87861d38261      0.267241\n",
            "9070  57c47ce2ae13578c7611519312f09871bc0c6eda      0.266732]\n"
          ],
          "name": "stdout"
        }
      ]
    },
    {
      "cell_type": "markdown",
      "metadata": {
        "id": "r4tbafnrDIol",
        "colab_type": "text"
      },
      "source": [
        "## **Word Embedding**"
      ]
    },
    {
      "cell_type": "markdown",
      "metadata": {
        "id": "ZIvrf8qLDVJy",
        "colab_type": "text"
      },
      "source": [
        "> ### Preprocessing the data and creating a DataFrame (Run only if you want to preprocess the data again) -- *Approx Time 20 minutes*"
      ]
    },
    {
      "cell_type": "markdown",
      "metadata": {
        "id": "lpzMCXprDhPw",
        "colab_type": "text"
      },
      "source": [
        "Dropping null values"
      ]
    },
    {
      "cell_type": "code",
      "metadata": {
        "id": "0tuGL7FIDjo8",
        "colab_type": "code",
        "colab": {}
      },
      "source": [
        "w_df=c_df.dropna(subset=['body_text'])\n",
        "w_df=w_df[['paper_id', 'title', 'abstract', 'body_text']].copy()"
      ],
      "execution_count": 0,
      "outputs": []
    },
    {
      "cell_type": "markdown",
      "metadata": {
        "id": "lUrvUKZDGIrv",
        "colab_type": "text"
      },
      "source": [
        "Dictionary "
      ]
    },
    {
      "cell_type": "code",
      "metadata": {
        "id": "jVMVECqlGKDR",
        "colab_type": "code",
        "colab": {}
      },
      "source": [
        "covid19_terms = {\n",
        "    '2019-nCoV',\n",
        "    '2019-nCoV.',\n",
        "    '2019-n-CoV',\n",
        "    '2019 n-CoV'\n",
        "    '2019 ncov',\n",
        "    '2019 n cov',\n",
        "    '2019n cov',\n",
        "    '2019ncov',\n",
        "    '2019-novel Coronavirus',\n",
        "    'coronavirus 2',\n",
        "    'coronavirus 2019',\n",
        "    'coronavirus-19',\n",
        "    'covid',\n",
        "    'COVID-19',\n",
        "    'COVID19',\n",
        "    'n cov 2019',\n",
        "    'ncov 2019',\n",
        "    'wuhan pneumonia',\n",
        "    'wuhan virus',\n",
        "    'wuhan coronavirus',\n",
        "    'CoViD 19',\n",
        "    'CoViD-19',\n",
        "    }"
      ],
      "execution_count": 0,
      "outputs": []
    },
    {
      "cell_type": "markdown",
      "metadata": {
        "id": "5AroG5ryRqz4",
        "colab_type": "text"
      },
      "source": [
        "Function to check if body contains covid19_terms"
      ]
    },
    {
      "cell_type": "code",
      "metadata": {
        "id": "_ePn1QJTRh5c",
        "colab_type": "code",
        "colab": {}
      },
      "source": [
        "def has_covid19(text):\n",
        "    for name in covid19_terms:\n",
        "        if text and name.lower() in text.lower():\n",
        "            return True\n",
        "    return False"
      ],
      "execution_count": 0,
      "outputs": []
    },
    {
      "cell_type": "markdown",
      "metadata": {
        "id": "3lp7PtEASDA4",
        "colab_type": "text"
      },
      "source": [
        "Removing body text which doesn't contain covid terms"
      ]
    },
    {
      "cell_type": "code",
      "metadata": {
        "id": "H5JfH9itR31g",
        "colab_type": "code",
        "colab": {}
      },
      "source": [
        "w_df['body_has_covid19']=w_df.body_text.apply(has_covid19)"
      ],
      "execution_count": 0,
      "outputs": []
    },
    {
      "cell_type": "code",
      "metadata": {
        "id": "8_KbrN0hRuE2",
        "colab_type": "code",
        "colab": {}
      },
      "source": [
        "w_df=w_df[w_df['body_has_covid19']==True]\n",
        "w_df=w_df.drop(['body_has_covid19'], axis = 1)"
      ],
      "execution_count": 0,
      "outputs": []
    },
    {
      "cell_type": "markdown",
      "metadata": {
        "id": "DoNhKH6gSQIl",
        "colab_type": "text"
      },
      "source": [
        "Pre-processing"
      ]
    },
    {
      "cell_type": "code",
      "metadata": {
        "id": "5G_9nIu_RzpQ",
        "colab_type": "code",
        "colab": {}
      },
      "source": [
        "nltk.download('stopwords')\n",
        "ps = PorterStemmer()"
      ],
      "execution_count": 0,
      "outputs": []
    },
    {
      "cell_type": "code",
      "metadata": {
        "id": "hXCW9gE4Wpyr",
        "colab_type": "code",
        "colab": {}
      },
      "source": [
        "stop_words = stopwords.words('english')\n",
        "stop_words.extend(['copyright','peer','holder','preprint','author','funder','https','doi','org','reviewed',\n",
        "                    'bioRxiv','et','found','sought','wondered','reserved','rights','reuse',\n",
        "                    'permission','allowed','without','right','using','http','although','create','however',\n",
        "                    'cc','by','license','biorxiv','medrxiv','fig','http','1101','et','al','figure',\n",
        "                    'nc','nd','4','0','international','made','available','under','for','this',\n",
        "                    'preprint','which','was','not','10','2020','01','30','927574','ma','02','03',\n",
        "                    'could','non','within','il','three','value','shown','pcr','rnl', 'post', 'ml','min','mm','new','would',\n",
        "                    'related','thus','per','site','like','known','may','also','used','know','e','g','settings', 'april', 'march','usefulness'])"
      ],
      "execution_count": 0,
      "outputs": []
    },
    {
      "cell_type": "markdown",
      "metadata": {
        "id": "WniU9XVvW0De",
        "colab_type": "text"
      },
      "source": [
        "Defining pre-processor"
      ]
    },
    {
      "cell_type": "code",
      "metadata": {
        "id": "GHQWzyHRW1kf",
        "colab_type": "code",
        "colab": {}
      },
      "source": [
        "def preprocess(sentences):\n",
        "    # convert to lower case\n",
        "    sentences = sentences.lower()\n",
        "    tokenizer = RegexpTokenizer(r'\\w+')\n",
        "    # remove punctuations\n",
        "    tokens = tokenizer.tokenize(sentences)\n",
        "    # remove stopwords and perform stemming\n",
        "    words = [ps.stem(word) for word in tokens if (word not in stop_words and (len(word)!=1))] \n",
        "    return words "
      ],
      "execution_count": 0,
      "outputs": []
    },
    {
      "cell_type": "code",
      "metadata": {
        "id": "KQ2iMUN_W7PX",
        "colab_type": "code",
        "colab": {}
      },
      "source": [
        "w_df['body_preprocessed'] = w_df.body_text.apply(preprocess)"
      ],
      "execution_count": 0,
      "outputs": []
    },
    {
      "cell_type": "markdown",
      "metadata": {
        "id": "LQ8gL9q6XDum",
        "colab_type": "text"
      },
      "source": [
        "Saving Dataframe"
      ]
    },
    {
      "cell_type": "code",
      "metadata": {
        "id": "rHpfjXYbXFSn",
        "colab_type": "code",
        "colab": {}
      },
      "source": [
        "w_df.to_csv(\"drive/My Drive/data/word_em/w_df_for_doc2vec.csv\")"
      ],
      "execution_count": 0,
      "outputs": []
    },
    {
      "cell_type": "markdown",
      "metadata": {
        "id": "TfTutIfhXk3v",
        "colab_type": "text"
      },
      "source": [
        "> ### Loading Pre-processed data (Necessary for training the model and for the output of algorithm aswell) (Necessary for pre-processing of LDA Topic Model)"
      ]
    },
    {
      "cell_type": "code",
      "metadata": {
        "id": "bKs6nrSjYBuI",
        "colab_type": "code",
        "colab": {}
      },
      "source": [
        "w_df = pd.read_csv(\"drive/My Drive/data/word_em/w_df_for_doc2vec.csv\")"
      ],
      "execution_count": 0,
      "outputs": []
    },
    {
      "cell_type": "markdown",
      "metadata": {
        "id": "0na4epJUYhp9",
        "colab_type": "text"
      },
      "source": [
        "> ### Training the Model(Run only if you want to train the model again) #DUSHYANT FIX THIS"
      ]
    },
    {
      "cell_type": "code",
      "metadata": {
        "id": "F-lYA3EpYG37",
        "colab_type": "code",
        "colab": {}
      },
      "source": [
        "#CONVERT body_preprocessed str into list\n",
        "#Copy the code\n",
        "\n",
        "MAKE SURE TO USE w_df instead of c_df"
      ],
      "execution_count": 0,
      "outputs": []
    },
    {
      "cell_type": "markdown",
      "metadata": {
        "id": "YXUPchX6Yvp0",
        "colab_type": "text"
      },
      "source": [
        "> ### Using the pretrained model for algorithm "
      ]
    },
    {
      "cell_type": "markdown",
      "metadata": {
        "id": "SrvUk8eTZEVg",
        "colab_type": "text"
      },
      "source": [
        "Loading the model"
      ]
    },
    {
      "cell_type": "code",
      "metadata": {
        "id": "8J7xO0vWYO7T",
        "colab_type": "code",
        "outputId": "6a5e3b98-8dbe-473c-8ce3-6e8350a32ab7",
        "colab": {
          "base_uri": "https://localhost:8080/",
          "height": 73
        }
      },
      "source": [
        "model = gensim.models.doc2vec.Doc2Vec.load(\"drive/My Drive/data/word_em/model.model\")"
      ],
      "execution_count": 0,
      "outputs": [
        {
          "output_type": "stream",
          "text": [
            "/usr/local/lib/python3.6/dist-packages/smart_open/smart_open_lib.py:253: UserWarning: This function is deprecated, use smart_open.open instead. See the migration notes for details: https://github.com/RaRe-Technologies/smart_open/blob/master/README.rst#migrating-to-the-new-open-function\n",
            "  'See the migration notes for details: %s' % _MIGRATION_NOTES_URL\n"
          ],
          "name": "stderr"
        }
      ]
    },
    {
      "cell_type": "markdown",
      "metadata": {
        "id": "IXOdwX-ZZLkh",
        "colab_type": "text"
      },
      "source": [
        "Defining Pre-processor"
      ]
    },
    {
      "cell_type": "code",
      "metadata": {
        "id": "MmueqxBXZNXD",
        "colab_type": "code",
        "outputId": "0b1924a5-bbb2-47fc-9c85-411c9028558d",
        "colab": {
          "base_uri": "https://localhost:8080/",
          "height": 53
        }
      },
      "source": [
        "nltk.download('stopwords')\n",
        "ps = PorterStemmer()\n",
        "\n",
        "stop_words = stopwords.words('english')\n",
        "stop_words.extend(['copyright','peer','holder','preprint','author','funder','https','doi','org','reviewed',\n",
        "                    'bioRxiv','et','found','sought','wondered','reserved','rights','reuse',\n",
        "                    'permission','allowed','without','right','using','http','although','create','however',\n",
        "                    'cc','by','license','biorxiv','medrxiv','fig','http','1101','et','al','figure',\n",
        "                    'nc','nd','4','0','international','made','available','under','for','this',\n",
        "                    'preprint','which','was','not','10','2020','01','30','927574','ma','02','03',\n",
        "                    'could','non','within','il','three','value','shown','pcr','rnl','ml','min','mm','new','would',\n",
        "                    'related','thus','per','site','like','known','may','also','used','know','e','g','settings','usefulness'])\n",
        "\n",
        "def preprocess(sentences):\n",
        "    # convert to lower case\n",
        "    sentences = sentences.lower()\n",
        "    tokenizer = RegexpTokenizer(r'\\w+')\n",
        "    # remove punctuations\n",
        "    tokens = tokenizer.tokenize(sentences)\n",
        "    # remove stopwords and perform stemming\n",
        "    words = [ps.stem(word) for word in tokens if (word not in stop_words and (len(word)!=1))] \n",
        "    return words"
      ],
      "execution_count": 0,
      "outputs": [
        {
          "output_type": "stream",
          "text": [
            "[nltk_data] Downloading package stopwords to /root/nltk_data...\n",
            "[nltk_data]   Package stopwords is already up-to-date!\n"
          ],
          "name": "stdout"
        }
      ]
    },
    {
      "cell_type": "markdown",
      "metadata": {
        "id": "P-e33b0eZFtI",
        "colab_type": "text"
      },
      "source": [
        "Defining Queries "
      ]
    },
    {
      "cell_type": "code",
      "metadata": {
        "id": "BQ9G5EO9Y8qc",
        "colab_type": "code",
        "colab": {}
      },
      "source": [
        "initial_queries = [\n",
        "                   \"Identification of suitable animal models for testing of COVID-19 post-exposure therapies, the best laboratory animal would not only get infected and get sick, but get sick in the same way that humans do, showing a similar course of disease.\", \n",
        "                   \"Convalescent plasma is one of the crudest forms of antibody therapy, which was used extensively to treat infectious diseases a century ago.\", \n",
        "                   \"Mice, hamsters, ferrets, monkeys, which lab animals can help defeat the new coronavirus? Beloved as pets, Syrian hamsters are winning another kind of attention from scientists trying to understand and defeat COVID-19.\", \n",
        "                   \"hydroxychloroquine have been prescribed to patients to reduce the length of hospital stay and improve the evolution of COVID-19-related pneumonia.\", \n",
        "                   \"Hydroxychloroquine is not expensive, is readily available, and seems to be safe.\", \n",
        "                   \"what's remdesivir? Remdesivir is a drug designed to obstruct the stage of replication, when the virus creates copies of itself, followed endlessly by the copies creating copies of themselves.\", \n",
        "                   \"Is remdesivir the treatment for corona viruses? Although the drug didn't work well against that disease, it later showed promise fighting SARS and MERS, illnesses caused by coronaviruses, in animal studies, which is why researchers thought remdesivir might help fight COVID-19.\", \n",
        "                   \"what is serological test? Antibody tests, also called serological tests, have usually been the time-tested approach to finding out the presence of a virus in the body, they do so by detecting the presence and quantity of antibodies that are produced by the immune system to battle an infection.\", \n",
        "                   \"what do antibody test reveal? Given that they are not useful for directly detecting the presence of the virus, antibody tests can be used to gauge the extent of infection in a community or a large group of people who may have had exposure to the virus.\", \n",
        "                   \"The new Elecsys Anti-SARS-CoV-2 serology test can support the detection of antibodies against SARS-CoV-2 in patients who have been exposed to the virus which causes COVID-19.\", \n",
        "                   \"where did corona virus originate? The coronavirus disease 19 (COVID-19) is a highly transmittable and pathogenic viral infection caused by severe acute respiratory syndrome coronavirus 2 (SARS-CoV-2), which emerged in Wuhan, China and spread around the world.\", \n",
        "                   \"Initially, interferons-α nebulization, broad-spectrum antibiotics, and anti-viral drugs were used to reduce the viral load, however Remdesivir only and in combination with chloroquine or interferon beta significantly blocked the SARS-CoV-2 replication and patients were declared as clinically recovered.\", \n",
        "                   \"These patients usually present with symptoms of an upper respiratory tract viral infection, including mild fever, cough (dry), sore throat, nasal congestion, malaise, headache, muscle pain, or malaise, Respiratory symptoms such as cough and shortness of breath (or tachypnea in children) are present without signs of severe pneumonia.\"\n",
        "                  ]\n",
        "\n",
        "queries = []\n",
        "\n",
        "for query in initial_queries:\n",
        "  query = preprocess(query)\n",
        "  queries.append(query)"
      ],
      "execution_count": 0,
      "outputs": []
    },
    {
      "cell_type": "markdown",
      "metadata": {
        "id": "T3PmHxxwZvyX",
        "colab_type": "text"
      },
      "source": [
        "Recommendation"
      ]
    },
    {
      "cell_type": "code",
      "metadata": {
        "id": "MuKcua63ZrQk",
        "colab_type": "code",
        "outputId": "f4877c0b-5563-4570-d930-c190be5789f8",
        "colab": {
          "base_uri": "https://localhost:8080/",
          "height": 73
        }
      },
      "source": [
        "new_vector = model.infer_vector(queries[0])\n",
        "similar = model.docvecs.most_similar(positive=[new_vector])"
      ],
      "execution_count": 0,
      "outputs": [
        {
          "output_type": "stream",
          "text": [
            "/usr/local/lib/python3.6/dist-packages/gensim/matutils.py:737: FutureWarning: Conversion of the second argument of issubdtype from `int` to `np.signedinteger` is deprecated. In future, it will be treated as `np.int64 == np.dtype(int).type`.\n",
            "  if np.issubdtype(vec.dtype, np.int):\n"
          ],
          "name": "stderr"
        }
      ]
    },
    {
      "cell_type": "code",
      "metadata": {
        "id": "ql8hz15xZxRU",
        "colab_type": "code",
        "outputId": "111a3913-f5f3-4a79-d75a-aed1eb76b9da",
        "colab": {
          "base_uri": "https://localhost:8080/",
          "height": 55
        }
      },
      "source": [
        "print(queries[0])"
      ],
      "execution_count": 0,
      "outputs": [
        {
          "output_type": "stream",
          "text": [
            "['identif', 'suitabl', 'anim', 'model', 'test', 'covid', '19', 'post', 'exposur', 'therapi', 'best', 'laboratori', 'anim', 'get', 'infect', 'get', 'sick', 'get', 'sick', 'way', 'human', 'show', 'similar', 'cours', 'diseas']\n"
          ],
          "name": "stdout"
        }
      ]
    },
    {
      "cell_type": "code",
      "metadata": {
        "id": "H9LIoMAPZ8-z",
        "colab_type": "code",
        "outputId": "fe613f38-ad98-455b-e6ff-2d2e28b66a01",
        "colab": {
          "base_uri": "https://localhost:8080/",
          "height": 55
        }
      },
      "source": [
        "print(similar)"
      ],
      "execution_count": 0,
      "outputs": [
        {
          "output_type": "stream",
          "text": [
            "[(7093, 0.4085010886192322), (2542, 0.393079936504364), (7493, 0.3871307373046875), (381, 0.3821891248226166), (7361, 0.3816722631454468), (2568, 0.3805750012397766), (6805, 0.3755342662334442), (1791, 0.36889898777008057), (1011, 0.36831462383270264), (1879, 0.3601797819137573)]\n"
          ],
          "name": "stdout"
        }
      ]
    },
    {
      "cell_type": "code",
      "metadata": {
        "id": "dDfrjNl8Z9-0",
        "colab_type": "code",
        "outputId": "a90d8a89-b95c-4342-82e6-3b50f2989c82",
        "colab": {
          "base_uri": "https://localhost:8080/",
          "height": 1000
        }
      },
      "source": [
        "n=1\n",
        "for i in similar:\n",
        "    print(\"\\n Recomendation \", n, \"\\n\")\n",
        "    n=n+1\n",
        "    print(w_df.body_text.iat[i[0]])"
      ],
      "execution_count": 0,
      "outputs": [
        {
          "output_type": "stream",
          "text": [
            "\n",
            " Recomendation  1 \n",
            "\n",
            "What clinicians and public health experts need most in the next phase of COVID-19 response is an estimate of the prevalence of SARS-COV-2 in the US population. [1] [2] However, in this period before researchers obtain evidence from population-based studies on infection dynamics with accurate and reliable tests, it is still critical to have an idea of the proportion testing positive for infection among the tested population, even given variations in test accuracy, reliability and differences in testing criteria over time.\n",
            " Tracking the number of confirmed positives each day over time for a city or state 3 is problematic since this number (numerator) lacks a defined denominator for estimation.\n",
            " Fluctuations in the number of confirmed cases may reflect uneven testing capacity, batched processing or reporting. A city may appear to have more cases just from ramping up testing, or may appear to have a resurgence or reduction of cases due to changes in who can get tested, availability of test supplies, federal funding for testing sites and other shifts in regulator processes.\n",
            " Estimating the proportion testing positive has been difficult. Significant time lags exist from samples collection to processing and again, to results reporting. Additionally, we lack an official, publicly-available centralized platform that compiles and links day-to-day data for each city or state on the number tested, processed, and number of positives.\n",
            " We evaluated the usefulness of the positive test ratio and the cumulative positive test ratio to account for the uneven number of tests processed or results reported across U.S. states from March 23-April 12. The positive ratio is the number of positives divided by the number of . CC-BY-NC-ND 4.0 International license It is made available under a is the author/funder, who has granted medRxiv a license to display the preprint in perpetuity.\n",
            " The copyright holder for this preprint this version posted April 26, 2020. . https://doi.org/10.1101/2020.04.21.20074070 doi: medRxiv preprint results reported for a given date; the cumulative ratio is the cumulative number of positives divided by the cumulative number of results reported through that date. We used data from the COVID-19 tracking project, a public platform that compiles and links data on test results from official sources in the US. 4 The cumulative percentage of the population tested for each state by date was calculated using data from the 2019 U.S. Census. The cumulative ratios are higher initially, as expected, due to restricted testing of close contacts of confirmed cases. When a progressively higher proportion of the population is tested, the cumulative ratio converges, such as the ratios of New York and Washington state. In New York, New Jersey and Connecticut, once there was more testing, it became clear the prevalence was higher among the tested than the initial period. Among these 15 states, California ranks among the lowest in testing with the most inconsistencies in results reporting.\n",
            " The day-to-day positive ratio is sensitive to systematic differences, such as in how the tests are batched and reported (Figure 2 ). If a given day's reports are all from a senior facility with significant risk of transmission, then the ratio on that day could be higher than that of another day. On the other hand, if the day-to-day positive ratio is consistently decreasing over a period, this could be evidence of flattening the curve.\n",
            " . CC-BY-NC-ND 4.0 International license It is made available under a is the author/funder, who has granted medRxiv a license to display the preprint in perpetuity.\n",
            " The copyright holder for this preprint this version posted April 26, 2020. . https://doi.org/10.1101/2020.04.21.20074070 doi: medRxiv preprint\n",
            " The ratios offer simple ways to account for variations in testing and reporting. Tracking the ratios in addition to cases offer a more precise view of the pandemic. Our observations underscore the need to scale mass testing with accurate and reliable tests, to implement testing systematically and report results consistently.\n",
            " Author Contributions: Drs. Ng and Wang had full access to all the data in the study and take responsibility for the integrity of the data and the accuracy of the data analysis. Drs. Ng and Wang contributed equally to the concept and design, analysis, interpretation and drafting of the manuscript.\n",
            " . CC-BY-NC-ND 4.0 International license It is made available under a is the author/funder, who has granted medRxiv a license to display the preprint in perpetuity.\n",
            " The copyright holder for this preprint this version posted April 26, 2020. CC-BY-NC-ND 4.0 International license It is made available under a is the author/funder, who has granted medRxiv a license to display the preprint in perpetuity.\n",
            " The copyright holder for this preprint this version posted April 26, 2020. CC-BY-NC-ND 4.0 International license It is made available under a is the author/funder, who has granted medRxiv a license to display the preprint in perpetuity. (which was not certified by peer review)\n",
            " The copyright holder for this preprint this version posted April 26, 2020. . https://doi.org/10.1101/2020.04.21.20074070 doi: medRxiv preprint\n",
            "\n",
            " Recomendation  2 \n",
            "\n",
            "J o u r n a l P r e -p r o o f asthma, diabetes, high blood pressure, and cardiac diseases because, their natural immunity is found to be compromised (Arabi et al., 2019; Ashour et al., 2020; Dong et al., 2020; WHO, 2020a; Zhou et al., 2020) . The virus CoV-19 usually propagates and induces the clinical symptoms in infected people within 14 days (Li et al., 2020a, b; Huang et al., 2020) . Earlier similar two forms of fatal COVID-19 were seen, and they were SARS, that was epidemic in China in 2003, and MERS, that was epidemic in Saudi Arabia in 2012 (She et al., 2020; Shereen et al., 2020) . Few existing anti-bacterial, anti-malarial and ant-HIV medicines such as Hydroxychloroquine and azithromycin, lopinavir; ritonavir (remdesivir (GS-5734), tocilizumab, corticosteroids, certain nucleotide as inhibitors, COVID-19 protease inhibitors are re-proposed for the treatment of COVID-19 (Gautret et al., 2020; Smith et al., 2020; Swain et al., 2020) without much clinical experiences. Since no specific medicine or vaccine is available to control the disease, social lockdown is considered as the only preventive measure to control COVID-19 (Das and Paital, 2020; Paital et al., 2020) .\n",
            " Social lockdown is imposed on people to allow them to leave their home as infrequently as possible to shop for basic necessities such as food, to exercise each day, to collect medication or care for a vulnerable person, and to travel to and from work, but only if this is absolutely necessary and cannot be done from home (Das and Paital, 2020; . Social lockdown is a direction for restriction of inter-individual physical interaction in order to avoid the person and outer environment. It is slightly different from curfew because under this condition, minimal emergency public movement is allowed.\n",
            " Emergency service providers such as people form medical care, food security; general security and medicine supply chain are usually allowed during social lockdown. However, under a strict social lockdown for few hours or days, few emergency services such as food and medical supply chain can also be closed. It clearly indicates that mass or community movement and interaction are not allowed during the lockdown periods. Strict regulatory J o u r n a l P r e -p r o o f 6 mode is focused to forbid two people from different family or nearby inhabitants to come in close contact with each other during lockdown.\n",
            " COVID-19 is a transmissible disease that mainly infects the healthy subjects when the person comes in (close) contact with the infected person(s). External or internal body fluid such as cough, sneeze, saliva etc. from the infected patients can infect a healthy person. CoV-19 also can be communicated to a healthy person through any object(s) that carries the virus.\n",
            " Therefore, social lockdown is highly helpful to act as the only preventive measure to tackle CoV-19 infection. It therefore leads to a better consequence by 1) preventing huge load on healthcare system (by high infection rate) at a certain time point, 2) restricting mass/community infection, 3) providing better health care to the infected persons with limited heath care resources. Also, it would provide more time to the researchers to work on the virus for production of specific medicine or vaccines against COVID-19. Owing to such importance of social lockdown, many nations started following it at different time points of the COVID-19 infection to their citizens with different level and strictness. As a result of social lockdowns, the entire world is found to stands still. On the other hand, due to casual follow up of this social move and many other reasons such as low immunity, ageing, comorbidities, the disease has infected 2,573,605 people so far, out of which 701,838 individuals have recovered and 178,562 have lost their lives (CDC, 2020; WHO, 2020a) .\n",
            " Analysis indicates that although the economy is drastically affected in the entire world by loss of human lives and fall in global stock market. Many a time, a pandemic or endemic is created by the dominant activities of human on the planet due to ecological disturbances. Therefore, few also opine that it is not a greatest concern as compared to all gain in environmental stability under COVID-19 pandemic because everything misbalances is manmade and they have to suffer. This was the theme once written in the \"shock doctrine\" of disaster capitalism, outlined by the author and activist Naomi Klein. In her book, the J o u r n a l P r e -p r o o f 7 Canadian writer describes, how powerful global elite exploits national crises to push through unpopular and extreme measures on the environment and labour rights (Klein, 2007) . As per her prediction, one day human has to pay the price for it and probably, the day has come now .\n",
            " In relation to the above context, Mother Nature usually follows a natural transformation process to give checkmates to many of the environmental extremities in order to save the planet. Many species become extinct and many have occupied the world following such climatic events. It leads to stabilize the world as a unitary ecosystem. In this context, pollution and unhygienic level in many ecosystems under dominant activities of human (including urbanisation, fossil fuel exhaustion, industrialization and discharges of its effluents to water bodies) are beyond the limit. For example, UK toxic air was claimed to place 1.24 million lives at risk in 2017 (Lancet Planetary Health, 2017) . Similarly, water pollution has been found to create tragedy in many water bodies including oceans (Paital et al., 2018 . Under such conditions, probably Mother Nature was waiting for a break to revive her individual ecosystems. It seems that social lockdown to combat COVID-19 has given a much awaited break to her for self-regeneration. Humans are locked indoor and their dominant activities are stopped, as a result, important environmental indices such as the reduced NO 2 , CO 2 emissions, water pollution, and increasing air quality in many polluted cities have been observed . How COVID-19 induced social lockdown has helped nature to nurture was the central focus of this review and emphasis was also given how long nature can able to maintain it. A light discussion was also made on whether the introduction of COVID-19 was natural plan by the Mother Nature to self-revive? All authentic news sources such as Reuters, BBC news, Times, Hindustan India, India Today, WHO etc. along with scientific literature were carefully analysed to reply above questions positively.\n",
            " J o u r n a l P r e -p r o o f 8\n",
            " A brief discussion about the gradual introduction of COVID-19 from Wuhan city China to 210 counties of the world creating the pandemic by CoV-19 and its prevention by social lockdown is made recently . In this context, four aspects are now under high consideration from different angles so far. They are, 1) prevention of COVID-19), 2) its treatment, 3) impact of COVID-19 on the environment and vice versa and finally, 4) the controversial debate on the origin of CoV-19, whether it is a natural mutant or bio-engineered in laboratory to be used as bioweapon.\n",
            " Development of a vaccine takes usually 12-18 months due to different phases of its trial. However, many claim for an early discovery of a vaccine against CoV-19. Still the world is eagerly waiting for a vaccine against COVID-19 and hopefully, it will be available soon (Ahn et al., 2020) . To come up with specific drugs or vaccines, several research institutions are working 24/7 although, conventional or alternative medicines using both wet and dry laboratory approaches are suggested for the treatment of COVID-19 Paital et al., 2014 Chu et al., 2004, Chafekar and Fielding , 2018; Mishra et al., 2019; Caly et al., 2020; Dong et al., 2020; Huang et al., 2020; Raja et al., 2020; Swain et al., 2020; Vellingiri et al., 2020; Zhou et al., 2020) . High throughput in silico screening is also suggested to find a suitable inhibitors against the viral proteins, like it has been found for other enzymes Paital et al., 2011 Swain et al., 2020) . However, it is noticed that many existing remedies such as the anti-malarial (Chloroquine, Yao et al., 2020a , b, Hydroxychloroquine, Science News, 2020 , anti-HIV drugs (Lopinavir or Ritonavir, , Smith et al., 2020 , nucleoside analogue (Remdesivir, Brown et al., 2019; Ko et al., 2020; Wang et al., 2020; Wit et al., 2020) , macrolides (Azithromycin, Smith et al., 2020) , monoclonal antibody (Tocilizumab, Xu et al., 2020) and corticosteroid or infected blood plasma therapy are re-J o u r n a l P r e -p r o o f purposed to combat COVID-19 (Smith et al., 2020) . Many are now concentrating on the plasma therapy against COVID-19, as the sources of getting infected plasma from the blood of the recovered patients from COVID-19 are plenty (ET PTI, 2020) . And, it is one of the promising options for the treatment of COVID-19, as the first trial on it is found to be successful in India (Choudhary, 2020) .\n",
            " On the other hand, the debate on the origin of the virus is now slowly catching pace among many experts. Genetic sequence analysis of CoV-19 indicates that it has 50% and 79% similarities with MERS-CoV and SARS-CoV, respectively. So, experimental results disprove so far that CoV-19 is not engineered in laboratory rather it is a natural mutated strains from its above two pre-existing forms Guo et al., 2019; Science News., 2020; Scripps Research Institute., 2020; Shereen et al., 2020) . However, the Nobel laureate Professor Montagnier, who had shared the 2008 Nobel Prize in Medicine (for his work on the identification of AIDS virus) with his colleague professor Françoise Barre-Sinoussi, claimed that \"The presence of elements of HIV in the genome of the coronavirus and even elements of the \"germ of malaria\" are highly suspect, the Wuhan city laboratory has specialized in these coronaviruses since the early 2000s. They have expertise in this area and therefore the theory that Covid-19 virus originated in the lab is making rounds for quite some time\" (DT NEXT, 2020). Similar stories are online that, Japan's Nobel Prize winning Professor of Medicine, Professor Dr. Tasuku Honjo has claimed that the Coronavirus is not natural but has been manufactured, although the statement is found to be fabricated (Guniganti, 2020) . Conversely, if experimental results are to be believed, then it can be concluded that nature has introduced CoV-19 Guo et al., 2019; Science News., 2020; Scripps Research Institute., 2020) . However, the question remained unsolved that for what purpose the Mother Nature has introduced it? It is a million dollar question, although, experts opines it as \"just a natural evolutionary event\" that the novel J o u r n a l P r e -p r o o f CoV-19 was emerged from two of its pre-existing form using bat as its host. On the other hand, the planet had witnessed many natural catastrophic events to make a pause or control over the misbalanced ecosystem or an overpopulation of a particular species. The extinction of dinosaurs is considered as one of such bright examples (Kumar, 2018; Brusatte et al., 2015; Donihue et al., 2018) . It seems much philosophical but makes a valid discussion that nature wanted to self-regenerate with zero contribution of human being or keeping then indoor self-locked. And, it has been happening via introduction of CoV-19 followed by the imposed social lockdown. Study must be focused to answer this evolutionary question in order to teach human society to follow such lockdown voluntarily in order to allow for the self-regeneration of nature. This may be referred as natural selection by nature, for nature to self-regenerate. It is witnessed in Qatar, where, people have demanded COVID-19 like lockdown to resuscitate their deteriorated environment (Bir, 2020) . The above point seems valid when climatic changes have been observed in several metro-cities in the planet.\n",
            " Although, articles on environmental impacts by COVID-19 outbreak indirectly are scanty as on 25.04.2020, many sources claim that nature is on bounce-back mode under the COVID-19 induced worldwide lockdown. This aspect is discussed in next parts of this article considering changes in different environmental indices in various cities during lockdown.\n",
            " Social lockdowns in many countries have some surprising side effects as evidenced by the reduced Nitrogen dioxide (NO₂) emissions. Nitrogen dioxide emissions are one of the major air pollutants emitted from industrial and vehicular operation. As both the above operations have come to a substantial halt for more than 100 days in many counties during this pandemic, NO₂ emissions are diminished, as visible from space. As per the image issued by The Centre for Research on Energy and Clean Air (CREA), form the satellite footage from J o u r n a l P r e -p r o o f 11 NASA and also the European Space Agency (ESA), a radical drop in NO₂ emissions over recent months is indicated, particularly across Italy, China and also in India ( Supplementary   Fig 1, Dahiya, 2020) .\n",
            " Due to the decrease in consumption of diesel, petrol and other petroleum combustions in USA, Italy and China, particularly in Wuhan city of China, NO 2 emission is magnificently reduced. A 10-day stirring average animation (from January 1 st March 11 th 2020) of NO 2 emissions across Europe has clearly demonstrates the drop of NO 2 emissions and its impact on the environment. As per the ESA, that's not all: a drop in boat traffic also means that Venice's canals of Italy are clear for the time being, as small fish have begun inhabiting the waterways again. Although, experts are cautious to note that this does not necessarily mean the water quality is better but the transparency is increased for sure.\n",
            " The rate of NO 2 emissions in China is more noticeable. China is the world's greatest central manufacturing centre and acts as a substantial contributor to greenhouse gases in the entire world. However, in the month following the Lunar New Year (a week-long festival in observed in early February in China), satellite images have put forth a different story. Under COVID-19 infection, factories were shut down leading to the reduced NO 2 emission is observed in many cities of China. As a result, pollution is decreased and air quality is substantially increased. Images from NASA Earth Observatory indicate that NO₂ emission everywhere in the Hubei province, the original epicentre of the virus, was sharply dropped as factories were forced to shutter their doors for the time being ( Supplementary Fig 2) . At the same time, use of coal fuel was also drastically dropped in Chia ( \n",
            " As a result of lockdown and in some places complete shutdown in India (where the disease hit to make it hotspots), air pollution is seen to be prevented to rise rather it is deceased to multi-folds. The reason was attributed to the reduction in emissions from fossil fuels from different sectors mainly industry and vehicular operation on road. The average NO 2 level in major cities such as Mumbai, Pune and Ahmedabad is reduced at east by 40-50% by March 2020 than March 2019 (Wright, 2020) . The sky of New Delhi is clearly visible than four months ago. People are now feeling safe to breathe pollution free air.\n",
            " Hilariously, it has also been posted that unlike before, Burj Khalifa, Eiffel Tower is now can be seen from Noida city, New Delhi, which was not visible due to huge pollution (Kohli, 2020). However, effects lockdown on the reduction of pollution in New Delhi is seen to be accurate.\n",
            " Under mild or severe lockdown in COVID019 affected 210 countries, motorways are cleared and factories are also closed. It is resulted the dirty brown pollution belts to shrink over multiple cities and industrial areas in country that follow lockdown. The gradual lockdown imposed in countries such as China, then Italy, UK, Germany and dozens of other countries are experiencing temporary falls in CO 2 and NO 2 emissions of as much as >40%.\n",
            " As a consequence, it is improving air quality magnificently and the risk of respiratory diseases such as asthma, bronchitis, other lung diseases are found to be reduced substantially along with alleviated heart attacks risk (Watts, 2020) . In China, responsible for the world's biggest carbon emissions, is noted to experience a temporary fall of ~18% CO 2 emissions during February and March 2020. Around a reduction of 250 m tonnes of carbon sources are used in China which is equivalent to > half annual output values in the entire UK. Similarly, J o u r n a l P r e -p r o o f 13 Europe is predicted to experience a reduction of around 390 m tonnes of carbon sources as a result of lockdown. In USA, the main source of CO 2 emissions is passenger vehicle traffic. It is magnificently reduced to ~40%. A reduction of ~44% car sells and huge reduction in fossil fuel consumption in London add a glimpse note to the reduction of emission factor. Since consumption of fossil fuel is the main source of CO 2 emissions in industrial sectors and by vehicular traffic, both were shut down contributing to the observed changes. Rob Jackson, the chair of Global Carbon Project opines that \"The drop in emissions is global and unprecedented. Air pollution has plunged in most areas. The virus provides a glimpse of just how quickly we could clean our air with renewables. He also added \"I refuse to celebrate a drop in emissions driven by tens of millions of people losing their jobs because the human cost is too high and the environmental gains could prove temporary. So, we need systemic change in our energy infrastructure, or emissions will roar back later\". This is potentially good news for the weather as oil is the principal source of the carbon emissions that are heating the earth and upsetting weather cycles. It is believed that it could mark the start of a prolonged downward trend in emissions and the beginning of the end for huge fossil oils.\n",
            " However, such changes in CO 2 emissions are expected to bounce back after lockdown is lifted but Mother Nature has experienced the first fall in global emissions since the last 12 years (Watts, 2020) .\n",
            " Nature and its natural resources are over exploited by human for whom regular international and national meetings are held in our planet albeit expected results at the field level are always not satisfactory. The world has witnessed many such intra and inter-nation gatherings without any substantial results to save the environment. However, COVID-19 induced lockdown, push one third of human population into indoor and human being is J o u r n a l P r e -p r o o f 14 practically doing nothing to save the environment but busy how to get rid from the virus that has caused pandemic. Probably, the Mother Nature is trying to bounce back when human is doing nothing for it, and that is the greatest contribution of human race ever towards nature (human has been doing a great job to revive nature by doing nothing). The world as an ecosystem belongs to every organism but was dominated by human, and, taking the advantage of their absence, wild animals are found moving across the roads, cities, and other human habitation. People are observing spontaneous changes in nature witnessing its selfrevival. Air Quality Index (AQI) is a pretty robust metric which reflects to be changing in favour of the Mother Nature. Therefore, COVID-19, a naturally mutated strain introduced by nature via bat to human population Science News, 2020) may be a strategic plan by nature, which is focused in this article.\n",
            " COVID-19 quarantine has locked humans at their home; it gives wild life a never seen freedom to leave an earmarked live. It is explored that in human-dominated areas or 'rewildling' urban areas, free movements of wildlife are observed. Wildlife Institute of India, issued a real time data using an app \"Lockdown Wildlife Tracker\" to share comfortable wildlife movement in human restricted zones. This free app makes it convenient to keep track on wildlife movements (captured and shared by any one in world) due to lockdown, and all data in the app will be stored and will be openly available for scientific research, education, very less this year that predicted to lower the toll for road kills. For example, the annual hit and run cases of about 100,000 hedgehogs, 30,000 deer, 50,000 badgers and 100,000 foxes alone in UK are highly predicted to be lower down (Newburger and Jeffery, 2020) and, that will give protection to them.\n",
            " In the short-term of lockdowns as compared to million years human dominant behaviour in the planet although resulted in dangerous to downturn in economic activity, it is considered as a benefit to fauna and flora of nature. Such temporary social move by human potentially demands the reduced call for the exploitation of many natural resources (Swain et al., 2020) put fewer loads on natural habitats in one hand and allows self-regeneration of nature on the other hand. Therefore, a temporary \"post-human\" era continuing for wildlife that makes a sarcastic comeback to the idea that wild lives are living in Anthropocene, but without human domination to reshape the planet by them. So, in Anthropocene era, human dominancy declines, where nature is the beneficiary. However, in poorer countries in southern hemisphere are predicted to be in fear because of an increased threat to wildlife.\n",
            " Potential reasons attributed to the decreased economic capacity in pandemic areas of such countries will be less money, and personnel that will make difficult to conserve endangered species and habitats (Loring, 2020; Newburger and Jeffery, 2020) .\n",
            " In Barcelona, Spain, boars are found to roam the city and roads where, vehicles rush the position. In Santiago, the capital of Chile, wild puma, hill dwellers, are noticed in night time. Marcelo Giagnoni, the director of the agricultural and Livestock Service have opined that \"This is the habitat they once had and that we have taken away from them\" (Reuters news, 2020). In Northern America, Orcas have also seemingly been encouraged to explore by human's momentary lack of presence, with locals reporting spotting the majestic whales in parts of a Vancouver fjord for the first time in last few decades (Child et al., 2020) . Small observing the highest blooming of wild flowers they have ever noticed (Child, 2020) . It indicates that how the world can re-generate her faster without human interference.\n",
            " Therefore, stricter rules need to be adapted in post-COVID-19 period to implement social lockdown at regular intervals to nurture the nature.\n",
            " According to the WHO, noise pollution affects > 100 million people across Europe.\n",
            " Remarkable health issues that can be arrived under noise pollution include internal stress at cell and organ level, overall stress, weakened mental acuity, elevated blood pressure and heart rates. These issues act as precursor to initiate several other physiological disorders and diseases . In extreme cases, noise pollution can also lead to dementia, stroke, and heart attack (European Union, 2015). All sources of noise pollution are due to human activities. Residential noise (i.e. neighbours), noise from commercial premises (markets), building site, burglar alarm, loud speakers, noise in the street (vehicular traffic) and noise in air (aircraft) are few main types ((European Union, 2015) . Surprisingly, road traffic accounts for premature deaths equivalent to the loss of roughly \"1.6 million healthy years of life\" in Western Europe alone. Noise remains a big source of pollution for the other inhabitants of the planet as well, namely, animals and most importantly bird, the most noticeable and vocal animals observed everywhere. Chronic traffic noises are hazardous to birds and impose huge negative effect on their embryo mortality and growth in zebra finches. Noise pollution affects many other creatures ranging from frogs, to shrimp, to fish, mammals, mussels and snakes and they have different ranges of sensitivity to noise (Schuster, 2020, Table 1 ). And, most of the sources of noise such as air conditioner, air craft J o u r n a l P r e -p r o o f 17 and wind turbine, city traffic (Car etc.), road traffic, loud television, railway, standing siren are found to be above the sensitivity level (Fig. 1) . International flights are almost standing still due to lockdowns (supplementary Fig. 5) . So, most of the noise in every sector is created by human activities are stopped for the time being. Last month, road and air traffic fell substantially in many counties. In Indian major cities such as New Delhi, Mumbai, Bengaluru and Chennai, the foot print (as measured by daily average changeover of foot prints (%) in terms of walk-ins from home to bank, groceries, petrol pumps, and diagnostic centres) to the respective sectors are reduced during lockdown , Livemint, 2020 .\n",
            " Similarly, the foot print has been drastically reduced in the UK by > 70% when the Beatles were in shorts as compared to before lockdown. With less human movement, the planet has literally calmed: seismologists report lower vibrations from \"cultural noise\" than before the pandemic (Watts, 2020) . Nevertheless, it a good sign for self-regeneration of nature.\n",
            " Health of environment is an important factor to maintain human health also Paital, 2016a, b; . Due to COVID-19 outbreak, many climatic data gaps have been arriving across the world. Climatic data collected on regular mode for the protection of mankind have caught a pause and the gaps prevailed during lockdowns are not going to be filled any more in future. For examples, twice per year, Ed Dever's group at Oregon State University in Corvallis heads out to sea off the Oregon and Washington coasts to refurbish and clean more than 100 delicate sensors that make up one segment of a US$44million-per-year.The Scientific network called it as the Ocean Observatories Initiative. As per Ed Dever \"If this had been a normal year, I would have been at sea right now\" (Viglione, 2020) . On the other hand, due to lockdowns and industrial shutdowns as an effects imposed by COVID-19, pollution in city air and water bodies is receiving a down mode due to lack of J o u r n a l P r e -p r o o f massive use of fossil fuels and discharge of industrial effluents (Verkooijen, 2020; Levy, 2020) . Two major factors i.e. CO 2 and NO 2 emissions are already discussed and examples of many sparkling water in rivers and canals of several countries are cited. However, one important aspects i.e. effects of environment on the propagation and infection of Coronavirus is yet to be studied. As discussed, temperature may have negative effects on the life cycle of the virus for which countries such as India with the 2 nd highest population status is getting a delayed infection and death under COCID-19. Although a strict social lockdown is given credit for this achievement, the hot and humid climates could also be a reason in India for having a lower rate of infection . Debate was rigorous on the topic, whether the virus is really unstable at high temperature? However, putting an end to this hypothesis, a study published in Lancet indicates that CoV-19 has a negative correlation with temperature ( Fig. 2, Chin et al., 2020) . As per their statement \"SARS-CoV-2 in virus transport medium (final concentration ∼6·8 log unit of 50% tissue culture infectious dose [TCID50] per mL) was incubated for up to 14 days and then tested for its infectivity (appendix p 1). The virus is highly stable at 4°C, but sensitive to heat. At 4°C, there was only around a 0·7 logunit reduction of infectious titre on day 14. With the incubation temperature increased to 70°C, the time for virus inactivation was reduced to 5 mins\" (Chin et al., 2020) . Further the authors have noticed that the virus has more stability on the smooth surfaces than rough one.\n",
            " The virus lost its virulent capacity within 2 days on cloth and wood surfaces. Similarly, the virus can sustain on glass and banknote surfaces for 4 days and on stainless stills and plastics for 7 days. On the surface of the surgical mask, the virus can sustain up to 7 days. At room temperature (22 °C), the virus can sustain for 5 minutes and it can resist a wide range of pH starting from 3 to 10. Therefore, it is concluded that the virus can sustain longer in favourable conditions but are susceptible for standard disinfectants (Chin et al., 2020) . So, the virus has J o u r n a l P r e -p r o o f different susceptibility to environment especially to temperature but normal alcoholic based disinfectants must be used to sterilise hands .\n",
            " On the other hand, a positive correlation is noticed between COVID-19 infection and morbidity and air pollution. Case studies in many countries including Italy, USA, Philippines, Denmark, Chile, Brazil, Mexico and Peru have confirmed this fact. A case study in US indicates that COVID-19 associated death rates are raised by about 15% in areas where even a small increase in fine-particle pollution level is observed than pre-COVID-19 period. The Lombardy and Emilia Romagna regions of northern Italy that experience more air pollution, found to have 12 and 4.5% more death rates, respectively, as compared to other unpolluted areas of the country. And, since COVID-19 is principally a respiratory syndrome, polluted air can logically increase the risk of death of infected patients. In this context, it is noteworthy to mention that > 90% of the world's population live in places, mostly in poor countries where, air pollution exceeds its guideline limits. It could lead to hypothesise that severity of the COVID-19 infection may be augmented by particulate matter present in air (Table 2, 3, WHO, 2020b, c). In one hand, the particulate particle may carry the virus itself or it may create more complication in the respiratory track of patients during CoV-19 infection. Therefore, using mask even inside home in severely air polluted area is strongly recommended.\n",
            " Air quality and exposure to it is equally important as water to combat any stress (Paital, 2013 (Paital, , 2014 . The COVID-19 has taken millions of people off the streets in Asia, Europe and the United States. All staying home are lifting the weight indirectly for a global environment what they even not imagined while working actively. Therefore, from cleaner air to sparkling water, lockdowns against coronavirus in the planet seem to have a number of J o u r n a l P r e -p r o o f positive and progressive effects on the environment but by putting a pause on modern social life of human (Child, 2020) . Cleaner air is perhaps the most valuable outcome of the lockdowns, for example, people in Northern India are now able to view of the overall image of Himalayan mountain range (supplementary Fig. 6a) . And, it has happened once in their life time due to massive drop of air pollution and settling down of air particulate matters. This was also the case in UK where, the reduction of NO 2 and particulate material in air has been dropped as compared to the same time point of previous year (Child, 2020) . USA and other countries are also experiencing the same trend from their normal level of (PM2.5 and PM10) particulate matter (Table 2 and 3, EPA, 2017 , WHO, 2020a . NASA, the European Space Agency (via Copernicus Sentinel-5P satellite) has clearly demonstrated a drastic decline in NO 2 and CO 2 emission in many countries including China, USA, and Italy (Zehner, 2020) . It is the effects of less vehicular traffic and industrial exhaustion of fossil fuel including coal (supplementary Fig. 1-3) .\n",
            " Due to pause in industrial effluent discharge into the canals of the famed canal city of Venice, Italy, its water found to glitter in March 2020. And, it was bit stinky previously but is currently visible with schooling of fish in its water along with swans hanging around enjoying the unusual urban peace and quiet. The alteration in clarity of water transparency has given a never seen offer to the locals to have a clear view of schooling of small fishes, crabs and lashing multi-coloured plants in the Lagoon of Venice. Due to uninterrupted boating and pollution, this was never possible earlier in last decades (Mack, 2020) . As per the locals, \"nature has returned and is taking back possession of the city\" (Child, 2020) .\n",
            " Shutdowns are likely to impact the amount of carbon in the atmosphere as well. Due to radical reduction of CO 2 (~25%) and NO 2 emissions and reductions in coal and crude oil burning in China, the country has been experiencing cleaner air. Last year at the same time, it was about 100 metric tons of CO 2 emission that contributed 6% of global emissions. In New J o u r n a l P r e -p r o o f 21 Delhi, India, some of the river water bodies are found to exhibit never seen glittering scenery.\n",
            " The Yamuna river and its sky in New Delhi can be considered as an active example, in which, people have not ever observed the before seen sparkling Yamuna river water and the blue sky canopy over it . It may be due to the shutdown of industries in New Delhi and lack of release of their effluents into it (Gandhio, 2020, Supplementary Fig.   6b ). These are believed to be the results of dramatic effects of social lockdowns imposed by the COVID-19 outbreak. The question remained to be answered that whether it is a natural selection process by CoV-19 mediated nurturing to the nature? (Child, 2020; Bhattacharyya, 2020) .\n",
            " The self-regenerating nature to nurture her-self is overwhelming across the planet earth. It is predicted that such nurturing to global environment would not be possible in the Cop26 UN climate talk that was planned originally to be held at Glasgow. So the public debate is still continuing by UN leaders, scientists and environmental activists for the (self?) recovery of green environment and clean energy. Emphasis is given for building efficiency to make natural infrastructure to reinforce global environments. Open letters appealing governments must be posted to make equal strategies for recovery packages to revive nature (which is now easy to handle) along with getting back to business economy. As opined by Inger Andersen, UN's environment chief, \"75% of new infectious diseases are usually animal born and they are communicated more rapidly to humans through wildlife trafficking (by direct contact), deforestation (force wildlife to invade human habitats) and then the epidemics spread in the planet via air travel and cruise-ship tourism. China being the world's biggest wild animal market probably has contributed to COVID-19 this way.\" Now it appears that the country has accepted this and therefore, forbidding the farming and J o u r n a l P r e -p r o o f 22 consumption of live wildlife and its trading. Such alarming calls are also getting a pace globally to \"wet markets\". On the other hand, it gives a strong message that over exploiting nature, ignoring to dismantle natural settings, neglecting deforestation etc. put our own safety on earth at threat and, COVID-19 outbreak is the active example to be considered. So, the current pandemic is good or bad for the environment completely depends on human but not on the CoV-19, because the later has been acting as effect not as cause. So, post COVID-19 outbreak time must be utilised to put pressure from all sectors of society especially from political sections not go back to unsustainable business as usual rather than to emerge with a healthier environment (Andersen, 2020) .\n",
            " In China the COVID-19 graph is found to be flattened and hence the government may decide to bounce back to its normalcy for social and economic activities and that would get to pick back up in April 2020. So, it is questionable how long the pollution level will under the threshold and whether NO₂ emissions will rebound right back to their pre-pandemic levels.\n",
            " This bounce-back effect that sometimes reverses any overall drop in emissions is called as \"revenge pollution\". The scenario during post COVID-19 pandemic period could be same for all other nations that enjoying current auto-regeneration of environment. It is very unusual to expect the reduction of emission in this way of pandemic. COVID-19 has taken a grim global toll on lives, health services, jobs and mental health. But, if anything COVID-19 has paid back to human society is climate recovery. It is a lesson to human that it is possible to reverse the impaired nature with mutual agreement among community as they did it for social lockdown in many countries. With a strong will at the national or international level, it is possible to save nature from the current time point. \"So why haven't we for climate? And not with words, with real action\" (Henriques, 2020) . And, it is to be noted that how governments prime the economic pumps with the intention of a return to business as usual keeping environmental gains to be temporary or reversed? On the other hand, Qatar is witnessed as J o u r n a l P r e -p r o o f 23 the first country to demand such lockdown on regular basis at its landscape, as its people understood environmental issues such as increase in sea level, temperature, ocean acidification, intensity of sand storms induced serious risk as a result of pollution and their management by lockdown. They feel that many ecological issues that arrived due to human activities can be paused or decreased by observing lockdown at regular intervals (Bir, 2020) .\n",
            " Although deer in many parks such as in Japan's Nara Park are usually fed by visitors, but with that meal ticket suddenly dried up, they have left the park and taken to the streets of the city to look for food. Comparable to above, in places like Lopburi, Thailand, Khandagiri and Udaygiri hills, Odisha, India (Mohanty and Paital, 2005) , the local monkeys previously were depending on tourists for food. Following lockdown, they have mobbed the town in search of sustenance, sometimes fighting with each other in the process. On the other hand, when a large environmental move takes place, few pay the price for the larger benefit, what it is considered as nature is rejuvenating under social lockdown (Specktor, 2020) . Therefore, government plans for establishment of natural restaurants for wild animals is also suggested Paital, 2016c) .\n",
            " CoV infection has emerged as a deadly infectious disease causing the greatest pandemic in the planet. The entire world including 210 nations is following lockdown with a different level of stringency to combat COVID-19. Countries like India and China had been following a very stricter and early lockdown for which they are enjoying a controllable infection and death rate from COVID-19. However, the virus has a negative correlation with temperature for its propagation and alcoholic based standard sterilisers can deactivate it. On J o u r n a l P r e -p r o o f the other hand, reduction of human dominancy in environment is resulted in a drastic climate change. Mostly due to shutdown of industries and restriction of vehicular traffic, as a result, use of fossil fuels is reduced substantially. Therefore, NO 2 and CO 2 emissions are radically reduced in many metropolitan cities across world. Such favourable natural changes have made wildlife to move with full freedom in one hand, and the biodiversity is elevated in any areas on the other hand. Due to the reduction in air particulate matter and fall in water pollution in many places such as Italy, Spain, France, Los Angeles of USA, Wuhan city of China and New Delhi of India, people are experiencing the never seen elevated environmental revival due to cleaner air, and sparkling water bodies and beautiful wild animals roaming around human habitats. Due to shutdown of bus, train and flights, wild animals especially birds are enjoying a noise free environment. It is nothing but the Mother Nature is trying to bouncing back. After the end of 100 days of lockdown in some of the countries, it has been felt that life is possible without so much modernised life style especially those acts associated with fossil fuels. Solar energy, wind meals etc. can be used instead. It is a glimpse of what the world might look like without fossil fuels but hopes that humanity could emerge from this horror into a healthier, cleaner world, and, will depend not on the short-term impact of the virus, but on the long-term political, institutional, social, communal and individual mind-set and collective decisions to give a checkmate to climate deterioration.\n",
            " Because, there is a chance that post-COVID-19 period would bring the pace of human dominancy and environmental pollution back. Therefore, the self-regenerated nature without human effort can be everlasting with human interference during post-COVID-19 periods and regular interval lockdowns in entire planet coupled with long term holidays are suggested as one of the measures. On the other hand, as per recent studies, along with strict social lockdown, masks must be used to prevent COVID-19, even at home where, air pollution level is very high. \n",
            " The author declare that they have no known competing financial interests or personal relationships that could have appeared to influence the work reported in this paper. Hz-hertz-. KHz-kilo hertz, dB-decibel. Both the lowest and the highest hearing range was found to be by mammals. Average fine PM 2.5 (particle size 2.5 µM) and course PM 10 (particle size 10 µM) found in some of the countries during pre-COVID-19 time period. After lockdown the data may be available about post)COVID-19 time period to be compared. DAV-Daily\n",
            " Average Value, ANV-Annual Average Value, DNA-Data Not Available (Source EPA, 2027). Hz-hertz-. KHz-kilo hertz, dB-decibel. Both the lowest and the highest hearing range was found to be by mammals.\n",
            "\n",
            " Recomendation  3 \n",
            "\n",
            "FIGURES: Table 1 : Available sex-disaggregated data with source URLs & dates accessed Table 2 : Variability of reported sex ratios for COVID-19 infection -decrease with time Table 3 : Available cases and deaths by sex data (20 countries, 2 nd capture) Table 4 : Sex ratio among hospitalizations and ICU Figure 1 : Visualization of sex ratios for infection cases by pie charts show data disparity by country and longitudinal evolution (screen captures) Figure 2 : Mirror bar graphs of the number of confirmed cases by age and sex in Denmark illustrate widely different distributions over time (screen captures) Figure 3 : Extreme disparity of data display and age binning for COVID-19 cases disaggregated by sex and age (screen captures, bar graphs) Figure 4 : The sex ratio of confirmed cases varies by age and with time (graph) Figure 5 : Sexual dimorphism of lethality in COVID-19 (data, graphs, and screen captures of death by sex) Figure S1 : Screen captures of comorbidities disaggregated by sex (Spain, USA) Table S1 : Raw data and calculations for cases by sex and age (Fig. 4 ) Table S2 : Raw data and calculations for lethality (Fig. 5) . CC-BY-NC-ND 4.0 International license It is made available under a is the author/funder, who has granted medRxiv a license to display the preprint in perpetuity.\n",
            " In February 2020, two early reports on the epidemiological characteristics of the COVID-19 outbreak on large populations were made public, both from China. The first, published by the China Center for Disease Control (CCDC) on February 17, 2020 1 included 72,314 individuals suspected of being infected, of which 44,672 (61.8%) were confirmed by laboratory testing. Among those, it reported a (male-to-female) sex ratio among cases of 1.06:1 (with slight geographical variation, 0.99:1 in Wuhan and 1.04:1 in Hubei). The second report, published less than 2 weeks later by the World Health Organization (WHO)-China Joint Mission on COVID-19 2 , confirmed that roughly an equal number of men and women were infected in this population (51.1% of 55,924 laboratory-confirmed cases were men). Both studies also calculated a case fatality (or lethality) rate, and found a large sexual dimorphism. The earlier study found that 2.8% of infected men vs. 1.7% of women had died. The later report had higher lethality rates but a similar ratio (crude fatality rate was 4.7% in men vs. 2.8% in women). For a roughly similar infection rate, the distribution of lethal cases was almost 2/3 of males and 1/3 females, meaning twice as many men died of the disease than women.\n",
            " A New York Times article on March 20, 2020 3 described a similar sexual dimorphism for the Italian outbreak: according to an analysis by the Higher Health Institute of Rome of over 25,000 COVID-19 cases, 8% of infected men, compared to 5% of infected women, had died. Possible epidemiological differences also began to emerge as, in the Italian population, the proportion of men in the group who tested positive was significantly higher (about 60% were men) than in the Chinese cohorts.\n",
            " This finding was reminiscent of the two previous outbreaks due to other strains of coronavirus, Severe Acute Respiratory Syndrome coronavirus (SARS-CoV) and Middle East Respiratory Syndrome coronavirus (MERS-CoV). For example, the lethality in infected men during the 2003 SARS-CoV outbreak in Hong-Kong was 21.9% vs. 13 .2% in women 4 ; lethality has also been higher in men in the MERS-CoV outbreak (e.g. 30.5% vs. 25 .8% in 2017 5 ). Possible explanations for the sex differences in SARS-CoV-2 infection have been extensively discussed elsewhere [6] [7] [8] and include sexual dimorphism in immune response to infection, incidence of comorbidities and risk factors, such as chronic lung disease, and the gender-role behaviors that may underlie those, such as smoking.\n",
            " While the United Nations have requested gendered statistics be collected since at least the 1975 first World Conference on Women, a December 2010 report from the UN Economic and Social Council on the Global Gender Statistics Program highlighted that many countries in did not in many domains 9 . This was also true for health-related data, as documented during the third Global Forum on Gender Statistics (Manila, 2010; which focused on health statistics). Stunningly, it took the WHO until 2019 to publish its annual World Health Statistics report with data disaggregated by sex 10 . This report highlighted the vast sex differences in all aspects of health epidemiology, . CC-BY-NC-ND 4.0 International license It is made available under a is the author/funder, who has granted medRxiv a license to display the preprint in perpetuity.\n",
            " The copyright holder for this preprint this version posted May 5, 2020. . https://doi.org/10.1101/2020.04. 29.20083709 doi: medRxiv preprint (including access to and attitudes toward care), and revealed that \"of the 40 leading causes of death, 33 causes contribute more to reduced life expectancy in men than in women\". The importance of, and suggestions for, metrics to document communicable diseases were also detailed in a 2007 WHO report 11 .\n",
            " Recent experiences with the Ebola virus and Zika virus epidemics should have educated us to the importance of documenting epidemiological metrics by sex, adapting aid response to the specificity of local gender roles, and involving both genders in surveillance and decision-making 12 . However, as Wenham et al. alerted in The Lancet on March 6, 2020 12 : \"Policies and public health efforts have not addressed the gendered impacts of disease outbreaks. The response to coronavirus disease 2019 (COVID-19) appears no different. We are not aware of any gender analysis of the outbreak by global health institutions or governments in affected countries or in preparedness phases.\"\n",
            " Mandates to address sex/gender in grant applications have been in place since 2010 in Canada 13 and 2014 in Europe 14 . Inclusion of women in NIH-sponsored clinical trials has been required since 1993 and, since 2015, NIH policies requires consideration of the concept of sex as a biological variable (SABV) in the design, analysis, and reporting of studies 15 . Guidelines to design such studies have been published (e.g. 16 ). However, while researchers are now routinely reporting sex ratios in their cohorts, the full potential of analyzing sex-disaggregated data to uncover potential sexual dimorphisms has yet to be realized. For instance, the first COVID-19 randomized clinical trial, reported that lopinavir-rotonavir, an antiviral combination used in the treatment of HIV infection, was not effective against SARS-CoV-2 17 . A similar number of men and women were included in the trial, but drug efficacy was not analyzed by sex. Similarly, a report demonstrating that heart damage is in independent risk factor for death in COVID-19 infection did not analyze data with sex as a biological variable 18 . A similar number of men and women (50.7%) were included in the final report of 416 consecutive cases, but a larger proportion of women had been excluded (57% of 229) because critical laboratory results were not available for them. This seems a missed opportunity given the well-known sex differences in the burden of cardiovascular disease (e.g. 19 ).\n",
            " An emerging hypothesis to explain the severity of disease in some patients is the so-called \"Cytokine Storm\", or cytokine release syndrome 20, 21 . Accounts are emerging in the news media that critical patients were saved by experimental treatment with anti-inflammatory drugs (e.g. 22, 23 ) . As the immune response is one of best documented sexually dimorphic biological process in humans 24, 25 , collecting and analyzing data regarding the immune and inflammatory status of patients in a sexdisaggregated way will be critical in devising appropriate therapies.\n",
            " . CC-BY-NC-ND 4.0 International license It is made available under a is the author/funder, who has granted medRxiv a license to display the preprint in perpetuity. (which was not certified by peer review)\n",
            " The copyright holder for this preprint this version posted May 5, 2020. . https://doi.org/10.1101/2020.04. 29.20083709 doi: medRxiv preprint We sought to document what sex-disaggregated information was made available to the public and the research community through governmental websites. To account for the extreme fluidity of the situation, we accessed official websites at the transnational, governmental, and US State levels in on two occasions within the span of approximately 3 weeks, between March 21-24 and April 5-10, 2020. Available sex data for cases and deaths were scarce in the first data capture, and more generalized in the later one. We found extreme diversity in the type of data captured, graphs chosen to illustrate them, and ease of accessibility of released information. This diversity made it very difficult to compare data from country to country and to derive conclusive lessons from the data currently available. The abundance of nonstandardized information illustrates both the nimbleness of digital systems to support responsiveness to a new pandemic and the lack of preparedness of governmental health authorities worldwide for such an event.\n",
            " On March 22, 2020, we accessed the list of world countries ranked by number of reported cases of COVID-19 maintained by Worldometers.org. Between March 22 and March 24, we accessed the sources quoted by Worldometers to search for raw data. These sources included national news outlets reporting about official press releases (e.g. El País for Spain), as well as official governmental websites. When no governmental website was quoted, we independently searched for one. We visited and took timed-stamped screenshots of all the websites. Websites were searched by native speakers in English, French, Chinese, and Swedish; authors with fluent or functional knowledge of the language in Spanish, Italian, and German, further aided by online translators for Portuguese, Dutch, Norwegian and Danish. Available metrics, source URLs, and date of accession are collated in Table 1 .\n",
            " We also accessed the websites of trans-national entities, such as the WHO and the European CDC. Deficiencies of the WHO website, including a change in reporting methods on March 18 and an inability to correct errors in a timely fashion, were documented by ourworldindata.org 26 . The ECDC, which reports daily statistics for the whole world, beyond Europe, has been used as a reliable source by other reputed outlets. Johns Hopkins University also maintains a tally of cases on its Coronavirus Report Center webpage used as a source by news outlets. We were unable to locate any sex-disaggregated metrics on the ECDC (accessed March 20, March 22, April 2), Johns Hopkins (March 20, April 2), WHO (March 21; April 12), Worldometers (daily March 20-24), or the CDC (March 20, April 2) dashboards.\n",
            " As the US CDC disclaimed that they had stopped tallying tests and recovery rates, deferring to each US State's authorities to do so, we also sought data provided by the . CC-BY-NC-ND 4.0 International license It is made available under a is the author/funder, who has granted medRxiv a license to display the preprint in perpetuity. (which was not certified by peer review)\n",
            " The copyright holder for this preprint this version posted May 5, 2020. . https://doi.org/10.1101/2020.04. 29.20083709 doi: medRxiv preprint six States with the highest number of cases on March 23-24, 2020: New York, New Jersey, Washington, California, Michigan, and Illinois.\n",
            " As this first search revealed large variability in types of data collected and reported by governmental sites, as well as in sexual dimorphism trends, we performed a second data capture to detail the diversity of reported metrics. Websites were re-accessed at a later date, between April 4 and 10, 2020, where possible by more than one of the authors, to verify and complete data sets. (Details of reported metrics not related to sex will be reported elsewhere 27 .) To verify whether the trend of longitudinal sex ratio decrease among confirmed cases identified in some countries (see below) held in US States, the same 6 state websites were re-accessed on April 19 (by which time New York City had more confirmed cases than any world country).\n",
            " Worldometers did not provide sex-disaggregated statistics. It cited governmental websites for 8 countries, news agencies for 8, and no source for 2 ( Table 1) . For the remaining two, websites with uncredited sources were quoted: one is a GitHub for the (presumably official) Italian data; for the other, on platz.se, for Sweden, we could not identify the authors or from where the data is sourced.\n",
            " We found documentation of the sex ratio among confirmed cases on the main governmental interface and/or the Worldometers source for 6 of 20 countries, 4 of 6 US states and the WHO-Europe website. Italian data was reported in the New York Times 3 . Sweden and Australia provided graphs of cases disaggregated by both sex and age (but no numerical values). Only Denmark provided both a graph and the attached numbers. For China, available information was from the published reports mentioned above 1,2 ; we were unable to find sex-disaggregated data on the interface of either the ChinaCDC or the state-sponsored news agency SINA (which both showed the same data when simultaneously accessed on 4/4/20). We were able to find a sex ratio of deaths for 2 countries (Italy and South Korea) in the news media, and on the websites of 2 US entities (Washington State and New York City), and the Europe-WHO region.\n",
            " Several countries reported admission to Intensive Care Unit as a proxy of severity of disease (e.g. Italy, Belgium), but none did so in a sex-disaggregated way. No other metrics of the COVID-19 epidemic shown on various dashboards, such as regional distribution, possible source of infection, Intensive Care Unit (ICU) hospitalization, number of tests performed, recovery rate, or comorbidities, was reported by sex.\n",
            " . CC-BY-NC-ND 4.0 International license It is made available under a is the author/funder, who has granted medRxiv a license to display the preprint in perpetuity. (which was not certified by peer review)\n",
            " The copyright holder for this preprint this version posted May 5, 2020. . https://doi.org/10.1101/2020.04. 29.20083709 doi: medRxiv preprint Reported metrics in the second (April) data capture:\n",
            " By the time of our second data capture in early April 2020, most, but not all, countries had started reporting cases by sex (typically percentage of confirmed cases; Table 2 ) . For some countries, such as the US or France, the sex-disaggregated data was not provided on the main public dashboard, but searching through layers of links located more specific reports where the information could be found.\n",
            " Cases: We found sex data for confirmed cases in graph-only format for 3 countries (Australia, Germany, Netherlands), and numerical values for another 11 countries. For another, France, we were able to find sex-disaggregated numbers only for ICU cases. Brazil provided numbers and a bar graph disaggregated both by sex and age, but with all cases of Severe Acute Respiratory Distress Syndrome aggregated together. These included Influenza A, COVID-19 and, for the vast majority, cases still under investigation or undiagnosed.\n",
            " Deaths: Sex information for deaths was found for 12 of the 20 countries: Australia and Belgium in graph-only format and numerical data for Brazil, Canada, Denmark, France, Italy, Norway, Spain, Sweden, Switzerland, the USA (CDC, IL, WA, NYC).\n",
            " Sites with already detailed information in March, deployed richer data and analyses 2-3 weeks later. For example, Denmark, the first country to provide numerical data for cases disaggregated both by sex and age in March, provided both graph and numerical data disaggregated by sex, age, and comorbidity for cases, deaths, and hospitalizations in April (in PDF format, in Danish).\n",
            " Comorbidities: The first (and only) country to report comorbidities (and symptoms) disaggregated by sex was Spain.\n",
            " Tests: The first (and only) report of sex information on the number of tests performed was found April 19 for the US state, Illinois.\n",
            " Other: At the time of writing, no information had been found by sex for suspected source of infection or recovery rate.\n",
            " The February reports from China indicated a similar number of men and women among confirmed cases (51.1% of men of almost 56,000 cases 2 ). However soon South Korean data emerged that looked very different, with a large excess of women (61.5%) among 8,799 confirmed cases 28, 29 . The data from Italy around the same time showed an equally strong sex bias, but in an inverse direction, with over 60% of infections in men out of over 25,000 cases 3 . [Information came in from either a press article, the Tweeter feed of a reputed sex differences researcher, or the analysis of a private company]. The only other two countries for which we found numerical data in March, Denmark and Portugal, failed to bring any clarity: the sex ratio in Denmark was similar . CC-BY-NC-ND 4.0 International license It is made available under a is the author/funder, who has granted medRxiv a license to display the preprint in perpetuity.\n",
            " The copyright holder for this preprint this version posted May 5, 2020. . https://doi.org/10.1101/2020.04. 29.20083709 doi: medRxiv preprint to that of Italy, Portugal's closer to China's with 48.7% of men. In US states, the sex ratio ranged from 43% of men in Washington State to 56.2% in California (all data are shown in Table 2 ).\n",
            " More countries reported cases by sex in the later round of data capture, but the disparity of sex ratio persisted. The format in which those were reported was also variable: number of cases, percentage of men, and/or pie charts. Pie charts were visually impactful for data comparison; they are shown in Fig. 1 for the countries that made them available. All available numbers are compiled in Table 3 (where values provided by the websites are highlighted in green cells, while values calculated by the authors are indicated in italics).\n",
            " We were unable to find the number of total cases disaggregated by sex for 6 countries (Brazil, China, France, Iran, UK and USA). Three countries reported cases by sex only in graph form (Australia, Germany, Netherlands), disaggregated by both sex and age. Visual inspection of the graphs suggested a large surplus of men among cases in the Netherlands, but not in Germany or Australia (see Fig. 2 ). Among the 11 countries where numbers were available (Table 3) , the proportion of men varied by over 13 percentage points, ranging from 53.1% (Italy) to 40% (South Korea). Italy was the only country with a larger proportion of men. Two countries reported an equal number of men and women among confirmed cases (Austria and Norway; with Spain at 50.8%). Belgium, Canada, Denmark, Portugal, S. Korea, and Switzerland reported an excedent of women by at least 6 percentage points.\n",
            " The pie chart representation of the Portuguese data helped us immediately visualize a change of sex ratio among cases between March 22 and April 6. As shown in Fig. 1 (top row), longitudinal comparison in Portugal revealed an increase in the percentage of women among cases from 51.3% (Mar 22) to 56.7% (Apr 7). The trend continued with an increase to 58.5% just 6 days later.\n",
            " In the same time period, proportions appeared roughly unchanged in South Korea, with ~60% women, (although the change of color convention of the statista.com graph misleadingly suggests otherwise; Fig. 1 middle row). Among the other countries who had started providing pie charts in the second capture ( Fig. 1 bottom row) , Austria had equal numbers of confirmed infected men and women, and Switzerland more women (53%). In Italy, which had reported a large excess of infected men earlier (60%), the percentage had now fallen to roughly 53%.\n",
            " . CC-BY-NC-ND 4.0 International license It is made available under a is the author/funder, who has granted medRxiv a license to display the preprint in perpetuity.\n",
            " The copyright holder for this preprint this version posted May 5, 2020. . https://doi.org/10.1101/2020.04. 29.20083709 doi: medRxiv preprint To verify if the trend held, we also recaptured data for the 6 US states (on April 19, lavender cells in Table 2 ). Data by sex could no longer be found on the Michigan website. Washington still reported the same higher proportion of female cases (53%) as before. However, in both New York City and California, which had a greater percentage of confirmed male cases in March (~57%), the percentage of infected women had increased (to 47% and 49.4% respectively).\n",
            " To further understand the trend, we turned to the reports of data disaggregated by both sex and age. On March 22, the only country providing numerical values for this was Denmark. Fig. 3 shows the evolution of the data from Denmark in the captured mirror bar graphs. While the data showed many more infected men than women in all age groups on March 22, the trend had inverted by April 8, with many more infected women than men between the ages of 20 and 60 (confirmed cases increased almost 8fold in that timespan).\n",
            " While most countries provided disaggregated data by age, disaggregation by both sex and age was rare in the first data capture. That information, while likely available, was also not included in the reports on Chinese data 1,2 .\n",
            " As of March 24, we had been able to find such information for only three countries. Two, Sweden and Australia, showed a graph without attached numerical values -one a bar graph, the other a pyramid graph, using different age categories (Fig. 2) . Denmark showed a pyramid graph (Fig. 3) and provided a table with the numbers used to create it. Both Sweden and Denmark had clearly more male cases than female at all ages. In the Australian cohort, counts were similar across age groups, except in the 40-49 age range, where women represented only about 40% of the cases.\n",
            " In the second round of data capture, we were able to find information disaggregated by both age and sex for 9 of the 20 countries and Europe, typically in analytical PDFs linked from the main dashboard. For example, a bar graph, with indicated numbers, can now be found in the rich PDF, updated daily by the Sciensano Institute in Belgium, available only in French. (The dashboard of the Belgian Federal Public Health, visible in French, English, Dutch and German, has no gendered information). The Istituto Superiore di Sanità in Rome, Italy, also publishes a dailyupdated table with cases and deaths by sex and age (available in Italian, in PDF format, as a link off the Italian or English interfaces of the Epicentro website). Switzerland displays the data on a highly interactive dashboard with cases, deaths numbers, percentages and clickable illustrations (in French and German).\n",
            " While more information was made available between the first and second data capture, the extreme diversity of representation and metrics made comparing data between countries difficult, as illustrated in Fig. 2 . The EuroCDC displayed the number of cases in Europe in side-by-side bar graphs for females and males, accounting for . CC-BY-NC-ND 4.0 International license It is made available under a is the author/funder, who has granted medRxiv a license to display the preprint in perpetuity.\n",
            " The copyright holder for this preprint this version posted May 5, 2020. . https://doi.org/10.1101/2020.04. 29.20083709 doi: medRxiv preprint missing data (\"unknown\"), while WHO Europe displayed the percentage each age group represents among cases in males and females in mirror bar graphs using an oddly expanded X-axis scale. Age was binned in 5-, 10-, 15-or 25-year increments across the lifespan by EuroCDC and by grouping ages 0-29 years, then in 10-year bins by WHO Europe. A graph for Germany was similar to that of EuroCDC, except it showed only 6, different age groups (0-4, 5-14, 15-34, 35-59, 60-79, 80+) in irregular (5-, 10-, 20 -or 25-year) increments. Two other countries also displaying numbers of cases by sex in side-by-side bar graphs used regular 10-year age bins (Australia and Belgium; in addition to the graph, numbers were provided for Belgium but not Australia).\n",
            " No graph was provided for the Italian dataset but a very complete table included, in bins of 10 years, case (and death) numbers for each sex, percentage of each sex among cases (and deaths), and total (including those cases where sex was not documented).\n",
            " Two linked websites illustrated the Canadian data with different metrics and graphs: mirror bar graph of case percentages by age in ten 10-year bins (plotted age 100 to 0, opposite to all other graphs) (www.canada.ca) vs. stacked bar graphs of number of cases (https://experience.arcgis.com). The former did not have a legend for the color by sex on the graph (when we returned 5 days later to verify the data, the URL had become inactive). For the latter, the X axis indicates 4 non-continuous age groups (+ unknown) but 9 bars are shown, and it is unclear what age ranges are actually shown (or if this is browser-or screen-size-specific). One other country showed the number of cases by sex in a stacked bar graph, the Netherlands, but used a different age binning (with 20 categories of regular 5-year increments).\n",
            " Finally, mirror bar graphs (pyramids) were chosen to display data from Sweden (on March 22 but no longer available in April), Spain (available in April, but not yet in March) and Denmark. Sweden and Denmark showed number of cases, while Spain plotted percentage of each age bin among the cases. Age was binned differently by the three countries: increments of 10 years for Sweden, except between ages 10-30, which were split into 5-year bins; 19 groups of 5 years for Spain; 10 groups of regular 10-year bins for Denmark. Denmark and Spain also provided numerical data in attached tables.\n",
            " Spain helpfully overlaid a pyramid of ages of the general population, which clearly illustrates the low rate of infection in people under the age of 20 and the high rate among men above age 50. Interestingly, for women, it suggests a bimodal effect depending on age (starting around the time of menopause and above age 60; blue arrows in Fig. 3 ).\n",
            " . CC-BY-NC-ND 4.0 International license It is made available under a is the author/funder, who has granted medRxiv a license to display the preprint in perpetuity.\n",
            " The copyright holder for this preprint this version posted May 5, 2020. . Figure 3 illustrates the difficulty of comparing results when representations, age binning, and metrics (number vs. percentage of each age group among cases) are not standardized, and no clear trends were immediately apparent. We used the numerical data made available by Belgium, Denmark, Italy, Norway, Switzerland, and Spain to plot the sex ratio across the ages ( Fig. 4 ; numerical data and data sources are shown in Supplementary Table 1 ). Both the datasets from March 22 and April 9 for Denmark are represented.\n",
            " This revealed that the sex ratio among cases varied with age following a complex trend. For all 6 countries, the sex ratio decreased from birth to a low at age 20-30 (when ~2/3 of cases were in women in Belgium). It then increased up to age 60, plateaued until age 80, when it started decreasing again (likely due in part to the excess of women in the general population in that age range). This trend was seen in all six countries, in spite of their very divergent average sex ratios [range 45 to 53%].\n",
            " Strikingly, the sex ratios calculated for the Denmark April 9 data followed the same trend as the other 5 countries, in sharp contrast to the monophasic trend observed for the March 22 data (Fig. 4) .\n",
            " Men accounted for the majority of casualties of COVID-19 in all countries Early data: As of March 24, sex information about deaths had been made available for 3 countries: Italy (data 3/24; NY Times), South Korea (3/21; Dr. Klein's Twitter feed 29 ), and China (February 1,2 ). We did not find sex-disaggregated data for casualties on any of the websites for the 20 countries. We did find this information on the websites of WHO-Europe region, Washington State, and New York City.\n",
            " China had reported a much higher lethality (deaths among confirmed cases, also known as case fatality) of 4.8% in men vs. 2.8% in women (~36% of casualties were women 2 ). WHO-Europe reported 28.6% of females among the 1,032 deaths during the week of March 9-15, very similar to the 29% reported for Italy (cumulative to March 20) . New York City seemed to concur with 31.8% of women (among what was still a low number of deaths, 63). In contrast, South Korea and Washington State reported much higher proportions of women: 47% (of 102 deaths) and 55% (of 108), respectively. As indicated above both had much higher proportion of infected women as well, even early into the epidemic.\n",
            " At the second round of data capture, we were still unable to find deaths stratified by sex data for Austria, China, Germany, Iran, the Netherlands, Portugal, South Korea, the UK, or CA, MI, NJ states. The graph-only representations for Australia and Belgium appeared to indicate an excess of men ( Figure 5C-E) . For the other 10 countries, the proportion of men among deaths ranged from 55% (Norway) to 68% (Italy) ( Table 3) .\n",
            " . CC-BY-NC-ND 4.0 International license It is made available under a is the author/funder, who has granted medRxiv a license to display the preprint in perpetuity.\n",
            " The copyright holder for this preprint this version posted May 5, 2020. . https://doi.org/10.1101/2020.04. 29.20083709 doi: medRxiv preprint Calculated metrics -Lethality and Sex Ratio: When data were available for both deaths and cases on the same cohort, we systematically calculated the lethality for each sex (fraction of deaths per confirmed cases, in men and in women, shown in Fig. 5A ) and the excess of men (male-to-female sex ratio) among cases and deaths (Fig. 5B) . (Data and calculations shown in Supplementary Table S2 or Table 4 ).\n",
            " An apparent excess of men amongst deaths was evidenced by a sex ratio ranging from 1.2 (20% more men) in Norway to 2.1 (more than twice as many men) in Italy in April data. Also, in April data, all countries and states also showed higher lethality in men compared to women, irrespective of the number or sex ratio in cases or average lethality in the country.\n",
            " Lethality varied greatly from over 15% in Italian men (almost twice as high as in Italian women) to under 2% in Norway (which showed the smallest disparity between men and women lethality). Country-specific policies, infrastructure, climate and/or lifestyle may underlie the puzzling differences in lethality. Denmark, with a similar number of cases as Norway (both in absolute numbers and per capita, 1,329 and 1,326/1M population respectively; Worldometers.com 4/21/20 data) had a lethality three times higher, with a strong male bias. Sweden, with a slightly higher per capita COVID-19 infection rate (1,517) recorded the second largest lethality at almost 12% in men.\n",
            " Switzerland, which has the third highest per capita infection rate among countries with at least 5 million inhabitants (3,243/1M; behind only Spain and Belgium and ahead of Italy), had the same sex ratio in cases (~0.87) and deaths (~1.59) as Denmark, but a much lower lethality, in both sexes. Lethality increased dramatically in New York City as the epidemic progressed (from <1% to 3.9% for women and 6% for men), but the sex difference was maintained. This is similar to what was observed in China where the lethality had doubled between the two February reports, but the difference of lethality between the sexes remained similar. Washington state, which was the first recognized site of COVID-19 outbreak in the US, already had a lethality around 5% in late March, for both sexes (the only such finding). By April, average lethality was unchanged, but the sex difference had emerged.\n",
            " A March 20 report from the Intensive Care National Audit and Research Centre (inarc.org) disclosed that, of the 196 critically ill patients in the UK, 70.9% were male 30 . None of the other reported characteristics of the cohort (including Body Mass Index, comorbidities, length of stay, deaths, and therapies) were disaggregated by sex.\n",
            " In-hospital observation days in the ChinaCDC report was 342,063 for men and 319,546 for women ( Table 1 in 1 ) . This metric has typically been used as a proxy for . CC-BY-NC-ND 4.0 International license It is made available under a is the author/funder, who has granted medRxiv a license to display the preprint in perpetuity.\n",
            " The copyright holder for this preprint this version posted May 5, 2020. . https://doi.org/10.1101/2020.04.29.20083709 doi: medRxiv preprint severity but, in the case of a lethal infectious disease, there can be ambiguity as to whether observation stops because the patient has died or recovered. Additionally, numbers could be confounded by cultural factors (e.g. resulting in one sex or the other being admitted later). In any case, in this cohort, we were able to calculate that the average number of observation days per patient was similar in both sexes (342,063 days/22981 = 14.88 cases for men; 319,546/21,691 = 14.73 for women).\n",
            " Where sex-disaggregated numbers were available ( Table 4) , data showed that men represented the vast majority of cases admitted in the ICU, with percentages ranging from 64% in Canada to 76% in Norway. (All the countries for which the information was known had either roughly similar number of women and men or a higher proportion of women among the total cases). A similar trend, with a lower sex ratio divergence, was seen among hospital admissions, where women represented 41-45%. Two countries provided numbers of cases and deaths on the same cohorts: Canada among severe hospitalized cases, and France among ICU cases. For these we calculated lethality for each sex (Table 4, in red). In striking contrast to lethality in the infected population at large, we found similar (19.5% in Canada) or even slightly higher lethality in women than men (France, 9.3% vs. 8.1%) among those severe cases. This suggests that while women may be developing a less severe (or different, see below) form of disease, those who do reach the ICU in deep respiratory distress may have a similarly poor chance of survival as men.\n",
            " The US National Center for Health Statistics reported that, among 1,879 deaths with pneumonia and COVID-19 reported as of 4/4/20, 1,097 (58.4%) were men; in contrast, only 52% of deaths with pneumonia without COVID-19 were men, and similar numbers of men and women had died from influenza in the same period (2,214 men vs. 2,253 women; 49.6% men).\n",
            " Spain was the only country for which we could find a detailed report of comorbidities by sex (data April 6; data captures and sources for US and Spain shown in Supplementary Figure S1 ). Numbers and percentages were reported for 11 different symptoms and 4 comorbidities, and p-values were provided. While it was unclear to what those p-values and some of the percentages referred, numerical data indicated that sore throat, vomiting, and diarrhea were more frequent in women. The widely described symptoms of COVID-19 appear to be those most frequently found in men than women: fever, pneumonia, severe acute respiratory distress syndrome and other respiratory symptoms. Pneumonia, for example, was found in 65% of men, but only 49% of women.\n",
            " . CC-BY-NC-ND 4.0 International license It is made available under a is the author/funder, who has granted medRxiv a license to display the preprint in perpetuity.\n",
            " The copyright holder for this preprint this version posted May 5, 2020. . https://doi.org/10.1101/2020.04. 29.20083709 doi: medRxiv preprint\n",
            " Our study showed that sex-disaggregating reported data is still not a widespread practice. For example, Italy has, since the beginning of the crisis in this country, maintained a daily updated, publicly available GitHub database documenting cases, deaths, number of tests performed, intensive care patients, and recovery rates, but no sex information. The strong disparity of lethality between men and women highlighted in the February reports from China likely prompted more countries to start reporting metrics by sex over time. However, even by mid-April, no data was found for many countries or US states, even on number of confirmed cases.\n",
            " Beyond infection and death rates, we found gendered information about tests performed for one US State (Illinois), comorbidities for one country (Spain), and therapies provided, recovery rates, or possible method of transmission for none.\n",
            " It is unclear whether the information is collected but not widely released or analyzed, or if it is not collected at all. Whatever data existed early on seemed to have been available only to the institutions that collected them, and released in priority to news outlets (including scientific journals). While this allowed a joint report by CNN and the British Medical Journal (BMJ) (in blog format, prior to peer review) of early sex-disaggregated trends (published after we had performed the first data capture), it highlighted an inequality in accessibility to data. The urgency of the developing epidemic has resulted in most of the available data and analyses being published in the form of press releases, blogs, Tweets, or non-peer-reviewed pre-prints. Accessibility was limited for scholars worldwide, and notably even the powerful news media outlet CNN has published that the US CDC did not respond to a request for sex-disaggregated data for their study 7 .\n",
            " When available, the information was presented in a wide variety of ways, strikingly illustrated in Fig. 2 . More importantly, we found extreme diversity in reported metrics: number, rate per 100,000 population, fraction of various variables, percentage of men, percentage of women, etc. When possible, we used available data to reverse calculate and present complete data sets with comparable metrics. This was time-consuming, error-prone, and sometimes not possible. For example, while reporting cases per 100,000 population is very valuable in epidemiology (to calculate mortality rates at the population level), calculating actual numbers from this metric requires knowing the total population size at the time of data collection, which is typically not provided.\n",
            " . CC-BY-NC-ND 4.0 International license It is made available under a is the author/funder, who has granted medRxiv a license to display the preprint in perpetuity.\n",
            " The copyright holder for this preprint this version posted May 5, 2020. . https://doi.org/10.1101/2020.04. 29.20083709 doi: medRxiv preprint Similarly, for sex-and age-disaggregated data, systematic comparison was not possible because of the variety of age range options chosen by the various entities to bin their data. It is unclear if age information was collected as a number, which was later binned during analysis, or if questionnaires collecting data already limited answers to age brackets. If the latter, even access to raw data will not allow future comparison between data sets.\n",
            " To fully understand if the higher proportions of men or women among subcohorts represent a true excess of one sex, values need to be related to baseline population numbers for each subset. The overlay of the national age pyramid on the bar graph for Spain data (Fig. 2) was helpful in this respect. It, however, highlighted further limitations, as the data used for the baseline population was almost a year old (and no numerical values were made available).\n",
            " While all methods of graphing and metrics may be valuable for different purposes, comparable, standardized raw data need to be accessible to scholars for meaningful, statistically significant analysis. For continuous variables (e.g. age), actual numerical values are needed. We could not find any stated justification on any governmental website for the wide array of age-binning categories illustrated in Fig. 2 . Not only does it make comparison between data sets difficult, it might hide -or artificially createtrends. For example, grouping children aged 10-19, across puberty, is likely to mask hormonally influenced outcomes. Rigorous statistical analysis needs to be applied to raw data to reveal trends (and guide age-binning), rather than the converse.\n",
            " For sex, provision for a third option, beyond the binary, would be useful to accommodate both various country-specific laws and missing data. When this was provided, entities calculated proportions of women/men either out of the total (leaving percentages not adding to 100%, as in WA state) or out of the cases for which sex was known (resulting in information being reported on a limited fraction of total cases -see legend of Table 3 ).\n",
            " Where countries have put online high-quality disaggregated data (e.g. Canada, https://www150.statcan.gc.ca/t1/tbl1/en/tv.action?pid=1310076601), those are typically coded (e.g. 1=male, 2=female). This is, of course, useful for automated analysis of data. It does, however, increase potential for data entry error and makes it difficult for a human eye to perform quality control on the data sets. We suggest entering the data in a standardized (e.g. each country will collect male, female, other) but non-coded way, sensitive to local usages, in the local language. Software can then be designed to code the entry (i.e. transform woman, femme, kvinna, donna, mujer, sieviete, babae, or Frau into \"2\"), merge the standardized data sets, and redeploy them in the native language of the country for easy use by the local researchers.\n",
            " . CC-BY-NC-ND 4.0 International license It is made available under a is the author/funder, who has granted medRxiv a license to display the preprint in perpetuity.\n",
            " The copyright holder for this preprint this version posted May 5, 2020. . https://doi.org/10.1101/2020.04. 29.20083709 doi: medRxiv preprint We recommend transparency and real-time data release, both to allow timely scholarly analysis and to limit potentially politically motivated retention of data by governments. Increased international preparedness will also be required if collected data are to provide accurate sources to guide scientific discovery and policy decisionmaking. This will require enhanced international cooperation between epidemiologists, clinicians, statisticians, biologists, ethicists, and local, federal, governmental and trans-national entities, to agree on standardized metrics, and stable data storage systems, to collect relevant information while ensuring the privacy of citizens.\n",
            " The Danish data (shown in the mirror bar graphs of cases disaggregated by both sex and age in Fig. 3 and in comparison with other countries in Fig. 4 ) illustrate both the trend and the difficulty (futility?) of interpreting daily updated data in the exponential growth phase of an epidemics. Policies based on the early trend showing a massive apparent excess of men at all ages would have been rendered obsolete just 3 weeks later.\n",
            " This increase in the proportion of women during the course of the epidemic was seen in all surveyed regions (except for South Korea, which already reported a large excess of women among confirmed cases by the time of our first data capture). Several hypotheses can be made, all of which require further, currently unavailable sex-disaggregated data to prove or disprove. It is possible that more accurate statistics were obtained with increasing cohort size or that higher lethality in men started reducing the sex ratio of cases as the epidemic progressed. It is also possible that expansion of testing availability resulted in milder cases, or cases with different presentation, becoming counted in women. It could also be a true increase in female rate of infection over time, possibly due to evolution of exposure type and different societal gender roles. For example, in societies where a smaller fraction of women work outside of the home, infection of women may become more widespread in a second wave after infected men have brought the disease back to their communities and their caretakers. Granular sex-disaggregated data about likely method of transmission or disease symptoms will be necessary to test these hypotheses.\n",
            " A joint CNN/BMJ press release reported that \"men were 50% more likely than women to die after being diagnosed with COVID-19 7 \". Our analysis recapitulated this trend, but more specific data will be needed for scientists to understand the underlying causes of the findings, as well as the exceptions.\n",
            " . CC-BY-NC-ND 4.0 International license It is made available under a is the author/funder, who has granted medRxiv a license to display the preprint in perpetuity.\n",
            " The copyright holder for this preprint this version posted May 5, 2020. . https://doi.org/10.1101/2020.04. 29.20083709 doi: medRxiv preprint The similar lethality rates for men and women in ICU in France or severe hospitalized cases in Canada (Table 4) , if generalizable, suggest a more nuanced picture. Additionally, if women are offered testing at a lower rate, they may be dying as well, but not be included in the counts because they have not been formally diagnosed. If the presentation of the disease is different in men and women, the criteria for testing, established on the earlier, male-biased statistics, may be inadequate to identify the infected female population. There may also be regional, cultural, and infrastructural specificities resulting in differential reporting of outcomes for men and women. For example, several anecdotal reports (e.g. from Italy) suggested deaths may be underreported in real time, and that women may be dying at home rather than in the hospital in greater numbers, and thus be underreported by overwhelmed local authorities.\n",
            " While the rate of death has been reported to be higher when infection is associated with pre-existing conditions such as with cardiovascular disease, diabetes, lung disease, or cancer, it is unclear if any one of these comorbidities have a disproportionate effect in one sex or the other because these data have yet to be widely reported by sex. Both the US CDC and Spanish data suggest that the severe lung disease and pneumonia is a feature more frequently associated with COVID-19 in men. The Spanish data also indicate that other symptoms may have a sexually dimorphic prevalence, with diarrhea, vomiting or sore throat being part of the clinical symptoms more frequently observed in women. This suggests that the extent of infection in women may not have been fully recognized because presentation may be different. Perhaps the large press coverage given to by the most famous celebrity couple known to have survived COVID-19, American actors Tom Hanks and Rita Wilson, who shared that they experienced very different symptoms during their joint quarantine, will prod countries to document those in a sex-disaggregated way in the future.\n",
            " To explain the higher lethality in men and the higher rate of smokers among nonsurvivors (9%) than survivors (5%) in a small (191 patients) study 32 much has been made of the fact that, in China, smoking is reported to be a widely sexually dimorphic activity, where ~50% of the men, but only 2% of women, smoke 40% of the world's tobacco (e.g. 6, 33 . However, divergent information has emerged. In the NEJM report of a cohort of hospitalized patients in China, 78% of even severe cases were never smokers 31 . In France smoking rates are more similar in men and women (28.2% in men and 22.9% of women in 2018). Yet, only 8.5% of 11,000 people admitted to all Paris hospitals with COVID-19 as of early April were smokers 34 . An April 21 preprint article . CC-BY-NC-ND 4.0 International license It is made available under a is the author/funder, who has granted medRxiv a license to display the preprint in perpetuity.\n",
            " The copyright holder for this preprint this version posted May 5, 2020. . https://doi.org/10.1101/2020.04. 29.20083709 doi: medRxiv preprint examining the proportion of daily smokers among a single-center cohort of 343 inpatients and 149 outpatients in Paris, reported that only about 5% of the infected were smokers, in both sexes 35 . While this study has yet to be peer-reviewed and reproduced in other settings, it again highlights the broader need for such systematic data collection and analysis by sex.\n",
            " Literature studying biological mechanisms underlying sex differences in COVID-19 is still nonexistent at this early time. We found one preprint in which the authors designed in silico experiments in search of a possible mechanistic explanation for the sex differences in SARS-CoV-2 infection 36 . Using publicly available human tissue gene expression and ChIP-Seq data sets, they proposed an intriguing hypothesis where the androgen receptor, AR could directly control the expression of ACE2, one of the two main proteins for SARS-CoV-2 entry into human cells (the other, TMPRSS2 is a known androgen-responsive gene 37 ). Their analysis of single-cell RNA-sequencing found that more pulmonary alveolar type II cells express ACE2 in men than women and that ACE2 is expressed in the prostate and in Sertoli and Leydig cells of the testis, possibly providing another entry path for the virus in men. Expression of AR and ACE2 correlated positively in all tissue types and ChIP-Seq datasets identified a putative ARbinding site upstream of the ACE gene. If these in silico explorations withstand the rigors of peer-review and of in vitro or in vivo experiments, it may mean that aspects of COVID-19 pathology will be susceptible to anti-androgen therapy (as is used routinely in prostate cancer).\n",
            " Through capture, collation, and systematic analysis of datasets from 20 countries and 6 US states, we found wide-ranging disparity in the format, sex-and/or agedisaggregation, and amount and accessibility of data made available to the public and scholars. Data on confirmed COVID-19 cases and outcomes stratified by sex was unavailable for most countries and US states surveyed. This paucity of accessible raw datasets and disparate metrics used to capture data make it difficult to draw comparisons and meaningful conclusions to inform healthcare, public health, and policy strategies.\n",
            " In an infectious disease outbreak, different geographic areas are at different stages of the epidemic at different times, and the data themselves evolve quickly as the events unfold. Even standardized data will be difficult to compare and interpret for policy-making. The ascending curve of a pandemic is obviously not the best time to start devising strategies and building infrastructure to collect global standardized data for efficient surveillance. Throughout the evolution of the COVID-19 epidemic, we noted improved reporting as most countries and US states strove to make more data available. Countries had clearly disparate resources available for this enterprise (access . CC-BY-NC-ND 4.0 International license It is made available under a is the author/funder, who has granted medRxiv a license to display the preprint in perpetuity.\n",
            " The copyright holder for this preprint this version posted May 5, 2020. . https://doi.org/10.1101/2020.04. 29.20083709 doi: medRxiv preprint to testing, reliable public health institutions, and informatic platforms), and preparedness might have helped alleviate the reporting burden for lower-resource regions.\n",
            " Lack of data harmonization and sex-disaggregation, however, were ubiquitous issues. The US CDC's COVID-19 Case Report Form 38 does collect, for each Person Under Investigation (PUI), sex, symptoms, pre-existing conditions, dates of hospitalization and treatment received, potential source of infection, and testing status. It is critical that Sex as a Biological Variable be considered an essential metric, rather than an afterthought, as we improve international efforts toward capture, and accessibility, of standardized data.\n",
            " . CC-BY-NC-ND 4.0 International license It is made available under a is the author/funder, who has granted medRxiv a license to display the preprint in perpetuity.\n",
            " The copyright holder for this preprint this version posted May 5, 2020. . https://doi.org/10.1101/2020.04. 29.20083709 doi: medRxiv preprint . CC-BY-NC-ND 4.0 International license It is made available under a is the author/funder, who has granted medRxiv a license to display the preprint in perpetuity.\n",
            " The copyright holder for this preprint this version posted May 5, 2020. March 21, 2020 (ranking shown in parenthesis in column 1), the six US states and 3 trans-national or non state entities. Data source is described in column 2. Metrics found on the websites indicated in column 5 are indicated in column 3. Dates of accession are shown in column 4. If a website showed different metrics at a different capture date, these are indicated in separate lines. If different information was shown in different format (e.g. dashboard vs. pdf), URLs are shown separately. Table 3 : Availability of sex-disaggregated data captured April 5-10, 2020 for cases and deaths on the official websites of the 20 countries with the highest numbers of cases as of March 21, 2020. Cells highlighted in green represent the metrics actually shown on the website (dashboard or PDF). Numbers in italics have been calculated by the authors for this publication. In bold is the proportion highest of the two sexes. * Sex-disaggregated data were available for only a subset of the cases known on that day. It represented 70% (of 19,774) for Canada. For Spain, on the date of data capture (4/9), sex-disaggregated data was available only for cases up to 4/6, and represent 54.9% of the known cases (152,162) and 39% of deaths (15,238) on capture day. Italy reported 365 cases with sex unknown, and data shown represent 99.7% of known cases. ** The CDC dashboard, accessed April 10, reported cases for the 1 Mar -4 Apr period and deaths for the 1 Feb-4 Apr period. No sex-disaggregated data could be found for cases. *** Sweden data was obtained at a later date, from another, . CC-BY-NC-ND 4.0 International license It is made available under a is the author/funder, who has granted medRxiv a license to display the preprint in perpetuity.\n",
            " The copyright holder for this preprint this version posted May 5, 2020. . https://doi.org/10.1101/2020.04. 29.20083709 doi: medRxiv preprint governmental website, as the website originally accessed had ceased reporting data by sex and did not identify their data source. . CC-BY-NC-ND 4.0 International license It is made available under a is the author/funder, who has granted medRxiv a license to display the preprint in perpetuity.\n",
            " The copyright holder for this preprint this version posted May 5, 2020. . https://doi.org/10.1101/2020.04. 29.20083709 doi: medRxiv preprint FIGURE LEGENDS Fig. 1 : Visual comparison of sex ratio among cases by pie charts: Screen shots of pie charts found for 2 and 5 countries in March and April respectively. Longitudinal comparison in Portugal shows an increase in the percentage of women among cases. In the same time period proportions have been roughly unchanged in South Korea (with ~60% women), although the change of color convention of this statista.com graph is misleading. Sex ratios are inverse in Italy (52.9% men) and Switzerland (53% women), while equal numbers of affected men and women were reported in Austria. (Text in English in appropriate color was overlaid over the screen shot when needed for increased legibility). Date of data is indicated. Fig. 2 : Wide disparity of data display and age binning for COVID-19 cases disaggregated by sex and age. Screen captures of data disaggregated by both sex and age were found for 9 of the 20 countries (Denmark is shown in Fig. 2 ) and Europe. 'Men' and 'women' labels have been added to the screenshots, in the appropriate colors, when not in English. Blue arrows on the Spain graph were added to indicate features (see description in text). Age-binning, reported metric, and type of graphic representation was different for all. Proportion of men by age, binned in 10-year increments, is shown. Data for Denmark are graphed at 2 stages of the epidemics: Mar. 22, when it was the only such data available (dark blue line), and Apr. 9 (medium blue bars), when the sex ratio at all ages mirrored trends in the other countries captured at a similar time. The average percentage of men across all age groups for each country is shown in the inset table. All data, data source, and calculations are shown in Supplemental Table S1 . Captures were on Apr. 5 for Belgium, Apr. 7 for Switzerland and Italy (captured data also shown in Fig. 3 ), Apr. 9 for Spain (data 4/6) and Norway.\n",
            " . CC-BY-NC-ND 4.0 International license It is made available under a is the author/funder, who has granted medRxiv a license to display the preprint in perpetuity. (which was not certified by peer review)\n",
            " The copyright holder for this preprint this version posted May 5, 2020. . https://doi.org/10.1101/2020.04. 29.20083709 doi: medRxiv preprint Figure 5 : Sexual dimorphism in lethality of COVID-19 infection. A: Lethality (or case fatality, calculated as the percentage of deaths among confirmed cases) by sex for data sets where disaggregated number of cases and deaths was found for the same cohort. Data source and calculations shown in Table S2 . B: Calculated sex ratios (number of men/number of women) for cases and deaths quantify the excess of men among deaths and ICU cases. C: Three entities provided graphic visualization of deaths by sex and age. Age binning, type of graph, and metrics were different in all three. No numbers were provided for Belgium or Australia, and we were unable to calculate a sex ratio.\n",
            " . CC-BY-NC-ND 4.0 International license It is made available under a is the author/funder, who has granted medRxiv a license to display the preprint in perpetuity. (which was not certified by peer review)\n",
            " The copyright holder for this preprint this version posted May 5, 2020. https://www.cdc.gov/nchs/nvss/vsrr/COVID19/index.htm Table S1 : Confirmed cases of COVID-19 infection by sex and age (raw data and calculations for Fig. 4 ). All cases over age 80 were combined for consistency among datasets. The dataset from Spain was originally age-binned as follows: <2, 2-4, 5-14, 15-29, 30-39, 40-49, 50-59, 60-69, 70-79, >80. In order to visualize Spain dataset graphically with other countries, raw case numbers for groups \"<2,\" \"2-4,\" and \"5-14\" were combined into one group labeled \"<15.\" The rest of the Spain dataset age-bins (15-30, 30-40, 40-50, 50-60, 70-80, and >80) remain the same. Italics denote calculations performed on the raw data by the authors. Table S2 : Data and calculations of lethality and sex ratio for entities providing sexdisaggregated data for cases and deaths on the same cohort. Lethality was calculated as the percentage of deaths among cases. Sex ratio was calculated as the fraction of number of men over number of cases. Rows for early captures are highlighted in olive green, late captures in dark blue. Italics indicate calculations by the authors, pale sage green cells indicate metrics documented on the websites. . CC-BY-NC-ND 4.0 International license It is made available under a is the author/funder, who has granted medRxiv a license to display the preprint in perpetuity. (which was not certified by peer review)\n",
            " The copyright holder for this preprint this version posted May 5, 2020. CC-BY-NC-ND 4.0 International license It is made available under a is the author/funder, who has granted medRxiv a license to display the preprint in perpetuity. (which was not certified by peer review)\n",
            " The copyright holder for this preprint this version posted May 5, 2020. Table   . CC-BY-NC-ND 4.0 International license It is made available under a is the author/funder, who has granted medRxiv a license to display the preprint in perpetuity. (which was not certified by peer review)\n",
            " The copyright holder for this preprint this version posted May 5, 2020. . https://doi.org/10.1101/2020.04.29.20083709 doi: medRxiv preprint Table 2   Table 3   Table 4 \n",
            "\n",
            " Recomendation  4 \n",
            "\n",
            "Since the early 1990s a large amount of effort has focused on determining the complete genomic DNA sequence of many diverse organisms. Remarkably, virtually all this sequencing has been done using a single method: chain termination sequencing using dideoxynucleosides 1 , usually referred to as Sanger sequencing. From the determination of the first complete genome sequence of an organism, the bacteriophage φX174 (Ref. 2) , to the completion of 95% of the human genome sequence 3,4, many technical advances in methodologies, automation and computing rapidly increased the rate at which DNA sequence was obtained 5 . The availability of genomic sequences has led to the development of many genomescale analytical techniques that have greatly enriched modern biology -for example, techniques to measure global mRNA abundance 6, 7 , systematically knock out all genes 8 , perturb their function 9 and generate comprehensive clone collections 10, 11 -and together they constitute the new field of genomics.\n",
            " Studies of sequence variation in the same or similar species have many potential applications, ranging from understanding complex human diseases to analysing the products of experimental evolution. However, to realize fully the potential of this science, the task of characterizing genomes should be reduced to a routine procedure that can be done on hundreds of samples. To this end, the research and commercial community is accelerating towards new approaches to genome sequencing [12] [13] [14] that are increasingly less expensive, more rapid and efficient, and more widely available. Nevertheless, determining even modest numbers of complete genomic sequences is still a substantial undertaking, entailing equipment, infrastructure and running expenses beyond the resources of most individual laboratories, and the study of sequence variation through direct genome sequencing remains the province of a minority of biologists.\n",
            " The applications that are envisioned for cheap and rapid sequencing technology do not actually require repeated determination of entire genomic sequences. Methods that efficiently detect genomic differences, be they structural rearrangements, polymorphisms or mutations, often suffice to reduce the sequencing requirement to a tiny fraction of the genome, a capability that is routine in most modern biology laboratories. Several technologies that use hybridization to DNA microarrays are effective for detecting genomic variation in closely related samples. Thus, questions in which a researcher aims to compare normal and diseased tissues from the same individual or mutant and wild-type DNA from the same experimental organism can often be addressed by microarray-based experimental comparison as opposed to exhaustive sequencing of entire genomes.\n",
            " This Review is focused on the global characterization of differences between closely related genomes -an approach that is ideally suited to microarrays. We describe the various forms of genomic variation that can be detected using microarray-based approaches and discuss some of the important experimental considerations, ranging from experimental design to data analysis and visualization. We highlight the versatility of these approaches, their applicability to various questions and organisms, and briefly describe how global views of genomic diversity are revealing new biological insights.\n",
            " In the context of microarrays, DNA probe refers to the DNA oligonucleotide, PCR product or genomic clone that is attached to a microarray in order to probe a labelled genomic DNA sample that is added in solution. In the context of Southern blotting, DNA probe refers to the labelled DNA oligonucleotide that is added in solution to probe the genomic DNA sample that is immobilized on a membrane.\n",
            " The use of masks to selectively deprotect nascent oligonucleotides using light, allowing the parallel synthesis of millions of probes.\n",
            " The use of print cartridge heads to deposit one of the four DNA bases at a probe site on the microarray.\n",
            " (fISH). A technique in which a fluorescently labelled DNA probe is used to detect a particular chromosome or gene using fluorescence microscopy.\n",
            " A procedure in which the products of a PCR reaction are measured by monitoring the signal that is produced by a fluorescent dye, which accumulates during each PCR cycle.\n",
            " The T m (melting temperature) of an oligonucleotide is the temperature at which 50% of the duplex strands are separated.\n",
            " Hybridization technology DNA microarrays are a collection of DNA probes that are arrayed on a solid support and are used to assay, through hybridization, the presence of complementary DNA that is present in a sample (see BOXeS 1, 2) . The experimental conditions for annealing complementary strands of DNA was reported 15 within a decade of the determination of the structure of DNA, and it was quickly realized that in vitro hybridization of DNA presented a means for comparing genomes. one initial exemplar was the visualization of hybridization products between two entire bacteriophage genomes using electron microscopy 16 . The development of blotting techniques, which use labelled DNA probes for visualization, presaged the fabrication of synthetic nucleotides on a solid support 17, 18 . Moreover, the effect of single mismatches on hybridization efficiency was soon appreciated and was used to detect mutations in bacteriophage 19 and human DNA 20 well before the advent of DNA microarrays.\n",
            " DNA microarrays are made either by chemically synthesizing DNA probes on a solid surface or by attaching pre-made DNA probes to a solid surface. Maksos and Southern 21 first demonstrated the synthesis of arrays of oligonucleotides on a solid support in situ. From these initial experiments, advances in technology and chemistry resulted in increasingly higher density oligonucleotide microarrays synthesized in situ using techniques such as photolithography 22 and ink-jet deposition 23 . Simultaneously, the development of printing techniques 24 allowed the robotic arraying of pCR products, pre-synthesized oligonucleotides, or genomic clones such as cDNA or BAC clones -often referred to as spotted microarrays.\n",
            " For genomic analysis a tiling array design is desirable, in which DNA probes are chosen from contiguous stretches of the genome. Whereas only short-oligonucleotide microarrays are appropriate for detecting sequence changes, all types of microarray can be used to detect structural variation. An important distinction is between microarrays that provide truly comprehensive coverage of the genome (whole genome) and those that provide partial coverage across the genome (genome scale). until recently, whole-genome coverage using oligonucleotide arrays had only been available for small genomes such as those of viruses 25 or the human mitochondrion 26,27 . At present, whole-genome coverage of larger genomes can only be achieved using large probes such as BACs 28,29 . However, advances in engineering and chemistry, largely made by the commercial manufacturers of microarrays, have enabled the construction of increasingly dense oligonucleotide arrays with 10 5 -10 6 probes per microarray. Thus, it is already possible to manufacture short-oligonucleotide microarrays that cover the entire (although relatively small) genomes of eukaryotic organisms such as Saccharomyces cerevisiae 30, 31 and larger genomes such as Arabidopsis thaliana 32, 33 . using dozens of arrays, complete coverage of even mammalian genome sequences has been achieved quite recently 34 .\n",
            " The availability of high-density microarrays has facilitated the development of rapid and comprehensive approaches to characterizing genomes. These methods are being applied to a myriad of questions -from explaining the genetic basis of phenotypic variation to describing the extent and nature of genomic diversity.\n",
            " Structural variation in the genome refers to microscopic and submicroscopic alterations of the genome and includes deletions and duplications, copy number variation (CNv), insertions, inversions and chromosomal translocations 35 . This broad class of variants constitute a diverse and pervasive source of variation with known functional consequences, including increased pathogenicity and antibiotic resistance of microorganisms 36 , a range of human developmental disorders 37 and association with human cancers 38 .\n",
            " in contrast to targeted methods for detecting structural variation, such as fluorescent in situ hybridization (FiSH) and quantitative PCR, microarray-based approaches allow structural variation to be assessed across the entire genome in an unbiased manner. The approach that is\n",
            " As with all intermolecular reactions, the rate of formation of the DNA duplex that is formed between the probe and the sample is a function of both the concentration of reactants and temperature. To use hybridization to compare genomes at the sequence level it is necessary to maximize the difference between the T m of the perfectly matched DNA and the T m of the mismatched DNA. This difference is highly dependent on the length of the oligonucleotide and in practice is likely to only be within the range of detection for oligonucleotides that are shorter than 50 bp. Therefore, short probes are required to interrogate sequence differences between genomes. Longer probes -such as those provided by BAC clones, cDNA clones or PCR products -provide greater coverage of the genome and allow detection of structural variation, even in the presence of a small number of sequence differences (see table; IV, insertional variation; SV, structural variation). \n",
            " Production of target and labelling with biotin, then streptavidin and phycoerythrin\n",
            " Production of target and labelling\n",
            " In a two-colour experiment (panel a in the figure) DNA from individuals of the same species or different tissue from a single individual (for example, normal and diseased cells) is extracted and differentially labelled with compatible fluorophores (for example, Cy3 and Cy5). Equal amounts of labelled DNA is hybridized to the microarray, and the hybridization reaction is allowed to come to equilibrium over a period of >12 hours. At most probes, equal amounts of the two samples will hybridize (yellow features on the array), reflecting the fact that most loci in the two genomes are present in equal amounts (for example region 3). Regions that are deleted in the sample genome (region 1 of sample A) will result in probes with increased relative Cy3 signal (green features). Alternatively, amplified regions in the sample (region 2 of sample A) will result in features with an increased relative Cy5 signal (red features). Over the entire microarray, the signal ratios at each feature follow a Gaussian distribution, and candidate copy number variations are identified on the basis of deviation of a particular probe ratio, using statistical cut-offs. Although the diagram illustrates the protocol for array comparative genome hybridization, all array procedures, including SNP discovery and insertion site mapping, are carried out in this way.\n",
            " One-colour experiments (panel b in the figure) are performed in a similar manner, except that the DNA is labelled with a single colour and hybridized to a microarray without a reference sample. The difference between two-colour and one-colour experiments is that in the former case two samples are compared within an experiment whereas in the latter case two separate experiments are required to compare the samples. For Affymetrix-manufactured microarrays, the method entails labelling DNA with biotin, then adding streptavidin conjugated to phycoerythrin after hybridization (represented by yellow circles). Rather than a ratio, an absolute value of hybridization is determined; following normalization, this value is compared with other experiments to detect genomic variation. A single two-colour hybridization gives less variation at each probe than two independent one-colour hybridizations because the detailed conditions at every probe, such as salt concentration and temperature, are identical in the two-colour experiment but are not necessarily identical in the two independent one-colour experiments.\n",
            " Part a of the figure is modified, with permission, from Nature Reviews Genetics Ref. 108  (2006) Macmillan Publishers Ltd.\n",
            " Mutations that suppress, or alleviate, the phenotypic effect of another mutation.\n",
            " The number of different DNA sequences in a genome, originally measured by the rate of re-association of heatdenatured DNA.\n",
            " Determination of the sequence at both ends of a fragment of DNA of known size.\n",
            " used is known as array comparative genome hybridization (aCGH): here, microarrays consisting of BAC 39 or cDNA clones 40 , pCR products 41 or oligonucleotides 42 (BOX 1) are used to compare probe signal intensities within or between arrays, corresponding to quantitative differences in the amount of material hybridizing at a particular probe (fIG. 1) . Recently, genome-scale approaches using microarrays have revealed the impressive extent and diversity of non-disease-related structural variation in the human genome 43, 44 , and there is increasing evidence that small-scale structural variation might be associated with a far greater number of developmental disorders than previously appreciated [45] [46] [47] . Similarly, in model organisms, copy number changes underlie adaptive events in experimental evolution studies 41, 48 , act as suppressor mutations 49 in yeast, and are an important and pervasive source of variation in worms 50 and mice 51 . Thus, structural variation is of broad importance across all species.\n",
            " Distinguishing signal from noise. The analysis of aCGH data requires methods that distinguish the signals of real biological variation from those that are due to experimental variation. in the absence of multiple controlled experimental replicates, the signal from a single probe is usually considered insufficient evidence of a copy number change. in the simplest of situations, a running average across a number of contiguous probes is used to smooth the data and distinguish signal from noise 40, 41 . in this case, a CNv is usually identified through a consistent increase or decrease in signal beyond a threshold value that corresponds to an integer change in copy number. This approach is applicable in only a minority of cases, such as homogeneous samples of microbial genomes or highly amplified loci.\n",
            " To reliably detect more subtle variation or to analyse non-clonal material (for example, mixed microbial samples or heterogeneous tumour samples) more rigorous statistical methods are required. usually these methods compare the results obtained for a sample with a measure of probe variance from control experiments in an effort to identify statistically significant differences. various algorithmic approaches have been developed to identify the CNvs and their boundaries 29,52,53 . Some researchers have found that the use of oligonucleotide probes for human aCGH suffers owing to higher genome complexity. it was thought that DNA-complexity reduction methods would need to be developed to obviate this problem 42 , but more recent studies have suggested that this step is not necessary [54] [55] [56] .\n",
            " Increasing resolution. The ultimate aims of structural variation detection are to identify variants that are only tens or hundreds base pairs in size and to resolve sequences corresponding to chromosomal breakpoints. The latter is important for understanding the mechanism by which this source of variation is generated and for predicting how genomic elements that are encoded at junction sites might be affected. BAC probes provide the greatest coverage of the genome and are currently the most comprehensive microarray platform available for human genome analysis; they do not detect small variants, however, and breakpoint resolution is limited to the size of the probe. Thus, the application of microarrays using oligonucleotide probes is appealing as this enables both greater resolution and greater sensitivity. For smaller genomes, such as those of microorganisms, complete coverage of the genome using short oligonucleotide probes is already commonplace 30, 31 . Coverage of the human genome using short oligonucleotide probes continues to increase, either through the use of dedicated array platforms 54 or the use of microarrays that were originally designed for genotyping 57, 58 , thereby enabling the detection of smaller variants with higher resolution. Moreover, some types of structural variation that do not change the copy number -such as inversions and reciprocal translocations, which are not detected using large probes -should in principle be identified with oligonucleotide probes by virtue of the sequence change at the junction site.\n",
            " Although experimental and analytical approaches using microarrays continue to improve, it is often desirable to confirm at least a subset of structural variation using an independent experimental method. various methods exist for this purpose, including southern blotting, FiSH and quantitative pCR. Whereas these methods are well suited to follow up on focused regions of interest, the use of two independent microarray platforms to analyse the same samples provides a means of global verification 57 . Similarly, detecting CNv using highthroughput paired-end sequencing is a valuable complement to microarray-based methods 59 . High-throughput sequencing methods also provide an opportunity to precisely identify breakpoint junctions.\n",
            " Differences at the level of DNA sequence are the most abundant source of genomic variation. This class of variant, typically referred to as SNps, is comprised of alternative nucleoside bases at a particular genomic location, in addition to the deletion or addition of single bases. The identification of SNps is crucial for determining the underlying genetic basis of phenotypic traits in experimental and natural organisms, and in human disease. often, genetic studies require both the discovery of sequence variants and determination of the allelic states in a large number of individuals (that is, genotyping). Microarray-based approaches are well suited to both tasks; however, here we shall limit our discussion to the discovery phase only. excellent reviews of SNp genotyping using microarrays can be found elsewhere 60, 61 .\n",
            " it was recognized early on that a single mismatch between sample and probe DNA greatly decreases hybridization efficiency when the probe is short\n",
            " . After it was shown that this held true when an oligonucleotide probe was immobilized on a solid-phase support 62 , the development of high-density arrays of oligonucleotides opened the door to detecting sequence variants on a genome-wide scale by virtue of a decreased hybridization signal by comparison with hybridization signal from perfect match DNA. The first whole-genome approach to sequence comparison using this method was\n",
            " The determination of the exact DNA sequence by comparison with a known reference.\n",
            " applied to human mitochondrial DNA 26 . in this study, the authors co-hybridized two differentially labelled samples to a microarray of 135,000 probes of 16-19 bp, and detected sequence differences between them on the basis of the deviation of the ratio of the two signals.\n",
            " Resequencing microarrays. in contrast to a design in which a single probe is used to interrogate a given nucleotide position, resequencing microarrays are designed so that a probe is provided for every possible single-base-pair mismatch (fIG. 2a) . Because four probes -representing Figure 1 | identifying copy number variation in genomes using array comparative genome hybridization. a | Copy number variation in the human genome. Whole-genome microarrays enable copy number variation to be compared across the human genome. The log 2 ratio of the test to reference signal for 22 autosomes and 2 sex chromosomes of the human genome are shown, chromosome by chromosome. The data are from a comparison between two male genomes hybridized to a BAC microarray, using a two-colour approach. b | Structural variation in the yeast genome that was identified using microarrays. In this example, the sixteen chromosomes (I-XVI) of Saccharomyces cerevisiae are shown. Blue circles represent the centromeres. The data from a PCR microarray containing ~6,000 probes are smoothed over 5 adjacent probes. Black lines above and below each chromosome indicate a twofold change in copy number. This clonal isolate is a product of the experimental evolution of a diploid strain growing under glucose-limiting conditions. When this strain is compared with its ancestral strain using a two- 10 11 12 13 14 15 16 17 18 19 20 21 22 23 2 3 4 5 6 7 8 The probe sequence that is exactly complementary to the sample will result in the greatest hybridization efficiency (indicated by a green letter) and thus a comparison among all probes can be used to determine the nucleotide sequence of the sample. The coloured boxes indicate the relative intensity of hybridization at each probe -yellow being the highest intensity. b | In the absence of resequencing arrays, hybridization of the sample to candidate sequence probes can be used. Mismatches resulting from mutations in sample DNA will result in a lower hybridization efficiency compared with hybridization to a sample with complete sequence complementarity. This approach has the advantage of requiring far fewer probes and is often sufficient to detect sequence variation. If a mismatch is inferred then small-scale sequencing is necessary to identify the variant nucleotide. c | The effect of a SNP on hybridization is related to its corresponding position in a probe. More central positions result in the greatest decrease, whereas SNPs positioned at the end of probes are much less likely to result in a significant decrease in hybridization. d | It is possible to use hybridization data obtained from a mutation detection array to compute a likelihood that a particular site is a sequence variant with respect to the reference genome. This approach facilitates the comparison of related individuals at the sequence level, allowing rapid scanning of the genome. The diagram illustrates the analysis of a drug-resistant mutant in the budding yeast, Saccharomyces cerevisiae. Candidate SNPs are identified by a positive log likelihood value. In this case, a small number of candidate SNPs are detected throughout the genome; one is shown here on chromosome V, which is representative of the entire 13 Mb of the yeast genome. The peak highlighted in the inset is shown at higher resolution in the main figure. A single signal in the CAN1 gene, which is known to confer resistance to the drug canavanine, was identified and subsequently verified using Sanger sequencing. AVT2, amino acid vacuolar transport 2; NPR2, nitrogen permease regulator 2. Images for parts c and d use data originally published in Ref. 31 .\n",
            " Statistical tests that assume an underlying distribution, which is usually Gaussian. The term Gaussian describes a continuous probability distribution that is symmetrical around a defined mean value, the shape of which is determined by the variance.\n",
            " all four possible bases at the central nucleotide position -are considered, the increased signal at one of the four probes provides evidence for the correct complementary base. Algorithms to analyse resequencing microarray data thus make use of the gain of signal at perfectly matched probes as well as the loss of signal at non-complementary probes. Although only 4 probes are necessary for each site in principle, up to 28 probes have been used in practice to interrogate each nucleotide position by including probes that target all possible sequence variants on both strands of DNA and various small insertion and deletion combinations 63 . Resequencing arrays have been used successfully for small viral genomes such as the severe acute respiratory syndrome (SARS) coronavirus 25 as well as for human mitochondrial DNA 27 . The great advantage of resequencing arrays is that they not only detect variation, but they also allow the variant sequence to be inferred. Although probe densities of commercially prepared oligonucleotide arrays have increased markedly over the past 10 years and now contain in the order of 10 6 features per array, most eukaryotic genomes are in the order of 10 7 -10 9 nucleotides. Thus, to cover the entire genome of a higher organism using resequencing arrays it is necessary to use many individual arrays, as was done for resequencing the genome of A. thaliana 33 and a significant subset of the human genome 34 . it is unclear what the upper limit is on the number of probes that can be placed on a microarray, but the rate of increase in probe density suggests that comprehensive resequencing arrays could eventually be available for larger genomes.\n",
            " in the absence of resequencing arrays for many organisms, including several important model organisms, microarrays that were designed for gene expression analysis have been used to identify candidate sequence changes. This approach entails the identification of sequence variation via the reduced hybridization signal -relative to some known non-polymorphic hybridization valuewhich results from mismatched DNA. unlike resequencing arrays, these methods detect the positions of variation, often to high precision, but they do not provide the variant sequences. The first application of this approach was in S. cerevisiae using an Affymetrix array designed for probing gene expression 64 . This same approach has subsequently been used to probe sequence diversity in the genomes of A. thaliana 65 and mosquitoes 66 . Candidate sequence variants -referred to as single feature polymorphisms -are identified as those probes that differ in intensity by some criterion defined using simple parametric tests (fIG. 2b) . These studies offered, for the first time, the ability to rapidly characterize sequence diversity on a genome scale in a single microarray experiment; they also suggested that whole-genome analysis should be feasible with increased coverage.\n",
            " Microarrays that provide complete coverage of the genome by tiling short probes immediately adjacent to one another provide a means of interrogating the entire genomic sequence for variation. Such an array design has been applied to the bacteria Helicobacter pylori 67 and Escherichia coli 68 . However, this design is not sufficient to reliably identify all sequence variation. This limitation can be attributed to the fact that the ability to detect sequence differences that correspond to the end of probes is poor (fIG. 2c) .\n",
            " A microarray design that addresses this problem contains overlapping probes spaced at a regular interval such that every nucleotide is covered by more than one probe, and the nucleotide position falls at a different position within each of those probes. The redundancy in coverage of this array format provides multiple measurements of the effect of a SNp on hybridization. using a microarray that provides coverage of the entire S. cerevisiae genome it has been possible to characterize the loss of signal that is due to a SNp by studying a genome with some 25,000 known SNps versus a reference sequence 31 . in this study, the authors modelled the loss of signal in the presence of a SNp and found that just four parameters explained >70% of the variance. Thus, it is possible to estimate the expected decrease in intensity for every probe given a mutation at each nucleotide position, and thereby test an unknown sample for the likelihood that it contains polymorphic sites. This approach has proved to be a robust means of comparing strains of yeast that are either closely related -that is, when genomes differ by as little as 0.000,01% 31 (fIG. 2d) -or diverged 69 .\n",
            " Following the detection of a likely SNp it is necessary to perform short-scale sequencing to identify the precise base change. This is usually feasible for a small number of mutations of interest. even in the absence of precise sequence information it is often informative to examine the degree of sequence identity between different genomes to identify regions of high sequence identity and sequence divergence 69 .\n",
            " The use of microarrays to assess sequence variation is inherently limited to the analysis of unique regions of the genome. Repetitive features and low-complexity DNA are generally avoided. in this respect, microarray-based mutation detection or resequencing is similar to new sequencing approaches that make use of millions of short sequence reads. one current advantage of a microarraybased approach over new sequencing approaches is the available throughput, although this is certain to change in the future. Moreover, although resequencing microarrays have been successfully applied to the detection of heterozygous mutations 70 , it is yet to be demonstrated that a loss-of-signal approach can be reliably applied to this problem.\n",
            " Mobile genetic elements provide one of the richest and most poorly understood sources of genetic variation. Transposons vary in copy number, type and location over virtually every genome, both between individuals and across species. in microorganisms, transposons are known to be associated with antibiotic resistance 71 . in humans, there is evidence that long interspersed nuclear element 1 (liNe1) retrotransposition is involved in generating neuronal diversity 72 and variation in gene expression as well as being a source of disease-causing mutation 73 . in Saccharomyces yeasts, the Ty families Chromatin immunoprecipitation (ChIP) . fractionation of DNA that is bound to a protein of interest by means of an antibody.\n",
            " of retrotransposons show substantial variation across strain backgrounds and species 74, 75 , and novel transposon insertions can cause both adaptive 76, 77 and detrimental 78 mutations. Retrotransposon proximity to genes can also modify gene expression and regulation 79 . Moreover, transposons are potentially a source of CNv as they are correlated with the breakpoints of genomic rearrangements from yeast 41, 80 to humans 59 .\n",
            " Although these repetitive sequences are biologically important, they are poorly covered by all but the highest quality sequencing approaches. For example, many of the several hundred gaps remaining in the Saccharomyces bayanus sequence correlate with retrotransposon sequences in S. cerevisiae (M. Cherry, personal communication). Because of the technical issues that are involved with sequencing and assembling these repetitive elements they are often excluded from sequencing projects. Thus, methods for mapping these elements have been developed that rely on identifying the unique sequences abutting common repetitive sequences.\n",
            " Global mapping of insertion sites is generally performed using a means of isolating the insertion element and its immediately neighbouring DNA. The DNA is then hybridized to a whole-genome array to identify its genomic location (fIG. 3) . Sequencespecific isolation of insertion sites has been successfully demonstrated using oligonucleotide capture probes 75 , or by annealing linkers to fragmented DNA and using pCR 81 by adapting a method that was developed to sequence the termini of genomic clones 82 . Thus far, analytical approaches to these data have simply entailed the identification of contiguous probes above some threshold value, although these methods are certain to evolve as the approaches mature.\n",
            " Transposons are also used extensively as large-scale mutagenesis tools, in model organisms ranging from bacteria 83 and yeast 84, 85 to zebrafish 86 and mice 87 . identifying the locations of experimentally mobilized transposons poses a similar challenge to identifying endogenous transposons. isolation of the insertion sites of these artificial transposons in E. coli 83, 88 and H. pylori 89 makes use of a T7 RNA polymerase promoter that is engineered into the transposon construct to selectively transcribe RNA from the region that is adjacent to the insertion site, which is then analysed using microarrays. This method is sufficiently quantitative that the relative abundance of mutants in a complex mixture can be followed over several rounds of genetic selection 88 , allowing the simultaneous identification of enriched and depleted mutants.\n",
            " Most genome sequencing methods are not well suited to the problems posed by repetitive sequences. The shorter read lengths of next-generation sequencing methods exacerbate the problems of standard sequencing approaches with respect to coverage and assembly. Combining an enrichment method with sequencing rather than using microarrays presents one possibility. Conceptually, this approach is analogous to chromatin immunoprecipitation (Chip), but rather than enriching loci using an antibody that is targeted to a DNA-bound protein of interest, an oligonucleotide would be used to enrich specific loci in the genome. As global Chip has already been adapted to new sequencing platforms 90, 91 , transposon mapping could in principle also be done this way.\n",
            " When dealing with millions of data points it is important to ensure that data quality and processing are managed effectively. To obtain robust data, experimental and analytical considerations need to be made at all stages of the Nature Reviews | Genetics Figure 3 | genome-wide mapping of loci by selective enrichment and detection using microarrays. One way of mapping insertion sequence variation is to isolate the insertion element and its immediately neighbouring DNA. Specific regions of the genome are isolated using either a capture probe method (as illustrated in the diagram) or a PCR-based method. This approach is suited to mapping the location in the genome of mobile genetic elements, which are notoriously difficult to characterize using wholegenome sequencing approaches. As shown in the figure, DNA is fragmented in the first step (a). Two separate reactions selectively enrich for the 5′ and 3′ ends of the insertion sequence using sequence-specific capture probes (b). The 5′-enriched and the 3′enriched fractions are labelled with different fluorophores (Cy5 and Cy3, respectively) and then hybridized to a microarray using a two-colour protocol (c). Finally, insertion sites are mapped on the basis of a transition (indicated by an arrow in d) from positive to negative log 2 ratio, corresponding to sample that is enriched for DNA adjacent to the 5′ end of the insertion sequence and sample that is enriched for DNA adjacent to the 3′ end of the insertion sequence, respectively. The site of transition corresponds to the genomic location of the insertion sequence. Each red and blue bar represents a microarray probe in a contiguous region of the genome spanning ~10 kb. The distance between each probe is ~200 bp and therefore, in this case, the insertion site is detected between two probes corresponding to a mapping resolution of ~200 bp.\n",
            " The use of methods that include an internal reference so that the ratio between sample and control is the metric of interest. protocol. A fundamental difference between experimental platforms is whether there is an internal control for each probe, which is achieved by co-hybridizing differentially labelled sample and reference DNA (a two-colour microarray), or whether only a single sample is analysed (a one-colour microarray)\n",
            " . Recent comparative studies have indicated that two-colour and one-colour microarray experiments produce concordant results for gene expression analysis 92 . However, in contrast with gene expression experiments (in which data from multiple probes can be used to determine a gene expression value) comparative genomic analyses are more sensitive to spurious probe values.\n",
            " There are two arguments for the use of a co-hybridized reference in order to maximize the sensitivity of individual probe data. The first reason is the need for an internal control for probe quality. Microarray probes can be created in several different ways and the manufacturing of microarrays can result in significant variation in probe quality and quantity. This is particularly acute for the 'homemade' variety of microarrays, such as the BAC arrays used for aCGH, in which probe quality can vary greatly between microarrays. However, even leading microarray manufacturers frequently provide microarrays with variable probe quality 93 . The presence of an internal reference provides a means of controlling the variation that is due to probe quality because the measurement of interest is the relative binding efficiency between the reference (often a standard reference used over and over again) and sample. Therefore, this experimental design enables a ratiometric approach to data analysis rather than a reliance on absolute measurements between microarray experiments.\n",
            " The second experimental concern addressed by a ratiometric approach is geographic variation across the microarray due to the conditions in which the hybridization occurred. Most microarrays are mixed by placing the array in a rotating hybridization oven or some device designed to provide agitation of the reactants. variation in mixing and the concomitant differential time of exposure to reagents across the microarray can result in variable hybridization efficiency across the array. This too is readily controlled by the presence of an internal reference. An additional requirement for minimizing geographic artefacts in microarray data is the randomization of probe locations on the microarray with respect to genome location. This simple adjustment in array design reduces the chance that experimental artefacts are conflated with biological significance.\n",
            " Several normalization methods that attempt to address inter-and intra-array variation for one-colour microarrays have been developed 94 . The use of a ratiometric approach greatly simplifies the task of extracting signal from noise because each measurement at every probe is internally controlled (BOX 2) . Nonetheless, two-colour experiments also have a potential limitation: they require the use of two different dyes, which can introduce a dye-specific bias. This effect can be mitigated either by repeating experiments with the dyes interchanged, by performing control experiments that explicitly study the effect of dye bias 95 or by addressing the effect using statistical approaches 96 .\n",
            " A first step in data processing is normalizing data for comparison with or between microarrays. The methods that are used in both one-colour and two-colour microarray experiments usually assume that there is an equal quantity of DNA in all samples. However, this assumption is incorrect in the case of aneuploid samples and, to a lesser extent, samples with differing CNv content. Simple linear corrections have been applied in the case of yeast that carry extra chromosomes 97 , but most methods for normalization do not account for this possibility thereby underestimating values for regions that differ between the two genomes. Similarly, normalization methods for the sequence-level comparison of genomes using short-oligonucleotide microarrays require approaches that do not assume that total hybridization across the array is always equal between samples.\n",
            " A key to validating any microarray approach is an assessment of false positive and false negative rates. This is challenging insofar as it requires knowledge of variation in another genome from the same species that can be used as a test case. For a small number of organisms, multiple sequenced genomes are available, which facilitates testing of a method against a gold standard. Where this is not possible methods must rely on comparisons between datasets.\n",
            " The value of visualizing and exploring genome-scale data cannot be understated. A number of software options exist for visualizing data (TABLe 1) . These include visualization tools in programs such as Mev and Java Treeview. Modules in the Bioconductor package can also be used for visualizing aCGH data. in our experience the freeware application, integrated Genome Browser, provides a great deal of flexibility in terms of the data types that can be imported and viewed and is versatile for viewing multiple diverse datasets simultaneously. Inherent limitations. Although microarray-based methods are a powerful and simple approach to characterizing genomic variation, there are a number of limitations. The greatest limitation in comparison with de novo sequencing methods is the fact that only known sequence is interrogated. Most microarrays have been made using a reference sequence that was obtained using wholegenome Sanger sequencing of one or a few members of a species. Therefore, if additional individuals that contain genomic loci that were not detected in the initial sequencing are analysed using these arrays then these genomic regions will be completely missed in the analysis. This is likely to represent a small proportion of any genome, but in yeast there are a number of cases of genes that are found in some strains but that are not present in the reference sequence 98 . it seems likely that this will be a general case for many species. once such genes have been found in other individuals it makes sense to incorporate them into subsequent microarray designs. An additional limitation for microarrays is the analysis of highly repetitive regions. This includes regions or features of the genome that are present in multiple copies, such as transposons and telomeres as well as low-complexity DNA that contains repetitive motifs. lowcomplexity DNA poses a particular problem for detecting sequence variation because hybridization efficiency seems to be much more variable in these regions and is a common source of false positives.\n",
            " As more attention moves from determining genomic sequences de novo to comparing large numbers of individual variants of the same sequences, the need to simplify and reduce the cost and effort will increase. in most of the main areas of investigation (for example, disease and evolution) the changes will involve a miniscule fraction of the total genomic sequence (for the human genome sequence, as little as 1 base in 3 billion); here, the prospect of truly efficient DNA-microarray-based surveys of variant sequences, followed by local sequencing, promises reductions in cost that make it entirely possible to study thousands of samples in a single laboratory. We expect that even though sequencing will continue to be made cheaper and more effective, the evolution of DNAmicroarray technology will keep pace or better, resulting in a situation in which the 'detect, map and locally sequence' strategy, which is essentially a combination of approaches, will continue to outperform complete resequencing for some time to come.\n",
            " An explicit example of an innovative combination of a microarray-based approach coupled with sequencing was the capture of the SARS coronavirus using a microarray of 70mer oligonucleotides followed by sequence confirmation 99 . This approach has now been extended to selective enrichment of the entire coding fraction of the human genome, enabling targeted resequencing using high-throughput methods [100] [101] [102] . Clearly, these applications suggest the feasibility of a generic approach in which regions of interest that are identified using microarrays can be directly isolated and further investigated.\n",
            " The use of microarrays to resequence the small genomes of pathogens has been one of the most productive uses of array-based approaches to sequencelevel comparisons. With increasing flexibility in array manufacturing and improved methods for detecting variation this approach should be readily applicable to Box 3 | The potential of microarrays to provide insights into human genome variation Microarrays are being applied to a wide range of questions regarding genomic diversity in humans. Whereas microarrays have so far been used predominantly for SNP genotyping 60 , we believe that microarrays will continue to provide a powerful means of discovering new genomic variation and assaying its frequency in the human genome.\n",
            " Below is a list of some of the applications of microarray-based approaches to studying human genome diversity that have already commenced -and some questions that should be tractable using the approaches discussed in this Review.\n",
            " • Studying the nature and extent of structural variation in the human genome. The recent discovery of widespread copy number variation (CNV) in the human genome 44, 57 has ignited a new interest in this class of genomic variation, which is amenable to discovery using array comparative genome hybridization.\n",
            " • The relationship between structural variation and human disease. It has long been known that human disease can be caused by gene amplification or deletion 37 , but it is only recently that genome-scale approaches have revealed the high frequency of de novo CNV and its potential association with autism 46 .\n",
            " • The role of gene amplification in human evolution. Recently, it has been discovered that CNV at the AMY1 locus, encoding the salivary enzyme, amylase, has been under selective pressure through human history 109 . It is likely that selection for or against CNV of particular loci will be a general theme in the human genome as it is in other organisms.\n",
            " • Genomic changes associated with cancers. Typically, genome-wide studies of somatic point mutations that are associated with cancers in humans have used Sanger sequencing approaches 105, 106 . Microarray-based approaches have the potential to address the various genomics events, including base pair changes, structural variation and possibly insertion variation, that are associated with cancers far more rapidly and efficiently.\n",
            " • The role of insertion sequences (for example, long interspersed nuclear elements, or LINEs) in generating cellular diversity and disease. A study has reported the potential role of LINE1 elements in generating neuronal diversity 72 . This presents the tantalizing possibility that somatic mosaicism might be facilitated by mobile elements in the genome -a question that is readily amenable to microarray-based approaches.\n",
            " • The extent of insertional variation in humans. Mobile elements constitute most of the human genome. However, little is known about their variation throughout the human population. It is reasonable to expect that this variation is at least comparable to that observed for CNV.\n",
            " various organisms. With a growing interest in the human microbiome 103, 104 and its role in normal and disease states, studying the role of genomic variation in these microorganisms will become increasingly important. Surprisingly, the ability to localize sequence changes cheaply has generated considerable demand in traditional experimental settings, such as the identification of suppressor mutations and as an adjunct to positional cloning. in practice, a single microarray experiment can save many years of laborious work. Moreover, the ability to assess global variation in an unbiased manner allows questions regarding the genetic consequences of experimental techniques, such as the mutagenic cost on the host genome of genetic engineering manipulations, and of natural phenomena, such as ageing, to be effectively addressed on a global scale.\n",
            " The application of these methods will accelerate current areas of research and allow new questions to be asked in all organisms, including humans\n",
            " . For example, studying the role of intra-individual somatic cell genomic variation might prove insightful for investigating the genomic basis of somatic tissue disease. This is clearly relevant to known genetic diseases such as cancer, in which the current state of the art is Sanger sequencing 105, 106 . However, it is also likely to be of great importance to the study of other diseases of somatic origin, in which the identification of causative mutations is refractory to typical genetic approaches. Similarly, identifying global sites of viral integration, for example, with human immunodeficiency virus 107 , and identifying natural variation in insertion sequences in species is a comparatively under-explored area of biology in which microarray-based approaches have much to offer.\n",
            " Although the advent of generic, 'gold standard' genomic sequences has indeed produced a radical change in biological research, only a fraction of the potential biological insight of genomic sequences is available from this source: the remainder will require genomic comparisons of many types. All forms of genomic diversity -structural, sequence and insertional -can be detected using microarrays. in contrast with the cost, labour and time that is involved in whole-genome sequencing, microarraybased approaches are fast, flexible and inexpensive. it seems likely that the co-evolution of DNA microarray and direct-sequencing strategies will make the power of genomic comparison accessible to any and all researchers who might benefit from it.\n",
            "\n",
            " Recomendation  5 \n",
            "\n",
            "deaths have been reported worldwide (2-5) (https://coronavirus.jhu.edu/map.html). SARS-CoV-2 is a single-stranded positive-sense RNA virus, with an approximately 30,000 base pair genome.\n",
            " The genome is split into ten open reading frames (ORF) that include fifteen non-structural proteins and four structural proteins. The latter category includes the Spike (S), Membrane (M), Envelope (E) and nucleocapsid (N). The S protein is the basis for most candidate vaccines, as it mediates 5 virus attachment and entry to host cells and is the target of neutralizing antibody responses (6-8).\n",
            " The S protein is cleaved into two subunits, S1 and S2: the former contains the receptor binding domain (RBD), which enables the virus to attach to the angiotensin-converting enzyme 2 (ACE2) receptor on host cells.\n",
            " Developing a vaccine against SARS-CoV-2 is a high priority for preventing and mitigating future 10 waves of the pandemic (9). Vaccine candidates typically include an insert that corresponds to one or more virus antigens, either derived computationally or from one or multiple strain(s) sampled from infected individuals. The first viral sequence derived during the COVID-19 outbreak, Wuhan-Hu-1 (GISAID accession EPI_ISL_402125), was published on January 9, 2020. As many vaccine programs initiated at that time, it is likely that this SARS-CoV-2 sequence, sampled in December 15 2019 in Wuhan, China, will be the foundation for a number of vaccine candidates. Compared to other RNA viruses, coronaviruses have a more complex molecular machinery resulting in higher replication fidelity. The mutation rate of SARS-CoV was estimated at 9.0×10 -7 substitutions per nucleotide per replication cycle (10), a rate that is much lower than that of most RNA viruses (1×10 -3 to 1×10 -5 substitutions per nucleotide per replication cycle) (11) , indicating the limited 20 propensity of coronaviruses to diversify. Nonetheless, as the virus spreads more widely, it is important to monitor the introduction of any mutations that may compromise the potential efficacy of a vaccine candidate based on the first sequence.\n",
            " We can obtain insights about the transmission pathways and temporal spread of a virus by analyzing viral sequences sampled from individuals who became infected. Changes in allele 25 frequencies across sequences indicate the fitness of the virus over time, as it adapts to its host. and is also made available for use under a CC0 license.\n",
            " was not certified by peer review) is the author/funder. This article is a US Government work. It is not subject to copyright under 17 USC 105\n",
            " The copyright holder for this preprint (which this version posted April 27, 2020. . https://doi.org/10.1101/2020.04.27.064774 doi: bioRxiv preprint Increasing fitness will result in pervasive mutations at specific sites that improve virus transmissibility, whereas mutations in a neutral evolution context will be minimal and stochastic.\n",
            " Indicators of viral evolution have been shown to be robust predictors of transmission dynamics for several pathogens, such as Influenza (12) , Lassa virus (13) , and Ebola (14) . Typically, the evolution of a virus is driven by genotypic and phenotypic changes in its surface protein. In the 5 case of SARS-CoV-2, mutations in the protein S, which mediates cell entry, are most likely to confer fitness to the virus as it adapts to humans. However, adaptive changes can occur in structural and non-structural proteins, and these changes, as well as different patterns across structural and non-structural proteins, may provide insights into the near-and long-term evolutionary dynamics of SARS-CoV-2, as it spreads in humans.\n",
            " To characterize SARS-CoV-2 diversification since the beginning of the epidemic, we aligned 5,724 independent SARS-CoV-2 genome sequences (average length of 29,874 nucleotides) isolated from 68 countries ( Figure 1A ) (15) . There were 4,678 polymorphic sites. Only 1,231 (4.19%) showed mutations in two or more sequences ( Figure 1B) . The mean pairwise diversity across genomes was 0.08%, ranging between 0.01% for ORF7b to 0.11% for the nucleocapsid 15 (N). Hamming distances across all genomes showed a narrow distribution with a median of nine nucleotide mutations (Figure S1). A phylogenetic tree reconstructed based on all genome sequences (16) reflected the global spread of the virus: samples from the first six weeks of the outbreak were collected predominantly from China and were more basal in the tree ( Figure 1C ).\n",
            " As the epidemic has progressed, samples have been increasingly obtained across Europe and 20 from the United States (Figure 1A, 1C) . The tree shows multiple introductions of different variants across the globe with introductions from distant locations seeding local epidemics, where infections sometimes went unrecognized for several weeks and allowed wider spread (17). The tree topology shows minimal structure, even at the genome level, indicating that SARS-CoV-2 viruses have not diverged significantly since the beginning of the pandemic. 25 and is also made available for use under a CC0 license.\n",
            " was not certified by peer review) is the author/funder. This article is a US Government work. It is not subject to copyright under 17 USC 105\n",
            " The copyright holder for this preprint (which this version posted April 27, 2020. . https://doi.org/10.1101/2020.04.27.064774 doi: bioRxiv preprint Even with minimal divergence, we verified whether specific sites in the genome were selected to diversify. We used likelihood-based, phylogenetically informed models assuming branch-specific substitution rates (18) and identified eight sites under diversifying selection (i.e. with a nonsynonymous/synonymous substitution rates ratio dN/dS > 1), including four sites in S: sites 5, 50, 614 and 943 (Figure 2A) . Three of these four sites rarely varied (with the variant amino acid found 5 in <1% of sequences) and only transiently diversified thus far during the epidemic. In contrast, site 614 changed rapidly: the D614G mutation was introduced into Europe in January and became dominant on that continent ( Figure 2B ) and then globally within two months (found in 55% of sequences) ( Figure S2) . Overall, at least two thirds of sites across the genome were under purifying or neutral selection (dN/dS<1): S=85.9%, E=68.0%, M=74.8%, N=65.6% ( Figure 2C ) 10 (19). While dN/dS ratios varied across genes, ranging from 0.32 (M) to 1.19 (ORF6), they were not significantly different between structural and non-structural genes (Mann-Whitney test, P=0.32) ( Figure 2C ). Per-lineage mutation rates per site, calculated on internal nodes, also showed no differences in mean values (P=0.90) or distributions (K-S test, P=0.89) between structural and non-structural genes ( Figure 2D ). Despite notable differences across structural 15 genes, all fell in the range of other RNA viruses ( Figure 2E ) (20) . Mutations were disproportionately neutral: all branches evolved under neutrality for >65% of sites; and half of all branches evolved under neutrality for >83% of sites ( Figure 2F ) (18).\n",
            " While there was only limited evidence of diversification at selected sites, we also assessed whether the globally circulating viral population differentiated from the initial population sampled 20 in Wuhan. To do so, we used two measures of population differentiation, the GST and D statistics, which characterize changes in allele frequency across populations and can show fitness differences within subpopulations (21-23). We compared 353 genomes sampled from the initial outbreak in Wuhan, China with 5,280 genomes sampled subsequently across the globe. Genetic distances between two subpopulations can range between 0 and 1, indicating no and complete 25 differentiation, respectively. Although distances varied across genes, the genetic distance and is also made available for use under a CC0 license.\n",
            " was not certified by peer review) is the author/funder. This article is a US Government work. It is not subject to copyright under 17 USC 105\n",
            " The copyright holder for this preprint (which this version posted April 27, 2020. . https://doi.org/10.1101/2020.04.27.064774 doi: bioRxiv preprint between these subpopulations was small, indicating little differentiation between the initial outbreak and its global spread ( Figure 3A ). (Elevated estimates can also be artifacts associated with high mutation rates ( Figure 2E ) (24)).\n",
            " Signatures of host adaptation can also be seen in the branching patterns of viral phylogenies.\n",
            " Bursts in transmissibility are emblematic of increases in relative viral fitness and are reflected in 5 imbalances in the phylogeny, which can be estimated at each internal node ( Figure S3 ) (25-27).\n",
            " We estimated mutational fitness (28, 29) at each internal node of the SARS-CoV-2 phylogeny reconstructed from the spike gene and compared the distribution of estimates through time to phylogenies simulated under models of neutral and increasing fitness (i.e., host-adapted). The distribution adhered to expectations of the neutral model and deviated significantly (Mann-10 Whitney test, P<1e-3) from those of increasing fitness ( Figure 3B ). Similar results were obtained when the SARS-CoV-2 and simulated phylogenies were iteratively down-sampled by 50% ( Figure 3C) . Therefore, we concluded that the sample size of sequences was sufficient to test for adaptation. Together, the SARS-CoV-2 population and phylogeny showed no evidence that the global spread of SARS-CoV-2 was related to viral fitness effects. 15 Last, we evaluated two typical vaccine design strategies, which rely either on sampled sequences or on computationally derived sequences that cover the diversity seen across circulating sequences and are in theory optimal compared to an individual isolate (30). We inferred the most recent common ancestors (MRCA) of SARS-CoV-2 S sequences sampled from Wuhan within the first month of the epidemic, from all currently circulating SARS-CoV-2 sequences, and from those 20 corresponding to closely related sequences sampled from pangolins (n=9) and a bat. There were 17 mutations between the human MRCA and the human-bat MRCA and 41 mutations between the human MRCA and human-pangolin MRCA. Overall, three segments in S reflected significant variability across species (AA 439-445, 482-501, 676-690) ( Figure 4A -B, Figure S4 ) (31). In contrast, when considering only human sequences, SARS-CoV-2 diversity was limited: both 25 MRCAs (derived from early Wuhan sequences or from all circulating sequences) were identical and is also made available for use under a CC0 license.\n",
            " was not certified by peer review) is the author/funder. This article is a US Government work. It is not subject to copyright under 17 USC 105\n",
            " The copyright holder for this preprint (which this version posted April 27, 2020. . https://doi.org/10.1101/2020.04.27.064774 doi: bioRxiv preprint to the initial reference sequence Wuhan-Hu-1 ( Figure 4C ). Comparing these sequences to the consensus sequence derived from all of the sequences sampled to date, there was only one mutation: D614G ( Figure 4C ). Figure 4D illustrates that mutations found across circulating sequences are extremely rare: beside D614G (found in 55% of sequences), the next most frequent mutation is found in 0.87% of sequences, with sequences sampled from infected 5 individuals on average 0.69 mutations away from the consensus sequence (consisting of 0.11 synonymous and 0.57 non-synonymous mutations). Across the genome, there were on average 11.46 nucleotide mutations per individual genome when compared to the consensus, with only two other mutations aside from D614G found in >50% of sequences. Focusing on the RBD, we found no evidence that mutations could affect binding to the ACE2 receptor, as only two shared 10 mutations were identified at contact sites with the ACE2 receptor: a non-synonymous mutation (G476S) found in 8 sequences (0.15% of sequences) and a synonymous mutation found in 2 sequences at position 489 (0.04% of sequences).\n",
            " There remains an urgent need for a SARS-CoV-2 vaccine as a primary countermeasure to contain and mitigate the spread of COVID-19. The virus's surface S protein makes an attractive vaccine 15 target because it plays a key role in mediating virus entry and is known to be immunogenic (32).\n",
            " Neutralizing antibody responses against S have been identified in SARS-CoV-2 infected individuals (8) and several clinical trials for a SARS-CoV-2 vaccine will test S as an immunogen.\n",
            " While we focused on the S protein, our comparative analyses of other proteins yielded similar conclusions: a randomly selected SARS-CoV-2 sequence could be used as a vaccine candidate 20 given the typical similarity of any sequence to the computationally derived optimum sequence (as defined by the MRCAs or consensus sequence based on all circulating strains). Vaccines developed using any of these sequences should theoretically be effective against all circulating viruses.\n",
            " Our analyses showed limited evidence of diversifying selection, with comparable mutation and 25 evolutionary rates in structural proteins versus non-structural proteins (under a selection and is also made available for use under a CC0 license.\n",
            " was not certified by peer review) is the author/funder. This article is a US Government work. It is not subject to copyright under 17 USC 105\n",
            " The copyright holder for this preprint (which this version posted April 27, 2020. . https://doi.org/10.1101/2020.04.27.064774 doi: bioRxiv preprint paradigm, structural proteins which are essential for viral entry and the target of the host immune response would have higher rates than the non-essential proteins), low estimates of genetic differentiation following the initial outbreak, and phylogenetic patterns adhering to a neutral process of evolution. These results suggest that SARS-CoV-2 has not, as yet, adapted to its host as it is spreading globally. Rather, our findings illustrate that epidemiological factors primarily 5 mediated the global evolution of SARS-CoV-2. While certain mutations have increased in frequency, these were likely exported to under-infected areas early in the outbreak and therefore given the opportunity to spread widely (founder effect). For example, in January 2020, a virus carrying the D614G mutation, which had not then been observed among sequences from China, was transmitted to Germany. Host and environmental factors permitted the establishment of a 10 sustained cluster of infections that propagated this mutation until it became dominant among European sequences and then globally ( Figure S2 ). There is no evidence that the frequent identification of this mutation is caused by convergent selection events that would have occurred in multiple individuals. The D614G mutation is at the interface between two subunits and thereby would not be expected to be part of a critical epitope for vaccine mediated protection (Figure 4) . 15 However, an S612L mutation, in the same region as the D614G mutation, has been observed after passaging a MERS-CoV isolate in the presence of two antibodies (in 5/15 clones after 20 passages) (33). The rare presence of the S612L mutation among MERS-CoV sequences (2 of 473 sequences from humans) indicates that it is unlikely to be a common escape pathway.\n",
            " Nonetheless, its occurrence in vitro warrants further work to evaluate whether the close-by D614G 20 mutation in SARS-CoV-2 impacts protein stability, conformational changes, infectivity or recognition of a distal epitope. While the possibility of a D614G escape pathway is unknown, mutations in the RBD constitute a likely path to escape antibody recognition, as described for Influenza (34, 35). Importantly, we found no mutation in the RBD that was present in more than 1% of SARS-CoV-2 sequences; such rare variants are unlikely to interfere with vaccine efficacy. 25 and is also made available for use under a CC0 license.\n",
            " was not certified by peer review) is the author/funder. This article is a US Government work. It is not subject to copyright under 17 USC 105\n",
            " The copyright holder for this preprint (which this version posted April 27, 2020. . https://doi.org/10.1101/2020.04.27.064774 doi: bioRxiv preprint\n",
            " These results indicate that so far SARS-CoV-2 has evolved through a non-deterministic, noisy process and that random genetic drift has played the dominant role in disseminating unique mutations throughout the world. Yet, it is important to note that the virus was only recently identified in the human population -a short time frame relative to adaptive processes that can take years to occur. Although we cannot predict whether adaptive selection will be seen in SARS-5 CoV-2 in the future, the key finding is that SARS-CoV-2 viruses that are currently circulating constitute a homogeneous viral population. Viral diversity has challenged vaccine development efforts for other viruses such as HIV-1, Influenza or Dengue but these viruses each constitute a more diverse population than SARS-CoV-2 viruses ( Figure S5) . We can therefore be cautiously optimistic that viral diversity should not be an obstacle for the development of a broadly protective SARS-CoV-2 vaccine. and is also made available for use under a CC0 license.\n",
            " was not certified by peer review) is the author/funder. This article is a US Government work. It is not subject to copyright under 17 USC 105\n",
            " The copyright holder for this preprint (which this version posted April 27, 2020. and is also made available for use under a CC0 license.\n",
            " was not certified by peer review) is the author/funder. This article is a US Government work. It is not subject to copyright under 17 USC 105\n",
            " The copyright holder for this preprint (which this version posted April 27, 2020. and is also made available for use under a CC0 license.\n",
            " was not certified by peer review) is the author/funder. This article is a US Government work. It is not subject to copyright under 17 USC 105\n",
            " The copyright holder for this preprint (which this version posted April 27, 2020. \n",
            " and is also made available for use under a CC0 license.\n",
            " was not certified by peer review) is the author/funder. This article is a US Government work. It is not subject to copyright under 17 USC 105\n",
            " The copyright holder for this preprint (which this version posted April 27, 2020. \n",
            " Supplementary data include Materials and Methods and Figures S1-S5. Sequences and 5 metadata are provided as Supplementary Data file S1. and is also made available for use under a CC0 license.\n",
            " was not certified by peer review) is the author/funder. This article is a US Government work. It is not subject to copyright under 17 USC 105\n",
            " The copyright holder for this preprint (which this version posted April 27, 2020. . https://doi.org/10.1101/2020.04.27.064774 doi: bioRxiv preprint was not certified by peer review) is the author/funder. This article is a US Government work. It is not subject to copyright under 17 USC 105\n",
            " The copyright holder for this preprint (which this version posted April 27, 2020. . https://doi.org/10.1101/2020.04.27.064774 doi: bioRxiv preprint reference sequence, Wuhan-Hu-1 (EPI_ISL_402215). Open reading frames are shown in gray for non-structural proteins and in color for structural proteins (Spike, S: purple; Envelope, E: blue;\n",
            " Membrane, M: green; Nucleocapsid, N: red). (C) Global phylogeny of 5,579 independent sequences. Tree reconstructed from all near-full length sequences (tips more divergent than expected from their sampling date were removed). The tree was rooted at the reference 5 sequence, Wuhan-Hu-1, and tips colored by collection location. The scale indicates the distance corresponding to five mutations. and is also made available for use under a CC0 license.\n",
            " was not certified by peer review) is the author/funder. This article is a US Government work. It is not subject to copyright under 17 USC 105\n",
            " The copyright holder for this preprint (which this version posted April 27, 2020. . https://doi.org/10.1101/2020.04.27.064774 doi: bioRxiv preprint\n",
            " and is also made available for use under a CC0 license.\n",
            " was not certified by peer review) is the author/funder. This article is a US Government work. It is not subject to copyright under 17 USC 105\n",
            " The copyright holder for this preprint (which this version posted April 27, 2020. was not certified by peer review) is the author/funder. This article is a US Government work. It is not subject to copyright under 17 USC 105\n",
            " The copyright holder for this preprint (which this version posted April 27, 2020. . https://doi.org/10.1101/2020.04.27.064774 doi: bioRxiv preprint and is also made available for use under a CC0 license.\n",
            " was not certified by peer review) is the author/funder. This article is a US Government work. It is not subject to copyright under 17 USC 105\n",
            " The copyright holder for this preprint (which this version posted April 27, 2020. . https://doi.org/10.1101/2020.04.27.064774 doi: bioRxiv preprint was not certified by peer review) is the author/funder. This article is a US Government work. It is not subject to copyright under 17 USC 105\n",
            " The copyright holder for this preprint (which this version posted April 27, 2020. . https://doi.org/10.1101/2020.04.27.064774 doi: bioRxiv preprint sequences that differed from the Wuhan-Hu-1 sequence (GISAID: EPI_ISL_402125, GenBank: NC_045512). Mutations that were found only in one or two sequences were not represented. 5 and is also made available for use under a CC0 license.\n",
            " was not certified by peer review) is the author/funder. This article is a US Government work. It is not subject to copyright under 17 USC 105\n",
            " The copyright holder for this preprint (which this version posted April 27, 2020. Figure S1 to S5 Supplementary data file S1 20 and is also made available for use under a CC0 license.\n",
            " was not certified by peer review) is the author/funder. This article is a US Government work. It is not subject to copyright under 17 USC 105\n",
            " The copyright holder for this preprint (which this version posted April 27, 2020. . https://doi.org/10.1101/2020.04.27.064774 doi: bioRxiv preprint\n",
            " All sequences were downloaded from GenBank or GISAID (https://www.gisaid.org/). GenBank accession numbers are: MN970003, MN970004, MT049951, MT050417, MT111895,  MT123292, MT123293, MT127113, MT159778, MT192758, MT226610, MT232871, MT232872,  Sequence analysis All SARS-CoV-2 sequences available as of April 2020 were downloaded and deduplicated. Sequences known to be linked through direct transmission were down sampled and the sample with the earliest date (chosen at random when multiple samples were taken on the same day) was retained. Insertions relative to the reference sequence (Wuhan-Hu1, GISAID accession 15 EPI_ISL_402125) were removed and the 5' and 3' ends of sequences (where coverage was low) were excised resulting in an alignment consisting of the 10 open reading frames (ORFs). Sequences were aligned with Mafft v7.453 (15) . Phylogenies were obtained using FastTree v2.10.1 (compiled with double precision) (16) under the GTR model with gamma heterogeneity. Tips more divergent than expected from their sampling date were removed from Figure 1 . 20 Branches are given in units of substitutions per site and the phylogeny was rooted using the oldest sequence.\n",
            " Sites under positive, negative, and neutral selection were estimated using a mixed-effect likelihood method that estimates non-synonymous and synonymous substitution rates at each 25 codon (18). Non-synonymous and synonymous substitution rates were estimated using a reversible MG94 codon model (19). Estimates were drawn from internal nodes only. Genetic differentiation between subpopulations were performed on each gene separately using Nei's GST (21) and Jost's D (22) with the mmod package (23) and calculated over 100 bootstrapped samples.\n",
            " A neutrally evolving phylogeny was simulated with a constant birth-death rate; a phylogeny with increasing fitness was simulated with exponentially increasing birth rate and constant deathrate. Branch-lengths for both simulated phylogenies were drawn from the SARS-CoV-2 spike gene phylogeny. Mutational fitness over time was estimated for each phylogeny by extracting 35 branches from each node independently and calculating the peak height of the spectral density profile of the graph Laplacian of each subtree with >4 tips (29). Each phylogeny was downsampled 100 times at 50% and mutational fitness was re-calculated.\n",
            " Ancestral protein sequences were reconstructed on amino acid alignments using maximum posterior probability and returning a unique residue at each site assuming a JTT model with gamma heterogeneity. A sliding window of ten amino acids (and a step of one amino acid) was used to compare the cumulative number of mutations in the Human-bat and Human-bat-pangolin ancestors with respect to the human ancestral sequence. Median values for each window were 45 compared to a null window (computed as a normal distribution of ten values with a mean equal to the mean value across the entire Spike protein, 0.046 mutations) using a one-tailed t-test. 50 and is also made available for use under a CC0 license.\n",
            " was not certified by peer review) is the author/funder. This article is a US Government work. It is not subject to copyright under 17 USC 105\n",
            " The copyright holder for this preprint (which this version posted April 27, 2020. . https://doi.org/10.1101/2020.04.27.064774 doi: bioRxiv preprint Figure S1 . Narrow distribution of hamming distances across SARS-CoV-2 genomes. Hamming distances were calculated across 5,712 genome sequences. The x-axis represents the number of nucleotide mutations between two genomes. The median is reported for all unlinked individuals (n = 5,597, median = 9) as well as for linked cases from Cruise A (n = 25, median = 2) 5 or from the Diamond Princess cruise (n = 69, median = 2). and is also made available for use under a CC0 license.\n",
            " was not certified by peer review) is the author/funder. This article is a US Government work. It is not subject to copyright under 17 USC 105\n",
            " The copyright holder for this preprint (which this version posted April 27, 2020. . https://doi.org/10.1101/2020.04.27.064774 doi: bioRxiv preprint Figure S2 . The Spike mutation D614G quickly became dominant. The mutation D614G was found in 55% of sequences sampled globally as of April 10, 2020, the second most frequent mutation in the Spike was only found in ~1% of sequences. The figure depicts the distribution of D and G variants (upper panel, on April 3, 2020; lower panel, on April 10, 2020). This mutation 5 corresponded to the most frequent variant in Europe, but it was only rarely sampled in Asia. The and is also made available for use under a CC0 license.\n",
            " was not certified by peer review) is the author/funder. This article is a US Government work. It is not subject to copyright under 17 USC 105\n",
            " The copyright holder for this preprint (which this version posted April 27, 2020. . https://doi.org/10.1101/2020.04.27.064774 doi: bioRxiv preprint phylogeny suggests that this mutation was linked to a bottleneck event when SARS-CoV-2 viruses were introduced in Europe; this mutation was first seen in a sequence sampled in Germany at the end of January. There is no evidence that the increasing predominance of this mutation was caused by convergent selection events that would have occurred in multiple individuals. Figure S3 . Mutational fitness through time. (A) Mutational fitness was measured as the peak height (1/h) of the (B) spectral density profile of the graph Laplacian constructed from the (C) phylogeny descending from an internal node. The sequence of mutational fitness estimates over time demonstrate the temporal pattern of (un)changing mutational fitness. was not certified by peer review) is the author/funder. This article is a US Government work. It is not subject to copyright under 17 USC 105\n",
            " The copyright holder for this preprint (which this version posted April 27, 2020. . https://doi.org/10.1101/2020.04.27.064774 doi: bioRxiv preprint Figure S4 . Phylogenetic tree of SARS-CoV-2 spike sequences. (A) Phylogenetic tree reconstructed from SARS-CoV-2 genomes corresponding to sequences sampled from Wuhan, China, seven sequences sampled from Pangolins between 2017 and 2019, and one sequence from a bat collected in 2013. Human (1), human and bat (2), and human, bat, and pangolin (3) 5 ancestral nodes are indicated. (B) Amino acid sequence alignments from the most diverse segments between the three reconstructed ancestral sequences. (C) Phylogenetic tree reconstructed from circulating and optimized vaccine candidate (consensus and MRCA) sequences. The rarity of polymorphisms is evident in the shallowness of the tree. Highlighted are and is also made available for use under a CC0 license.\n",
            " was not certified by peer review) is the author/funder. This article is a US Government work. It is not subject to copyright under 17 USC 105\n",
            " The copyright holder for this preprint (which this version posted April 27, 2020. . https://doi.org/10.1101/2020.04.27.064774 doi: bioRxiv preprint sequences corresponding to the consensus for all circulating sequences and the MRCA for the sequences from Wuhan and for the nodes including sequences from pangolins and bats. and is also made available for use under a CC0 license.\n",
            " was not certified by peer review) is the author/funder. This article is a US Government work. It is not subject to copyright under 17 USC 105\n",
            " The copyright holder for this preprint (which this version posted April 27, 2020. . https://doi.org/10.1101/2020.04.27.064774 doi: bioRxiv preprint Figure S5 . Comparison of the diversity found across circulating SARS-CoV-2 or HIV-1 sequences. The trees show the diversity found across SARS-CoV-2 spike sequences (n = 5,579) (A) and across HIV-1 envelope sequences sampled in 2010 (n = 1,067) (B). HIV-1 sequences 5 were downloaded from the LANL HIV-1 database (www.hiv.lanl.gov). The purpose of this figure with both trees shown on the same scale is to illustrate the extent of diversity that needs to be covered by an HIV-1 vaccine compared to what a SARS-CoV-2 vaccine shall cover. and is also made available for use under a CC0 license.\n",
            " was not certified by peer review) is the author/funder. This article is a US Government work. It is not subject to copyright under 17 USC 105\n",
            " The copyright holder for this preprint (which this version posted April 27, 2020. . https://doi.org/10.1101/2020.04.27.064774 doi: bioRxiv preprint\n",
            "\n",
            " Recomendation  6 \n",
            "\n",
            "I n December 2019, a cluster of patients with pneumonia of unknown etiology was reported in Wuhan, Hubei Province, China. On January 9, 2020, the Chinese Center for Disease Control and Prevention identified the causative agent as a novel coronavirus, which now is officially termed severe acute respiratory syndrome coronavirus 2 (SARS-CoV-2). 1 The illness caused by SARS-CoV-2, coronavirus disease 2019 (COVID-19), mainly manifests with fever, dry cough, dyspnea, myalgia, and diarrhea. However, COVID-19 presentations can range from asymptomatic infection, self-limited influenza-type symptoms, and acute pneumonia to severe respiratory failure with high mortality. Currently, the epidemic in China is being gradually controlled with major domestic efforts and international support. However, the global epidemic has now become a pandemic.\n",
            " Without knowing the detailed mechanisms of COVID-19, specific management is lacking. The reported mortality in different countries varies according to extent of testing performed, ranging from 0.3% to 10%. The respiratory, immune, and coagulation systems are the major targets of this pandemic disease. 2 Kidney injury has appeared relatively less with COVID-19 than with Middle East respiratory syndrome or hantavirus infections, perhaps due to the different underlying mechanisms and ensuing pathologic manifestations. Clinically, the incidence of acute kidney injury (AKI) in COVID-19 varied from 0.9% to 29% in different centers. New onset proteinuria was also reported by several institutions. 3 Currently, the pathologic investigation has primarily focused on respiratory, hematopoietic, and immune systems, whereas morphologic data of kidney injury are lacking. In this study, we report on our experience of kidney findings at autopsy in patients with severe COVID-19. \n",
            " The 26 patients with COVID-19 included 19 males and 7 females, with an average age of 69 years (range, 39-87 years). All 26 cases had positive results for SARS-CoV-2 by nucleic acid testing and characteristic radiologic alterations in lungs. Eleven patients had history of hypertension or diabetes or both. Data on angiotensin-converting enzyme (ACE) inhibitors or angiotensin-receptor blockers for hypertension or diabetes or both before the terminal hospitalization were not available. Patients were treated with calcium-channel blockers if needed for hypertension during the terminal hospitalization, without ACE inhibitors or angiotensin-receptor blockers or both, due to uncertainty regarding possible effects. Six patients had history of tumor. The clinical information is summarized in Tables 1 and 2 .\n",
            " All tissue samples were well preserved without autolysis. There was prominent proximal acute tubule injury (ATI) manifested as the loss of brush border, vacuolar degeneration, dilatation of the tubular lumen with cellular debris, and occasionally even frank necrosis and detachment of epithelium with bare tubular basement membrane noted (the latter observed in 4 cases). The majority of the vacuoles in cytoplasm were variable in size; however, focal isometric fine vacuolization was uncommonly present and is associated with, for example, mannitol or i.v. Ig therapy (Figure 1a and b). In 2 patients, consistent with corresponding pathologic findings in their lungs, acute pyelonephritis was observed with multiple foci of bacteria and diffuse polymorphonuclear casts in the lumen of tubules. In 1 of these 2 patients, an arcuate artery was infiltrated with numerous inflammatory cells (Figure 1c and d), likely representing reaction to bacterial infection. Diffuse erythrocyte aggregation and obstruction were present in peritubular and glomerular capillary loops without distinct fragmentation of erythrocytes or platelets or fibrin thrombi.\n",
            " Occasional hemosiderin granules in tubular epithelium were identified in 4 patients with hematuria by dipstick ( Figure 1e ). In 3 cases, pigmented casts were found with high levels of creatine phosphokinase, possibly representing rhabdomyolysis ( Figure 1f ). Distal tubules and collecting ducts showed only occasional cellular swelling and edematous expansion of the interstitial space without significant inflammation. Lymphocytic infiltrates were present in areas of nonspecific fibrosis including subcapsular areas.\n",
            " Glomeruli showed varied degrees of underlying morphologic changes, such as nodular mesangial expanding and hyalinosis of arterioles, which constituted evidence of diabetic nephropathy in 2 of the patients with diabetes, and arteriosclerosis of medium-size arteries with ischemic glomeruli in 11 of the patients with hypertension. Focal obsolescent glomeruli were detected proportional to the age in this population. Endothelial cell swelling with variable foamy degeneration was present in 5 of the patients with COVID-19, and they were usually older and had hypertensive or diabetic histories. In 3 cases, a few areas of segmental fibrin thrombus in glomerular capillary loops were identified associated with severe injury of the endothelium (Figure 1g ). Occasional podocyte vacuolation and even detachment from the glomerular basement membrane was noted. Focal segmental glomerulosclerosis was observed in 2 patients with overt proteinuria as well as history of diabetes. Ischemic changes with shrinkage of capillary loops with accumulation of plasma in Bowman's space was present in 7 cases, occasionally with pseudocrescent appearance (Figure 1h ). Crescents and hypercellular or inflammatory lesions of glomeruli were not present. The pathologic findings are summarized in Table 3 .\n",
            " Virus particles were identified in the cytoplasm of renal proximal tubular epithelium as well as in the podocytes and less so in distal tubules. The diameter of virus particles varied from about 65 nm to 136 nm, with distinctive spikes, around 20 to 25 nm, presenting in a solar \"corona\" appearance. Additional features of this coronavirus included adjacent double membrane with surface projections, nucleocapsid apposing to the viral envelope, and the interior electronlucent of the particles (Figure 2a-d) .\n",
            " In 1 case, paramesangial and subendothelial deposits with segmental mesangial interposition and increased lamina rara interna were present (Figure 2e); and scattered subepithelial \"hump-like\" deposits were noted in another case. No other diagnostic electron-dense deposits were detected. These 2 patients did not have evidence of bacterial infection at autopsy in lungs or kidneys.\n",
            " In 2 of 3 patients with diabetes, characteristic changes of diabetic nephropathy were present by electron microscopy (EM), including increased thickness of the glomerular basement membrane without deposits, mesangial expansion and segmental foot process effacement, and microvillous transformation.\n",
            " Abundant erythrocytes were observed obstructing peritubular capillary lumens with activation of endothelium ( Figure 2f ). Platelet aggregations or fibrin tactoids were not detected in association with this lesion. Aggregation of erythrocytes in segmental glomerular capillary loops was frequent, without inflammation or necrosis. In patent glomerular capillary loops, a varied extent of endothelial injury was noted, including swelling, foamy-like change, subendothelial lucent expansion, and endothelial proliferation without deposits. The ultrastructural findings are summarized in Table 3 . macrophages. CD235a (glycophorin A, present in erythrocytes) staining confirmed the microvascular obstruction was composed predominantly of erythrocytes. Serial section staining for CD61 (platelet marker) showed minimal staining in the same field, indicating no significant platelet component, and CD31 staining for endothelial cells showed near complete occlusion of peritubular capillary lumens ( Figure 3a ). In an archival biopsy of a patient who was nondiabetic, nonhypertensive, and without COVID-19, biopsied for proteinuria, weak ACE II (ACE2) staining of proximal tubules without glomerular staining was observed, which is consistent with previous publications. No detectable signal was observed in the kidney vascular compartment (Figure 3b ). ACE2 staining was also done in 5 of the patients (nos. 21, 22, 23, 24, 25), revealing altered ACE2 pattern in 3 of these (nos. 21, 22, 25). ACE2 expression was prominent in proximal tubular cells, particularly in areas with severe ATI. In addition, focal strong parietal epithelial cells staining was present, as well as occasional weaker podocyte staining (Figure 3c ). Direct or indirect immunofluorescent (IF) staining was conducted from paraffin blocks in 6 cases, and nonspecific IgM and C3 trapping were present. One biopsy showed segmental granular capillary IgG, however, without diagnostic C3 staining along the capillary wall, but with scattered humps by EM. One case showed IgA staining in mesangial area as well as capillary wall, associated with corresponding mesangial and subendothelial deposits by EM. By an indirect fluorescence method, the expression of SARS-CoV nucleoprotein was analyzed in the same 6 cases, and 3 showed positive granular staining in a nuclear or cytoplasm pattern in tubular epithelium (Figure 3d ). Negative and positive controls showed expected reactivity. The immunostaining findings are summarized in Table 3 .\n",
            " In the present study, we report the kidney histopathologic, ultrastructural, and immunostaining findings from autopsies of 26 patients who died from respiratory failure due to COVID-19. This is the first report of kidney pathologic presentations in patients with SARS-CoV-2 infection. Our autopsy study demonstrates the range of abnormalities present and the specific kidney cells likely infected with the virus, and thus may provide important information for future clinicopathologic studies in less severely ill patients with COVID-19 infection and kidney injury. We observed significant ATI, the occlusion of microvascular lumens mainly by erythrocytes with ensuing endothelial damage, as well as glomerular and vascular changes indicative of underlying diabetic or hypertensive disease. Some of these findings are in accordance with former mechanisms known for b-coronavirus infection in kidney. We also show findings that suggest distinct mechanisms of this novel coronavirus infection, involving direct kidney parenchyma infection and likely secondary endothelial injury. Thus, these pathologic observations may provide a basis for further understanding of COVID-19.\n",
            " We observed diffuse acute proximal tubular injury with loss of brush border and nonisometric vacuolation, which may be partially caused by the direct virulence of SARS-CoV-2, demonstrated by our ultrastructural and immunostaining assessment. The tubular cytoplasmic vacuoles were mostly variable in size. However, in a few patients, focal isometric fine vacuolization was present and is likely related to treatment with hypertonic sucrose or other hyperosmolar fluids, such as i.v. Ig or mannitol therapy. EM demonstrated spherical virus particles characteristic of coronavirus in proximal tubular epithelium. The diameter of the virus particles and the length of spikes were similar to previously identified coronaviruses causing SARS and Middle East respiratory syndrome. 4 Furthermore, virus particles were clearly identified in podocytes, associated with foot process effacement and occasional vacuolation and detachment of podocytes from the glomerular basement membrane. Virus infection was confirmed by IF staining using an antibody targeting SARS-CoV nucleoprotein shared between bcoronaviruses. These findings indicate that SARS-CoV-2 virus can directly infect the renal tubular epithelium and podocytes, which was associated with AKI and proteinuria in these patients with COVID-19. Another common morphologic finding was erythrocyte stagnation in the lumen of glomerular and peritubular capillaries without platelets, red blood cell fragments, fibrin thrombi, or fibrinoid necrosis. Interestingly, in cases with predominant glomerular loop occlusion, less red blood cell aggregation was present in peritubular capillaries, which is often associated with a relatively long duration of hypotension.\n",
            " Pigmented casts were present in some patients and were associated with apparent rhabdomyolysis with high serum levels of creatine phosphokinase. Potentially, drug-or hyperventilation-relevant rhabdomyolysis contributed, although a direct viral effect on muscle is also possible. Of note, there was no interstitial hemorrhage as is characteristic for AKI induced by hantavirus infection. 5 Furthermore, diagnostic vasculitis, one of the morphologic features of lungkidney syndrome caused by anti-neutrophil cytoplasmic antibodies, 6 was not identified in these patients with COVID-19.\n",
            " SARS-CoV-2 shares 79% homology with SARS-CoV, the causal agent of SARS outbreaks in China 18 years ago. 7 They In addition, ACE2, discovered in 2000, negatively regulates the classic ACE-angiotensin II type 1 receptor axis. 9 In the kidneys, ACE2 is expressed in the apical brush borders of the proximal tubules as well as the podocytes in less intensity. In endothelial cells of the kidney, only ACE is expressed without detectable ACE2. 10, 11 In line with this distribution of ACE2, we observed virus particles in tubular epithelium and podocytes, sites of known ACE2 expression. Collectively, the tubular and glomerular visceral epithelial cells of the kidney are the main targets of SARS-CoV-2. Based on our observations, the endothelium thus is not expected to be directly infected with SARS-CoV-2. However, we cannot totally rule out the possibility that SARS-CoV-2 can infect other resident kidney cells, as ACE2 expression may be altered in disease states or due to medications. Indeed, we show intensely positive parietal epithelial cells and occasional podocyte staining with ACE2 in 3 of the 5 COVID-19 kidney samples we assessed.\n",
            " Recently, SARS-CoV-2 was shown to also invade target cells by CD147, a ubiquitously expressed transmembrane glycoprotein with interaction with diverse partners such as cyclophilins, caveolin-1, and integrins. 12 CD147 is thought to play a role in several kidney diseases through immuneinflammatory responses and dysregulated cell cycle. In the kidney, CD147 is highly expressed on the cell surface of proximal tubular epithelium and infiltrating inflammatory cells. Interestingly, the CD147 partners, cyclophilins, play an important role in the replication process of coronavirus, and cyclophilins' inhibitor, cyclosporine, can effectively suppress the intracellular propagation of virus. 13, 14 Presumably, interrupting the CD147-cyclophilins axis may be a promising strategy to treat COVID-19.\n",
            " In addition to the direct virulence of SARS-CoV-2, other secondary insults, especially hypoxia, cytokine storms, secondary infection with bacteria, other viruses, fungi, and drugassociated nephrotoxicity can all contribute to AKI.\n",
            " In summary, we describe extensive ATI and a surprising endothelial injury pattern, with evidence for direct parenchymal tubular epithelial and podocyte viral infection in severe lethal COVID-19. However, there are several weaknesses in the current study, including the relatively small number of cases, and the lack of control tissue from patients with less severe COVID-19 with evidence of AKI. Further research is still urgently needed for comprehensive understanding of COVID-19, including effects on the kidney.\n",
            " This study was conducted in accordance with the principles of the Declaration of Helsinki and approved by the Medical Ethical Committee of Union Hospital, Tongji Medical School, Huazhong University of Science and Technology. Written informed consent was obtained from next of kin of each enrolled case. According to the New Coronavirus Pneumonia Prevention and Control Program (7th edition), the diagnosis of COVID-19 was confirmed by nucleic acid testing of nasopharyngeal secretion or bronchoalveolar lavage fluids, radiologic features of viral pneumonia, and clinical symptoms. In addition, 5 patients also underwent assessment of the serum for SARS-CoV-2-specific antibodies detection by the immune colloidal gold technique, and all of them were positive.\n",
            " Tissue sampling and processing Samples from the kidney were obtained from autopsies of 26 COVID-19 cases with a postmortem interval ranging from 1 to 6 hours from February 18 to March 27, 2020. Tissue specimens were fixed in 10% formalin or 2.5% glutaraldehyde for 48 to 72 hours before the following procedures. Hematoxylin and eosin, periodic acid-Schiff, Masson trichrome, and Jones methenamine silver stains were performed on sections from paraffin blocks in all cases. For EM examination, performed in 9 cases, after osmium tetroxide post fixation and gradient dehydration, Epon-embedded, toluidine blue-stained \"semi-thin\" sections were examined, and selected areas were chosen for thin sections. Thin sections were then cut and stained with uranyl acetate and lead citrate. EM grids were then viewed with a transmission electron microscope (HT-7800; Hitachi, Tokyo, Japan).\n",
            " Immunohistochemical staining was performed in 9 to 16 cases for CD3, CD4, CD8, CD20, CD21, CD31, CD61, CD68, and CD235a (antibody source: Fuzhou Maixin Biotech Co., Ltd., Gulou Fuzhou, China). To detect the distribution of ACE2 in kidney, immunohistochemical staining was carried out, using antibody ACE2 from Abcam (catalog no. ab15348; Cambridge, MA). ACE2 staining was c l i n i c a l i n v e s t i g a t i o n Kidney International (2020) -, ---performed in 5 COVID-19 cases and in an archival paraffin block from a patient without COVID-19, diabetes, or hypertension, who was biopsied for proteinuria.\n",
            " IF staining was done in 6 cases for IgG, IgG subclasses, IgA, IgM, C3, C1q, kappa, and lambda by paraffin IF technique. Paraffin blocks from these 6 cases were also stained with anti-SARS-CoV nucleoprotein antibody (1:1000, 40143-T62; Sino Biological, Beijing, China) for 30 minutes in room temperature, and then stained with fluorescent-labeled secondary antibody.\n",
            " All the authors declared no competing interests. \n",
            "\n",
            " Recomendation  7 \n",
            "\n",
            "The coronavirus pandemic began as a simple outbreak in December 2019 in Wuhan, China. However, it quickly propagated to other countries and became a primary global threat. It seems that most countries were not prepared for this pandemic. As a consequence, hospitals were overcrowded with patients and death rates due to the disease skyrocketed. In particular, as of the time of this writing (11th April 2020), there have been over 1.5 million cases and over 100 thousand deaths worldwide as a cause of the coronavirus induced disease, COVID-19 1 . Figure 1 : Histogram based on probability density estimation for the cases and deaths per million population using country level data. The x-axis describes the observed value, whereas the y-axis is the estimated probability density. Data taken on 11th April 2020.\n",
            " In order to reduce the impact of the disease spread, most governments implemented social distancing restrictions such as closure of schools, airports, borders, restaurants and shopping malls [1]. In the most severe cases there were even lockdowns -all citizens were prohibited from leaving their homes. This subsequently lead to a major economic downturn: stock markets plummeted, international trade slowed down, businesses went bankrupt and people were left unemployed. While in some countries the implemented restrictions had a significant impact on reducing the expected shock from the coronavirus, the extent of the disease spread in the population greatly varied from one economy to another, as illustrated in Fig 1. A multitude of social and economic criteria have been attributed as potential determinants for the observed variety in the coronavirus outcome. Some experts say that the hardest hit countries also had an aging population [2, 3] , or an underdeveloped healthcare system [4, 5] . Others emphasize the role of the natural environment [6, 7] . In addition, while the developments in most of the countries follow certain common patterns, several countries are notably outliers, both in the number of documented cases and in the disease outcome.Having in mind the ongoing debate, a comprehensive empirical study of the critical socio-economic determinants of the coronavirus pandemic would not only provide a glimpse on their potential impact, but would also offer a guidance for future policies that aim at preventing the emergence of epidemics.\n",
            " Motivated by this observation, here we perform a detailed statistical analysis on a large set of potential socio-economic determinants and explore their potential to explain the variety in the observed coronavirus cases/deaths among countries. To construct the set of potential determinants we conduct a thorough review of the literature describing the social and economic factors which contribute to the spread of an epidemic. We identify a total of 35 potential determinants that describe a diverse ensemble of social and economic factors, including: healthcare infrastructure, societal characteristics, economic performance, demographic structure etc. To investigate the performance of each variable in explaining the coronavirus outcome, we utilize the technique of Bayesian model averaging (BMA) . BMA allows us to isolate the most important determinants by calculating the posterior probability that they truly regulate the process. At the same time, BMA provides estimates for their relative impact, while also accounting for the uncertainty in the selection of potential determinants [8] [9] [10] .\n",
            " Based on the current data, we observe patterns that suggest that there are only few determinants (factors) that have explanatory power for the coronavirus outcome. As we will discuss in more detail in the sequel, we observe that some of these factors are strongly related to the level of economic development and to the effect of population size in social interactions. However, we stress that at this point in time, our observations require a careful interpretation for several reasons, including the following: (i) the analysis is based on aggregate quantities, i.e. averages across geographic locations. As such, it does not include spatial inhomogeneity and hence can not capture (potentially) significant interactive local dynamics; (ii) the parameters governing the time evolution of the disease spread and pandemic outcome are themselves dynamic, and depend on the stage of the country's epidemic and on the changing social response efforts. While being aware of these potential shortcomings of our formulation, in the absence of realistic models that adequately cover all relevant aspects, this study provides the first step towards a more comprehensive understanding of the socio-economic factors of the coronavirus pandemic. We expect that, with the availability of new data and the improved understanding of the dynamics of the coronavirus pandemic, some of these shortcomings will be overcome, yielding a more reliable interpretation of the results.\n",
            " In a formal setting, both the log of registered COVID-19 cases and the log of COVID-19 deaths are a result of a disease spreading process [11, 12] . The extent to which a disease spreads within a population is uniquely determined by its reproduction number. This number describes the expected number of cases directly generated by one case in a population in which all individuals are susceptible to infection [13, 14] . Obviously, its magnitude depends on various natural characteristics of the disease, such as its infectivity or the duration of infectiousness [15] , and the social distancing measures imposed by the government [1]. Also, it depends on a plethora on socio-economic factors that govern the behavioral interactions within a population [16, 17] .\n",
            " In general, we never observe the reproduction number, but instead its outcome, i.e. the number of cases/deaths. Hence, we can utilize the known properties of the reproduction number to derive a linear regression model M m for the coronavirus outcome as\n",
            " where for simplicity we denote both the log of registered COVID-19 cases per million population and the log of COVID-19 deaths per million population of country i as y i . We focus on registered quantities normalized on per capita basis for the dependent variable instead of raw values 3 as a means to eliminate the bias in the outcome arising as a consequence of the discrepancies in the sizes of the studied countries. In the equation, X m i it is a k m dimensional vector of socioeconomic explanatory variables that determine the dependent variable, β m is the vector describing their marginal contributions, β 0 is the intercept of the regression, and u i is the error term. The s i term controls for the impact of social distancing measures of the countries, and γ is its coefficient. Finally, we also include the term d i , with δ capturing its marginal effect, that measures the duration of the pandemics within the economy. This allows us to control for the possibility that the countries are in a different state of the disease spreading process.\n",
            " A central question which arises is the selection of the independent variables in M m . While the literature review offers a comprehensive overview of all potential determinants, in reality we are never certain of their credibility. In order to circumvent the problem of choosing a model and potentially ending up with a wrong selection, we resort to the technique of Bayesian Model Averaging (BMA). BMA leverages Bayesian statistics to account for model uncertainty by estimating each possible model, and thus evaluating the posterior distribution of each parameter value and probability that a particular model is the correct one [18] .\n",
            " The BMA method relies on the estimation of a baseline model M 0 that is used for evaluating the performance of all other models. In our case, M 0 is the model which encompasses only the effect of government social distancing measures and the duration of the pandemics in the country.\n",
            " We measure the duration of pandemics in a country simply as the number of days since the first registered case, whereas in order to assess the effect of government restrictions we construct a stringency index. Mathematically, the index quantifies the average daily variation in government responses to the pandemic dynamics. As a measure for the daily variation we take the Oxford Covid-19 stringency index 2 . The Oxford Covid-19 stringency index is a composite measure that combines the daily effect of policies on school closures, reduction of internal movement, travel bans and other similar restrictions. For each country, we construct a weighted average of the index from all available data since their first registered coronavirus case up to the last date of data gathering. To emphasize the effect of policy restrictions implemented on an earlier date in calculating the average value, we put a larger weight on those dates. This is because earlier restrictions have obviously a bigger impact on the prevention of the spread of the virus. The procedure implemented to derive the average government stringency index is described in greater detail in Section S2.1 of the Supplementary Material (SM). Fig 2 visualizes the results from the baseline model. We observe that the countries which had stringer policies also had less COVID-19 cases and deaths, as expected. In addition, the countries with longer duration of the crisis registered more cases and deaths per million population, though, the effect of this variable is negligible. \n",
            " It is apparent that the baseline model can explain only a certain amount of the variations in registered covid cases/deaths. A fraction of the rest, we believe, can be attributed to various socioeconomic determinants present within a society. To derive the set of potential determinants we conduct a comprehensive literature review. From the literature review we recognize a total of 35 potential socio-economic determinants, listed in Table 1 . For a detailed description of the potential effect of the determinants we refer to the references given in the same table, and the references therein. In what follows, we only describe in short the potential determinants on the basis of the socio-economic characteristic they exhibit.\n",
            " Healthcare Infrastructure: The healthcare infrastructure essentially determines both the quantity and quality with which health care services are be delivered in a time of an epidemic. As measures for this determinant we include 4 variables which capture the quantity of hospital beds, nurses and medical practitioners, as well as the quality of the coverage of essential health services. On the one hand, studies report that well structured healthcare resources positively affect a country's capacity to deal with pandemic emergencies [19] [20] [21] [22] [23] [24] [25] . On the other hand, the healthcare infrastructure also greatly impacts the country's ability to perform testing and reporting when identifying the infected people. In this regard, economies with better structure are able to easily perform mass testing and more detailed reporting [26] [27] [28] .\n",
            " National health statistics: The physical and mental state of a person play an important role in the degree to which the individual is susceptible to a disease. It is expected that a nation composed of unhealthy individuals should also experience greater consequences of an emergent epidemics [29] [30] [31] [32] . Specifically, metabolic disorders such as diabetes may intensify pandemic complications [33, 34] , whereas it has been observed that communicable diseases account for the majority of deaths in 5 . CC-BY-NC-ND 4.0 International license It is made available under a author/funder, who has granted medRxiv a license to display the preprint in perpetuity.\n",
            " is the (which was not peer-reviewed) The copyright holder for this preprint .\n",
            " complex emergencies [35] . In addition, there is empirical evidence that adequate hygiene greatly reduces the rate of mortality [36, 37] . To quantify the national health characteristics we include 6 variables that asses the level of healthiness among the studied countries.\n",
            " Economic performance: We evaluate the economic performance of a country through 6 variables. This performance often mirrors the country's ability to intervene in a case of a public health crisis [38] [39] [40] [41] [42] . Variables such as GDP per capita have been used in modeling health outcomes, mortality trends, cause-specific mortality estimation and health system performance and finances [43, 44] . For poor countries, economic performance appears to improve health by providing the means to meet essential needs such as food, clean water and shelter, as well access to basic health care services. However, after a country reaches a certain threshold of GDP per capita, few health benefits arise from further economic growth. It has been suggested that this is the reason why, contrary to expectations, the economic downturns during the 20th century were associated with declines in mortality rates [45, 46] . Observations indicate that what drives the health in industrialized countries is not absolute wealth or growth but how the nation's resources are shared across the population [47] . The more egalitarian income distribution within a rich country is associated with better health of population [48] [49] [50] [51] . Nevertheless, it is also known that in better economies the trade interactions and mobility of people is faster, which may enhance the propagation of an transmitted disease [17, 19, 42, 52, 53] .\n",
            " Societal characteristics: The characteristics of a society often reveal the way in which people interact, and thus spread the disease. In this aspect, properties such as education and media usage reflect the level of a person's reaction and promotion of self-induced measures for reducing the spread of the disease [54] [55] [56] [57] [58] . Governing behavior such as control of corruption, rule of law or government effectiveness further enhance societal responsibility [59, 60] . There are findings which identify the religious view as a critical determinant in the health outcome [61, 62] . Evidently, the religion drives a person's attitudes towards cooperation, government, legal rules, markets, and thriftiness [63] . Finally, the way we mix in society may effectively control the spread of infectious diseases [17, 53, [64] [65] [66] . To measure the characteristics of a society we identify 9 variables.\n",
            " Demographic structure: Similarly to the national health statistics, the demographic structure may evaluate the susceptibility of the population to a disease. Certain age groups may simply have weaker defensive health mechanisms to cope with the stress induced by the disease [67] [68] [69] . In addition, the location of living may greatly affect the way in which the disease is spread [70, 71] . To express these phenomena we collect 6 variables.\n",
            " Natural environment: A preserved natural environment ensures healthy lives and promotes well-being for all at all ages. In contrast, countries where natural sustainability is deteriorated and observables such as air pollution are of immense magnitude, are also more vulnerable to epidemic outbreak [6, 7, 72, 73] . However, healthy natural environments also attract a plethora of tourists and thus may help in an easier transformation from epidemic to a pandemic. We gather the data for 4 variables which capture the essence of this socio-economic characteristic [26].\n",
            " 6 . CC-BY-NC-ND 4.0 International license It is made available under a author/funder, who has granted medRxiv a license to display the preprint in perpetuity.\n",
            " is the (which was not peer-reviewed) The copyright holder for this preprint 7 . CC-BY-NC-ND 4.0 International license It is made available under a author/funder, who has granted medRxiv a license to display the preprint in perpetuity.\n",
            " is the (which was not peer-reviewed) The copyright holder for this preprint . https://doi.org/10.1101/2020.04.15.20066068 doi: medRxiv preprint\n",
            " We use this set of determinants and estimate two distinct BMA models. In the first model the dependent variable is the log of COVID-19 cases per million population, whereas in the second model we investigate the critical determinants of the log of the mortality rate due to the coronavirus. The data gathering and preprocessing procedure is described in Section S1, whereas the mathematical background of BMA together with our inference setup is given in Section S2.2.\n",
            " Tables 2 and 3 display the respective results. In both tables, the determinants are ordered according to their posterior inclusion probabilities (PIP), given in the second column. PIP quantifies the posterior probability that a given determinant belongs to the \"true\" linear regression model. Besides this statistic, we also provide the the posterior mean (Post mean) and the posterior standard deviation (Post Std). Post mean is an estimate of the average magnitude of the effect of a determinant, whereas the Post Std evaluates the deviation from this value.\n",
            " In the estimation procedure we a priori assume that the \"true\" model consists of the baseline model and 3 additional independent variables. This implies that the prior inclusion probability of each potential determinant is around 0.09. Hence, we can divide the determinants into four groups according to their posterior inclusion probability value [74] .\n",
            " Determinants with strong evidence: (PIP > 0.5). The first group describes the determinants which have by far larger posterior inclusion probability than the prior one, and thus there is strong evidence to be included in the true model. We find two variables for which there is such evidence in explaining the coronavirus cases: population size and GDP per capita (p.c.). The population size is negatively related to the number of registered COVID-19 cases per million population, whereas the GDP p.c. exhibits a positive effect on the same variable. In the situation of coronavirus deaths, however, only the GDP p.c. remains a strong predictor, with a positive magnitude.\n",
            " Determinants with medium evidence: ( 0.5 > PIP > 0.1). One variable displays medium evidence for being a crucial socio-economic determinant of the registered COVID cases 19 -the government health spending, with a positive impact. When looking at the BMA estimation of COVID-19 deaths, besides this determinant, government effectiveness also shows a medium PIP size.\n",
            " Determinants with weak evidence: (0.1 >PIP> 0.01). These are determinants which have a lower posterior than the prior probability to be included in the true model, but still may account for some of the variations in the coronavirus outcome. For the cases per million population there are 5 such determinants, out of which 2 have a negative impact: the percentage of the population using internet and the mortality rate from lack of hygiene. The results suggest that life expectancy, population density and a population consisting of majorly catholic population, have a low evidence for having a negative marginal effect on the observed COVID-19 cases.\n",
            " There are 7 determinants for which there is low evidence to be included in the true model describing the coronavirus deaths. Four of them have a negative Post Mean: population size, rule of law, control of corruption and mortality rate from lack of hygiene; whereas the presence of catholic religion and the number of physicians pr capita exhibit a positive Post Mean value.\n",
            " . CC-BY-NC-ND 4.0 International license It is made available under a author/funder, who has granted medRxiv a license to display the preprint in perpetuity.\n",
            " is the (which was not peer-reviewed) The copyright holder for this preprint \n",
            " The preliminary analysis suggests that only a handful of socio-economic determinants are able to explain the current extent of the coronavirus pandemic. The sole determinant strongly related to 10 . CC-BY-NC-ND 4.0 International license It is made available under a author/funder, who has granted medRxiv a license to display the preprint in perpetuity.\n",
            " is the (which was not peer-reviewed) The copyright holder for this preprint .\n",
            " both coronavirus cases and coronavirus deaths is the level of economic development. Wealthier countries display larger susceptibility to the disease. Interestingly, besides the level of economic development, the population size is also a credible predictor of the registered coronavirus cases per million population, with more populated economies showing greater resistance to being infected by the virus.\n",
            " A plentiful of reasons can be used as a possible interpretation for these results. For instance, it is known that in structured populations, the degree of epidemic spread scales inversely with population size [75] . This is because, everything else considered, in larger populations it is easier to identify and target the critical individuals that are susceptible to the disease [76] . In a similar fashion, various explanations can be found for the observed effect of economic development, such as increased population mobility and aging population. However, it could also be the case that more developed countries have a bigger testing power and provide better evidence for the coronavirus situation. In fact, this may be suggested by our discovery that there is a medium evidence for past government health expenditure to be positively associated with the coronavirus outcome.\n",
            " Clearly, the interpretation of our analysis requires a more detailed background due to several reasons. Among these reasons is the fact that we include several potential determinants only through crude approximations. In particular, the level of social mixing is given simply as the average number of persons in a household or the dominant religion in the country. We do not follow the exact social network structures within a population. It is evident that the inhomogeneous nature of these spatial patterns has an essential role in propagation of diseases [17] . In this regard, in future versions of this study we aim to incorporate more detailed measures which capture the essence of social connectedness [77] the degree of individualism [78] and/or community mobility data 3 . In addition, the spread of the coronavirus is obviously still in a transient regime. Even though, we include a proxy for the duration of the coronavirus pandemic in each country, this essentially hinders the development of a coherent modeling framework.\n",
            " These underexpressed effects may play a significant role in the final outcome of the coronavirus pandemic. Nonetheless, in the absence of a unifying framework covering all relevant aspects, our investigation acts as the starting point for the development of a more comprehensive understanding of the socio-economic factors of the coronavirus pandemic. We believe that with the availability of new data and the improved understanding of the dynamics of the coronavirus pandemic, some of these shortcomings will be overcome, yielding a more reliable interpretation of the results.\n",
            " [1] Neil Ferguson, Daniel Laydon, Gemma Nedjati Gilani, Natsuko Imai, Kylie Ainslie, Marc Baguelin, Sangeeta Bhatia, Adhiratha Boonyasiri, ZULMA Cucunuba Perez, Gina Cuomo-Dannenburg, et al. Report 9: Impact of non-pharmaceutical interventions (npis) to reduce covid19 mortality and healthcare demand. 2020.\n",
            " [2] William Gardner, David States, and Nicholas Bagley. The coronavirus and the risks to the elderly in long-term care. Journal of Aging & Social Policy, pages 1-6, 2020. 3 Community mobility data is available at https://www.google.com/covid19/mobility/.\n",
            " . CC-BY-NC-ND 4.0 International license It is made available under a author/funder, who has granted medRxiv a license to display the preprint in perpetuity.\n",
            " is the (which was not peer-reviewed) The copyright holder for this preprint . https://doi.org/10.1101/2020.04.15.20066068 doi: medRxiv preprint 12 . CC-BY-NC-ND 4.0 International license It is made available under a author/funder, who has granted medRxiv a license to display the preprint in perpetuity.\n",
            " is the (which was not peer-reviewed) The copyright holder for this preprint . https://doi.org/10.1101/2020.04. 15.20066068 doi: medRxiv preprint Supplementary material S1 Data description\n",
            " The data for the dependent variable are taken from Worldometer's 2019-20 Coronavirus tracker. The tracker offers live coverage of country coronavirus statistics, by collecting data from sources which include Official Websites of Ministries of Health or other Government Institutions and Government authorities' social media accounts. Because national aggregates often lag behind the regional and local health departments' data, an important part of the data collection process consists in monitoring thousands of daily reports released by local authorities. The current results were made with data gathered on 11th April 2020.\n",
            " The data used for calculation of the stringency index and the days since the first regisrered COVID-19 case are gathered from Oxford's COVID-19 government response tracker. Finally, the data used for measuring the possible socio-economic determinants are gathered from 7 various sources. In particular, the collection is as follows: 25 determinants are from the World Bank's World Development Indicators (WDI), 3 determinants are respectively from the Nationmaster database (NM) and the World Governance Indicators (WGI), and there is 1 determinant from the International Monetary Fund's (IMF), the State of Global Air (SGA), the Global footprint network (GFN) and from the United Nations (UN) database. The list of sources together with links to their websites is given in Table S1 . To reduce the noise from the data we restrict to using only countries with population above 1 million. In addition, we only use countries for which there is data on all of the potential socioeconomic determinants. Table S2 gives the countries for which all of these data was available.\n",
            " . CC-BY-NC-ND 4.0 International license It is made available under a author/funder, who has granted medRxiv a license to display the preprint in perpetuity.\n",
            " is the (which was not peer-reviewed) The copyright holder for this preprint Altogether, we end up with data on 35 variables and 72 countries. Table S3 reports the summary statistics of each variable. We hereby point out that as a measure of the determinant the log of the last observed value is taken, unless otherwise stated in Table S3. 19 . CC-BY-NC-ND 4.0 International license It is made available under a author/funder, who has granted medRxiv a license to display the preprint in perpetuity.\n",
            " is the (which was not peer-reviewed) The copyright holder for this preprint \n",
            " . CC-BY-NC-ND 4.0 International license It is made available under a author/funder, who has granted medRxiv a license to display the preprint in perpetuity.\n",
            " is the (which was not peer-reviewed) The copyright holder for this preprint . https://doi.org/10.1101/2020.04. 15.20066068 doi: medRxiv preprint\n",
            " To calculate our government stringency measure we make use of Oxford's daily government stringency index. Oxford's daily government stringency index measures on a scale of 1-100 the variation in daily government responses to COVID-19 by accumulating ordinal data on country social distancing measures on school, workplace and public transport closure; cancellation of public events; restrictions of internal movement; control of international travel and promotion of public campaigns on prevention of coronavirus spread.\n",
            " To calculate the overall index stringency index c i (d i ) at a final date d i from the provided daily indexes we implement the following procedure. Let c i (t) represent the government stringency on day t, then our index can be estimated as where B m0 is the Bayes information criterion between model M m and the baseline model M 0 . In our case this is the model including government social distancing measures and the length of the coronavirus crisis in the country.\n",
            " With this setup, we can define the posterior distribution of β as a weighted average of the posterior distributions of the parameters under each model using the posterior model probabilities as weights g(β |y) = \n",
            " Posterior inclusion probabilities offer a more robust way of determining the effect of a variable in a model, as opposed to using p-values for determining statistical significance of a model coefficient because they incorporate the uncertainty of model selection. According to equations (S3) and (S4), it is clear that we need to specify priors for the parameters of each model and for the model probability itself. To keep the model simple and easily implemented here we use the most often implemented priors. In other words, for the parameter space we elicit a prior on the error variance that is proportional to its inverse, p(σ 2 ) ≈ 1/σ 2 , and a uniform distribution on the intercept, p(α) → 1, while the Zellner's g-prior is used for the β m parameters, and for the model space we utilise the Beta-Binomial prior. To estimate the posterior parameters we use a Markov Chain Monte Carlo (MCMC) sampler, and report results from a run with 200 million recorded drawings and after a burn-in of 100 million discarded drawings. The theoretical background behind our setup can be read in Refs. [18, [79] [80] [81] .\n",
            " . CC-BY-NC-ND 4.0 International license It is made available under a author/funder, who has granted medRxiv a license to display the preprint in perpetuity.\n",
            " is the (which was not peer-reviewed) The copyright holder for this preprint . https://doi.org/10.1101/2020.04. 15.20066068 doi: medRxiv preprint \n",
            "\n",
            " Recomendation  8 \n",
            "\n",
            "A 36-year-old male patient from New Jersey, USA, with obesity, hypertension and diabetes, was admitted to our service presenting excessive sweating, tachypnea, tachycardia, fever (38.6°C), and blood oxygen level of 90%. The patient reported that 5 days before he had sought medical care in the United States for dry cough, nasal congestion, malaise and fever. Chest radiography ( Figure 1 ) and computed tomography (CT) (Figure 2 ) at admission showed multiple small nodular opacities and diffuse consolidations in both lungs, with central and peripheral distribution as well as with ground-glass halo, which corresponds to the halo sign.\n",
            " The reverse transcription polymerase chain reaction (RT-PCR) assay for coronavirus identified the viral RNA in the patient-collected nasopharyngeal swab.\n",
            " Computed tomography findings of pneumonia in patients with severe acute respiratory syndrome-related coronavirus-2 (SARS-CoV-2), the coronavirus diseases 2019 (COVID-19), are nonspecific and they can be found in other viral etiologies and in organizing pneumonia. The most common aspect includes multifocal ground-glass opacities associated or not with areas of consolidation or septal thickness (the \"crazy-paving\" pattern), and bilateral distribution involving mainly the peripheral lung regions. (1) The CT can be used for symptomatic patients, including higher sensibility reports, but with limited specificity concerning the standard molecular test. (2, 3) However, this procedure is not recommended for screening by the majority of medical societies. (1) The halo sign is not characteristic or a frequent presentation among patients with COVID-19 lung injury. There are few reports on this subject in published literature, although the halo sign has been observed in other viral pneumonias. (4) Recently, two other cases reported the halo sign, a 27-year-old female (5) and a 46-year-old male patients. (6) This CT sign was first described in 1985 as geographic areas of low lung attenuation in the lung (ground-glass opacity) surrounding a nodule or mass, and it was associated with angioinvasive pulmonary aspergillosis in patients with acute leukemia. (7) In these reported cases, the ground-class represents the perinodular alveolar hemorrhage caused by pulmonary infarction due to the angioinvasive aspergillosis.\n",
            " So far, numerous other etiologies with this tomography presentation have been already described. (4, 8, 9) In immunocompromised patients, in addition to angioinvasive aspergillosis (most frequent in neutropenic individuals), the possibility of Kaposi sarcoma should be also considered in HIV-positive patients with low CD4 T-cell counts. However, in immunocompromised patients, the halo sign can be found in primary adenocarcinoma of the lung (mainly when there is lepidic component), metastasis (specially associated with hemorrhagic component), and in other inflammatory and infectious conditions such as granulomatosis with polyangiitis, organizing pneumonia, some bacterial, fungi, and viral infections. (4, 8, 9) Although the halo sign constitutes a CT finding with large differential diagnosis and it is rarely found in pneumonias caused by SARS-CoV-2, this CT sign in individuals under COVID-19 investigation can help in this disease diagnosis and management, particularly during the current pandemic.\n",
            "\n",
            " Recomendation  9 \n",
            "\n",
            "Objective:\n",
            " To describe the implementation of technological support important for optimizing clinical management of the COVID-19 pandemic.\n",
            " Our health system has confirmed prior and current cases of COVID-19. An Incident Command\n",
            " Center was established early in the crisis and helped identify electronic health record (EHR) based tools to support clinical care.\n",
            " We outline the design and implementation of EHR based rapid screening processes, laboratory testing, clinical decision support, reporting tools, and patient-facing technology related to COVID-19.\n",
            " The EHR is a useful tool to enable rapid deployment of standardized processes. UC San Diego Health built multiple COVID-19-specific tools to support outbreak management, including scripted triaging, electronic check-in, standard ordering and documentation, secure messaging, real-time data analytics, and telemedicine capabilities. Challenges included the need to frequently adjust build to meet rapidly evolving requirements, communication and adoption, and coordinating the needs of multiple stakeholders while maintaining high-quality, pre-pandemic medical care.\n",
            " The EHR is an essential tool in supporting the clinical needs of a health system managing the COVID-19 pandemic.\n",
            " The novel coronavirus COVID-19 was initially identified in December 2019 as a case of pneumonia in Wuhan, China and has since become a global pandemic, affecting greater than 150 countries around the world.[1-6] The World Health Organization declared the outbreak a pandemic on March 11, 2020 and called for coordinated mechanisms to support preparedness and response to the infection across health sectors. [7] On March 13, the Executive Office of the United States proclaimed the pandemic a national emergency. [8] While the incidence of COVID-19 continues to rise, healthcare systems are rapidly preparing and adapting to increasing clinical demands. [9] [10] Inherent to the operational management of a pandemic in the era of modern medicine is leveraging the capabilities of the electronic health record (EHR), which can be useful for developing tools to support standard management of patients. [11] Technologybased tools can effectively support institutions during a pandemic by facilitating the immediate widespread distribution of information, tracking transmission in real-time, creating virtual venues for meetings and day-to-day operations, and, perhaps most importantly, offering telemedicine visits for patients. [12] [13] [14] [15] [16] During the Ebola outbreak in 2014, attention was brought to the use of the EHR as a potential public health tool. [17] Unfortunately, despite the recent Ebola epidemic, the infrastructure for outbreak management was not present in many United States health systems and their EHR applications. [18] As we are now facing a pandemic, many institutions are working to rapidly develop supportive and reliable informatics infrastructure in order to prepare for managing an exponential increase in COVID-19-infected patients. However, the literature to describe the informatics tools required to successfully manage this novel infection is lacking.\n",
            " Here we discuss the rapid development and implementation of the EHR configuration necessary for outbreak management within a large regional public academic health center in the setting of new and pending COVID-19 cases. We detail the specific informatics tools we built to support the health system's efforts to prepare for the current pandemic and the challenges associated with this task.\n",
            " University of California, San Diego Health (UCSDH) is a large regional academic health system encompassing two acute care hospitals, outpatient primary and specialty medical and surgical care, and emergency patient care. UCSDH is also one of five academic medical centers within a broader 10-campus University of California system. UCSDH utilizes a commercially available, electronic health record (EHR), Epic (Verona, WI), and also hosts over 300 affiliate physicians across 10 medical groups on this EHR. San Diego County served as a quarantine site for both Chinese ex-patriots and cruise ship passengers, and also experienced community spread of COVID earlier than much of the US. [19] An Incident Command Center was established at UCSDH on February 5, 2020 for 24-hour monitoring and adaptation to rapidly evolving conditions and recommendations on a local, state, federal, and global scale. An assessment of the institutional current state revealed the need to develop a rapid screening process, hospital-based and ambulatory testing, new orders with clinical decision support, reporting/analytics tools, and the enhancement/expansion of current patient-facing technology.\n",
            " With the guidance of the Incident Command Center, our clinical informatics team prioritized projects related to COVID-19 to enable expedited build and implementation. In response to the pandemic, we configured our EHR with the technology-based tools listed in Table 1 . Awareness and training of novel resources for clinicians and staff were distributed via a variety of communication channels in concurrence with important epidemiologic, policy, and health safety information by the Incident Command Center and health system leadership. \n",
            " One of the first needs for the health system was the development of a rapid and effective multimodal COVID-19 screening process, including telephone calls, direct email, and EHR messaging, all before in-person encounters. A protocolized triage system was developed and embedded into multiple EHR templates, which could be rapidly updated as screening guidance evolved ( Table 2) . These instructions can be easily accessed by call centers and triage nurses, allowing them to provide guidance to patients regarding requirements for home isolation, appropriate locations to obtain COVID-19 testing, and when to visit the emergency department.\n",
            " In order to limit exposures and relieve the burden on physical healthcare locations, automated email notifications were sent to patients prior to their clinic appointments indicating that persons with fever and/or new cough call the health system for proper triage before presenting to the health care facility.\n",
            " Travel and symptoms screening questions were added to the registration/check-in process ( Figure 1) . The EHR was configured to require complete documentation by front desk staff, ensuring all patients being seen for acute and elective care across the institution receive screening. EHR templates were used by front-line staff to adhere to a standardized screening \"script.\" Positive screening questions in both acute and ambulatory care settings triggered a provider alert with clinical decision support offering appropriate guidance for subsequent clinical care, including any testing or isolation orders needed to facilitate next steps. Again, this set of tools in the EHR can be rapidly adjusted based on evolving recommendations. \n",
            " We constructed order panels in the EHR for inpatient, emergency department, and ambulatory settings that included a defaulted, pre-populated COVID-19 lab order, appropriate isolation orders and options for additional laboratory testing or imaging studies. UCSDH elected to use in-house COVID-19 testing for patients in the hospital and emergency department, but to have COVID-19 tests obtained in ambulatory and urgent care settings sent out to a reference laboratory due to initial existing limitations in testing capacity. As such, engineering the correct order to appear in the correct setting was essential to avoid confusion and process failures.\n",
            " Additionally, modifications were made to our existing respiratory pathogen panel, as several tests for non-COVID-19 coronaviruses were already present in the system. In order to avoid confusion for both clinicians and patients, these tests were clearly labeled to delineate between COVID-19 and other coronaviruses unrelated to the current pandemic or \"NON-COVID-19\n",
            " coronavirus.\"\n",
            " Clinical decision support at the moment of ordering was provided by including screening criteria, information on specimen acquisition, requirements for personal protective equipment, and expectations on test result turnaround time for easy review. In addition, a series of questions were added to the COVID-19 orders, requiring the ordering provider to document the testing criteria met by the patient. Our build construct allowed for rapid editing to maintain alignment with operational needs as screening requirements and lab handling processes frequently changed following the initial implementation. Similar COVID-19 ordering workflows were instituted in our occupational health department to prepare for the potential of increased healthcare worker exposures.\n",
            " To better respond to the rapidly evolving care needs during this outbreak, UCSDH assembled a seven-person \"Ambulatory COVID Team (ACT).\" Team members included two infectious disease physicians, three primary care physicians (our community care physician lead, an epidemiology expert, and our ambulatory Chief Medical Information Officer), and two nurses. We used a secured messaging platform (SMP) within the EHR to enable rapid \n",
            " Having the ability to monitor the evolving current state of the health system was a key request from the Incident Command Center. The enterprise reporting team constructed a series of easily accessible reports within the EHR for use by the Incident Command Center, Infection\n",
            " Control, and other key organizational leaders. The reports were automatically distributed, accessible on mobile devices, and used to inform operational decisions on expanding testing capacity, patient isolation procedures, geographic cohorting of patients, and to monitor adherence to patient screening processes. We also created a COVID-19 Operational Dashboard with real-time data on the number of patients tested, test results, bed availability in the intensive care unit, availability of ventilator units, and volume of ambulatory visits (Figure 2 ). In addition, UCSDH had previously granted broad access to the EHR self-service analytics tool, with which key personnel can create ad hoc reports on items such as the use of isolation and testing frequency.\n",
            " UCSDH prioritized moving in-person clinic visits to telemedicine-based visits when appropriate in order to avoid unnecessary patient and staff exposure. Prior to the advent of the COVID-19 outbreak, UCSD had already developed and implemented a telemedicine infrastructure for use by multiple outpatient clinics. In response to the federal government loosening of telehealth requirements, and local desire to convert existing outpatient visits to video, we expanded access to all outpatient areas and created online self-guided learning videos on the conduct of virtual patient care (Figure 3) . [20] [21] In addition, we re-purposed an existing ambulatory EHR optimization team to provide assistance to onboarding clinical areas or those enhancing their telemedicine capacity. Within 72 hours of the executive proclamation of a national emergency, over 300 unique health employees were trained in telemedicine and ~1,000 video visits were scheduled.\n",
            " Over 200,000 patients at UCSDH use the patient portal functionality within the EHRtethered patient portal (Epic MyChart), which allows patients to utilize the video visit capability described above in addition to scheduling appointments, secure messaging with the care team, and viewing and downloading test results. 22 The aforementioned modification of the display names for our pre-existing coronavirus assay ensured non-COVID coronavirus lab results displayed to patients as \"non-COVID-19.\" An early operational decision was made to delay the release of positive COVID-19-specific test results to allow UCSDH to directly contact and inform patients. However, we elected to immediately post negative COVID-19 test results to MyChart as testing volume made it more challenging to contact all tested patients in a timely fashion.\n",
            " We describe a series of EHR enhancements designed to support the rapid deployment of new policies, procedures, and protocols across a healthcare system in response to the COVID-19\n",
            " pandemic. Within the span of a few weeks, the magnitude of the outbreak within the United\n",
            " States became clear to healthcare leaders on local, state, and federal levels. [10, 18] As our own institution faced a growing number of known and suspected COVID-19 cases, as well as a variety of patient care and operational needs related to the pandemic, we recognized the importance of the EHR and other technology-based tools as an enabling adjunct to accelerated process design and implementation. The development of a multidisciplinary task force involving institutional leaders, infectious disease and infection prevention specialists, and technology experts is a critical first step in addressing hospital-specific concerns and developing open and productive communication. [23] [24] [25] An initial needs-based assessment was done of the current state to determine the necessary operational processes for outbreak management, the existing informatics structure to support these processes, and the gaps that needed to be bridged in a timely fashion. Doing so allowed us to expediently configure the EHR to support COVID-19\n",
            " outbreak management as detailed in this report. information can serve to assist governments and regional health systems in combatting the outbreak. However, to our knowledge no reports have detailed the specific tools within an EHR that can be developed and leveraged to support the efforts of the public health response against COVID-19. In the modern era, essentially all of the processes mentioned above rely heavily on technology and, for individual health systems, direct interfacing with the EHR. Therefore, we have summarized our recent efforts to enhance our informatics infrastructure.\n",
            " There are other recent examples of utilizing technology during this public health crisis. In Taiwan, a national health insurance database was integrated with immigration and customs data to generate real-time alerts during clinic visits to aid in case identification. [29] Online questionnaires were utilized to risk stratify travelers so that low risk citizens were automatically sent a health declaration border pass while high-risk individuals were quarantined at home and remotely monitored for the development of symptoms with mobile device applications. [29] Healthcare systems in Houston, Texas, developed remote communication channels between physicians and emergency responders to assist with triaging. [14] Virtual home visits for high risk individuals and remote ICU monitoring is also being employed to reduce hospital-staff contact with patients with suspected or confirmed cases of COVID-19. [14] Multiple institutions across the United States have transitioned to telemedicine in an effort to reduce emergency room visits through remote triaging. [23] Telemedicine has already proved useful during epidemiological emergencies, including through use of live video counseling with patients, virtual patient monitoring, and mobile applications for symptom observation. [15] Telemedicine can be used in the setting of emergency medicine to triage patients, decrease the rate of discharge without complete treatment and proper follow-up, and reduce the number of in-person visits and subsequent risk of transmission of infection. [12] [13] An additional application is in early symptom identification and triaging as a mitigation strategy for potential delays in access to healthcare. [30] This was previously observed in Wuhan, China during the initial outbreak of COVID-19 when 89% of patients were not hospitalized until at least 5 days into their illness. [30] Enhancing existing EHR platforms with tools for triaging and screening for symptoms has the potential to identify symptomatic patients earlier and decrease the physical burden on healthcare systems. [31] At our own institution, much of the informatics framework to support outbreak balancing the need to focus on the pandemic while maintaining high-quality healthcare and operations unrelated to the novel infection in order to provide service to all aspects of the community. Finally, the frequently changing landscape of a pandemic, with often daily guideline and protocol updates that generally require approval from multiple stakeholders within a large and complex health system, presented challenges to maintaining the rapid project momentum.\n",
            " The most significant mitigation strategy for these challenges was the establishment of a\n",
            " Services. This enabled real-time identification of failures and successes, a focus on evolving needs, and feedback on subsequent interventions. The COVID-19 pandemic has highlighted the importance of a multidisciplinary team approach to medical care and building cohesive systems capable of sustaining unanticipated trials.\n",
            " In the face of the COVID-19 pandemic, healthcare systems can best prepare by following guidelines and recommendations set forth by federal and global institutions. The electronic health record and associated technologies are vital and requisite tools in supporting outbreak management that should be leveraged to their full potential, and we hope that our experiences in developing these tools will be helpful to other health systems facing the same challenge.\n",
            " We \n",
            "\n",
            " Recomendation  10 \n",
            "\n",
            "Due to changing climates, the 'new' modes of living by the people, and increased natural disasters, unprecedented outbreaks of emerging and reemerging diseases have been occurring since many years by now. Their outbreaks have been further critically important in the public and for veterinary health because of their immediate effects leading to disability, death and long-term illness of humans and animals. It's clearly a society issue and dealing with the wider public health, now on a global scale. Thus, with the emergence of suitable climates, vectors, and hosts, microspecies (ms) like viruses, rickettsia, bacteria, protozoa, helminths, and fungi actually are the underlying causes of high morbidity and mortality of macrospecies (MS) like humans, animals, and plants in a wide geographic condition. That is why presence of ms can determine the survival value of the MS with reference to geography and time. The aim of this chapter is to explain a clear causal understanding of the diseases, their causal agents (e.g., ms), and the hosts (e.g., MS) in the context of Nepal, a well-known country in the Hindu Kush-Himalaya (HKH) region and a normally lives, grows, and adapts leading rapid multiplication in a fashion that it can be transmitted to a suitable host. This pattern of chain of infection involving a series of journey of ms from reservoirs to susceptible hosts through various modes of transmission produces the dynamics of disease transmission. In this context, the third member of epidemiologic triad or the environmental factors such as climate, temperature, humidity, micro-and macro-environment, topography, zoogeography, host specificity, light, salinity, pH (hydrogen ion concentration), percent gases, soil, water, food quality, and nutrients are important. These factors determine the successful invasion, establishment, and transmission of the ms leading outbreaks of the diseases and morbidity and mortality of the MS (Ghimire 2014; Yan et al. 2016; Si et al. 2010; Roberts and Wiedmann 2003; Keane 1997) . To transmit, initiate, and establish disease, various factors of MS, ms, and environment play a critical role with reference to geography and time. The triad can be used to assess the role of pathogens in morbidity and mortality following outbreaks of diseases. Modified after (Keane 1997; Ghimire 2014; Snieszko 1974) . MS macrospecies, ms microspecies, IDT Infectious Disease Triad\n",
            " The public and veterinary health reports indicate that Nepal is vulnerable to increased rate of morbidity and mortality of MS by various underlying causes such as ms, natural calamities, climate change, plant and pesticide poisoning, noncommunicable diseases, antibiotic resistivity, road accidents, and intra-and interspecific competition (DoAH 2015 (DoAH , 2016a DoHS 2012 DoHS , 2016 DoHS , 2017 (Fig. 40 .2). Among these underlying factors, the role of ms is critical because they may induce immediate and rapid mass mortality of MS leading susceptibility to endangerment and extinction (Field et al. 2009; Fey et al. 2015; González-Suárez and Revilla 2014; Smith et al. 2006; Pedersen et al. 2007; Adams et al. 2017) . For example, mass elimination of Mongolian saigas by Peste des Petits Virus (PPRV) (Chimeddorj and Buuveibaatar 2017) , of amphibian populations by Ranavirus, Batrachochytrium dendrobatidis, and Perkinsea (Fey et al. 2015; Cheng et al. 2011; Duffus et al. 2015; Isidoro-Ayza et al. 2017; Kwon et al. 2017; Geng et al. 2011) , and of humans and animals by TB, influenza, acute respiratory, and diarrheal pathogens has been already reported around the world (NRC 1993; Gates 2014; DoAH 2016b; DoHS 2017) . In these contexts, although several causes might exist, extreme virulence, toxicity, and the pathogenicity of the pathogens actually govern the disease appearance and outbreaks. Thus, understanding the role of ms in causing many food-and water-borne, vector-borne, and zoonotic diseases would make sense in veterinary and public health. In this review, the contribution of ms to disease susceptibility, morbidity, and case fatality rate (CFR) data of cattle, yak, buffalo, goat, sheep, pig, birds, dog, and horses have been expressed based on the reports published by of the Government of Nepal (GoN) (DoAH 2016b).\n",
            " Although the reports of viral infections in wild fauna are scarce, several natural, sporadic, epidemic, endemic, epizootic, zooanthroponotic, and anthrozooponotic viral infections those in the livestock of the country are available. One serologic study confirmed the cercopithecine herpsevirus 1 (CHV-1), rhesus cytomegalovirus (RhCMV), Cercopithecine herpesvirus 1 (CHV-1), and simian foamy virus (SFV) in Rhesus macaque Macaca mulatta in Kathmandu valley indicating their critical role in zoonosis (Jones-Engel et al. 2006) . Various fatal viral diseases including avian influenza, canine distemper, human corona, coronavirus disease 2019 (COVID-2019), rabies, and several others have been reported from the country.\n",
            " AIB is an acute and highly contagious disease of a wide range of birds including chicken caused by an enveloped, pleiomorphic, positive-sense, and non-segmented single-stranded (ss) RNA AIB virus called a coronavirus that falls in the genus Gammacoronavirus within family Coronaviridae (Cavanagh 2007; Zanaty et al. 2016; Liu et al. 2005; Boursnell et al. 1987) . AIB not only causes a severe respiratory distress but also leads to renal and reproductive tract dysfunction resulting in the reduction of quality and quantity of the egg and meat production (Cavanagh 2007) . The disease is predominant in many areas with large commercial poultry population including both layers and broilers of all ages with high mortality. Nepal is one of them in which several outbreaks have occurred resulting in a high morbidity and about 17.5% CFR (Cavanagh 2007 ; DoAH 2016b).\n",
            " Avian (Bird) flu, caused by the avian flu virus, has an enveloped, segmented, and negative-sense ssRNA that falls in genus Influenza A and family Orthomyxoviridae. The virus contains surface proteins hemagglutinin (H) and neuraminidase (N) and produces 16 H subtypes (H1-H16) and 9 N subtypes (N1-N9) in avian hosts. This virus is classified into the low pathogenic (LPAIV) or highly pathogenic (HPAIV) strains based on their lethality (Alexander 2000b) . Although both strains are transmissible via feces, saliva, nasal secretions, the HPAIV strain causes 100% mortality, even within 48 h (CDC 2017). On the other hand, the pathogenicity of LPAIV can be enhanced by other infections or environment conditions (Alexander 2000b) . The Influenza A virus has been isolated from more than 100 different species of wild aquatic birds that can act as reservoirs maintaining the viruses in nature (CDC 2017), however, reports of detection of other genera like Influenza B are from humans and seals (Osterhaus et al. 2000; Kato et al. 2015) and those of Influenza C are from humans, pigs, and dogs (Matsuzaki et al. 2002; Youzbashi et al. 1996) . It should be important to note that migratory birds spread the Influenza A viruses to the geographically unrelated regions. In the eastern part of the country, outbreaks of an H5N1 avian flu occurred in January 2009. Since then, several outbreaks led mass mortality of commercial and household chickens and ducks (WHO 2012). In addition, the GoN killed several thousands of chicken and eggs to prevent the viral spread (CIDRAP 2017; Gautam 2012) . The strain, H5N1 serotype, has been evidenced to kill chicken and ducks in the high altitude area (OIE 2017b), whereas both H5N1 and H5N8 have killed several chicken, Asian Openbill (Anas tomus oscitans), and the Whooper Swan (Cygnus cygnus) in the low altitude area (OIE 2017a) suggesting Nepal to be highly endemic region for HPAI despite Her geography. One study found H9N2 in the stool of a ruddy shelduck (Tadorna ferruginea) in seven wetland migratory bird roosting areas (Karmacharya et al. 2015) . This suggested that this strain leads to endemicity in poultry and may evolve into H7N9 to facilitate transmission into human Chen et al. 2014) . Only one case of death of a 21-year-old male following the H5N1 infection was reported on March 29, 2019 in Nepal (Shrestha 2019) suggesting that the virus rarely spreads from birds to humans and there is no proof of the viral spread from human to human till date. However, pandemic Influenza A by the H1N1 strain has become a critical problem of public health (Adhikari et al. 2011; Anonymous 2018) . Avian influenza is also critical in this country because of the full of various migratory birds in and around the Kathmandu Valley, major rivers like Karnali, Gandaki, and Koshi river, and wildlife reserves at the lowland regions in Nepal, and from China, Mongolia, Korea, Siberian region of Russia, and central Asia in the winter seasons. This is because one of the birds, wild waterfowl, have been shown to act as the natural reservoirs of LPAI and transmitters of LPAIV along migratory routes in Asia, Africa, and the Americas (Webster et al. 1992; Munster et al. 2007; Cappelle et al. 2012; Spackman et al. 2005 ).\n",
            " CDD or hardpad disease, a highly contagious via inhalation, is caused by a negativesense ssRNA virus of the genus Morbillivirus within the family Paramyxoviridae (Sykes 2014) . It affects a wide members of families like canidae, mustelidae, cercopithecidae, procyonidae, ailuridae, ursidae, elephantidae, vivirridae, and felidae (Creevy 2018) . The virus has been detected in 27% of domestic dogs in the buffer zone of a national park indicating a high risk factor for the wild fauna in Nepal (Dudley 2017) and Canine Distemper Viral antibodies in more than 70% of the examined dogs with 13% prevalence of P-gene in 13% in the 10 villages in Nepal's Annapurna Conservation Area at high altitude suggesting predominance of this virus in the national park areas and in this scenario, risk may exist during transmission of virus from feral dogs to wild carnivores in the nearby zones (Ng et al. 2019) . The virus has been hypothesized to lead endangerment process of Canis lupus, Cuon alpinus, and Canis aureus in the country (Dudley 2017).\n",
            " CSF or Hog Cholera is an acute and chronic disease caused by the enveloped ssRNA virus that falls in the genus Pestivirus within the family Flaviviridae (Blome et al. 2017) . The disease naturally occurs in domestic and wild pigs. Although genotypes similar to Indian regions have been identified in Nepal indicating the imported cases, other genotypes have been recorded proving Nepal to be endemic country for CSF (Postel et al. 2013) . Few outbreaks in the Nepalese pig populations have led very high CFR, quantitatively about 60%. The GoN has not been able to issue certification process to ensure the quality and disease free status of pigs and as a result, exports of pigs and pork to China, India, Bhutan, Thailand, Vietnam, and Hong Kong have been very difficult indicating an existence of huge impact on Nepalese economy by the disease (PEAN 2016).\n",
            " CPD, a rare zoonotic disease, is caused by the double-stranded (ds) DNA virus called CPD virus (CPDV) or Orf virus (ORFV) of the genus Parapoxvirus (Matthews 1979) . In Nepal, CPD primarily infects sheep and is critically important in their orphan lambs (Scott 2009; Gameel et al. 1995; Abu Elzein and Housawi 1997) .\n",
            " FMD is caused by a FMD virus that falls in the genus Aphthovirus of the family Picornaviridae and is characterized with the basic picornaviral structure that exists the various serotypes (Fry et al. 1999) . Most importantly, the serotypes O (lineages O/ME-SA/PanAsia-2 and O/MESA/Ind-2001d), Asia 1, A, and C have been isolated from Nepal (FAO/EuFMD 2020; OIE 2017c; Chhetri et al. 2010; Ferris et al. 1992; VEC 2016) . FMD represents an endemic infection since the time immemorial because it is found in almost all parts of the Himalayan nation during the year (DoAH 2016a). Its outbreak has been reported in blackbucks (Antelope cervicapra) in the Blackbuck Conservation Area in the Western part of the country indicating the possibility of FMD transmission to other endangered fauna (Anonymous 2009 ). It is principally found in elephants and cloven-footed domestic animals including cattle, buffalo, goats, sheep, and pigs and wild species, however, indigenous and improved breeds of these animals are highly susceptible (DoAH 2016a; Shrestha and Upadhyaya 2016). Its epidemiology in cattle, buffaloes, goats, and pigs is similar, whereas in sheep and yak, it is different. This pattern of MS-wise ms epidemiology is eco-zonal because cattle, buffaloes and goats are domesticated in terai and hilly areas and in contrast, sheep and yak are reared mostly in the mountain region. Interestingly, it has been reported that about 54% of elephants following migration on foot from the low altitude to the Kathmandu valley got infection probably from water buffaloes on the way (Kitching et al. 1988) .\n",
            " Although size of human and buffalo populations and the numbers of technicians were associated with the increased risks of FMD (Chhetri et al. 2010) , its outbreaks are epidemiologically linked to a. the mass migration of animals livestock in the grazing sites, local markets, established trading routes b. movement of infected small ruminants around households, and c. seasonal migration of livestock and other animals from Tibetan plateau to Nepal and vice versa (Ferris et al. 1992 ). In the September and October in festive, goats are taken from Tibet to the larger cities of Nepal and in the December and January, bullocks and cattle are collected and purchased in the border areas of India enhancing the modes of transmission around the region. China did not allow Nepalese dairy product (butter) to enter into its country during 2001/2003 due to presence of FMD creating a major hurdle in international trade (VEC 2016) . Due to the lack of certification and traceability of FMD and resulting its doubts in the pig farms, Chinese have stopped purchasing pigs via Rasuwagathi border at northern part of Nepal (PEAN 2016).\n",
            " The reports of several FMD outbreaks per annum with high morbidity and mortality have been published in this country (VEC 2016; FAO/EuFMD 2020). The outbreaks seem to be seasonal. The first rise in the number of FMD outbreaks during pre-monsoon and monsoon periods might have been due to excessive movement of animals for summer agricultural operations that favor the spread of disease resulting in to more outbreaks (Thakuri 2012) . Although numerous works have been undertaken for the research of FMD in livestock, concerned authorities have not opened their eyes toward opening the primary data on wild fauna in Nepal. The crucial role of FMD in declining the fauna includes lack of proper implementation of animal movement regulations, immunization, and the lack of research.\n",
            " Fowlpox is a disease of chicken, turkeys, quail, canaries, and pigeons caused by dsDNA virus of the genus Avipoxvirus of the family Poxviridae (Afonso et al. 2000) . It is transmitted via the biting of mosquitoes and via inhalation. Fowlpox is the underlying cause of the several outbreaks with a high morbidity and about 8.3% CFR in the chicken in Nepal (DoAH 2016b).\n",
            " Infectious bursal disease (IBD), popularly known as Gumboro disease in the Himalayan countries, is a highly contagious and immunosuppressive disease of young chicken caused by IBD virus (IBDV) that is a naked icosahedral virus with segmented dsRNA belonging to the genus Avibirnavirus of the family Birnaviridae (Dobos et al. 1979; Khatri and Sharma 2007) . IBD is responsible for not only the direct losses via death of chickens but also the IBDV-induced immunodeficiency that is the underlying cause of secondary infection by viral, bacterial, and parasitic infections leading peaked morbidity, mortality, and disability and finally the huge loss in the poultry industry around the globe (Berg 2000; Zachar et al. 2016 ). The disease is responsible for a large numbers of outbreaks with high morbidity and about 5.8% CFR in chicken in Nepal (DoAH 2015, 2016a, b).\n",
            " Marek's disease is a highly contagious neoplastic disease caused by dsDNA virus and its species is called Marek's disease virus (MDV) or gallid alphaherpesvirus 2 (GaHV-2) of the genus Mardivirus within the Herpesviridae family (Nair and Dunn 2018) (Boodhoo et al. 2016) . Although the disease may infect chicken with different syndromes like acute, neurolymphomatosis, cutaneous, ocular, atherosclerosis, and immunosuppression with few outbreaks and high morbidity, it has not been reported in other birds in the Nepal (Nair and Dunn 2018).\n",
            " New Castle Disease (NCD) is caused by a helical capsid containing non-segmented, negative-sense ssRNA virus. It is an avian paramyxovirus serotype-1 that falls in the genus Avulavirus within the family Paramyxoviridae (Dortmans et al. 2011; Alexander and Senne 2008; Miller et al. 2010 ). The disease is responsible for high morbidity and mortality including enhanced stress and decreased egg production and hatchability in chicken (DoAH 2016b; Alexander 2000a). It has been reported that about 600 outbreaks of endemic NCD killed more than 20,000 chickens in from 2002 to 2006 although vaccination prevented more than one million birds (Sharma 2010) . Although NCD can infect its natural hosts comprising more than 236 species of birds such as chickens, pigeons, turkeys, guinea fowl, Japanese quail and many wild birds of all ages (Alexander 2000a; Kaleta and Baldauf 1988) , the data show that it gives about 9.5% CFR in domestic chicken and its effects in Nepalese wild birds are lacking.\n",
            " Peste des petits ruminants (PPR), 'goat plague', or 'Kata', or 'Ovine rinderpest', or 'syndrome of stomatitis-pneumoenteritis' is caused by a PPR virus (PPRV) which is an enveloped negative-sense ssRNA virus belonging to the genus Morbillivirus of the family Paramyxoviridae (Gibbs et al. 1979; Dhar et al. 2002; Parida et al. 2015) . The disease is highly contagious and acute in domestic and wild small ruminants, and is characterized by high fever, conjunctivitis, oculo-nasal discharges, necrotizing, erosive stomatitis, and diarrhea. In Nepal, PPR was first diagnosed in 1995 and has already been reported from Her 63 districts with its concentration in mid-hills and low land with a high morbidity ranging from 50-90% and mortality ranging from 10-100%, with 17.2% CFR although it has not been dealt with wild animals in the country (DoAH 2016a, b; Shrestha 2015).\n",
            " Rabies is an infectious disease caused by the rabies virus, a cylindrical neurotropic polystrain, negative-sense ssRNA virus of the genus Lyssavirus within the family Rhabdoviridae. The disease is epizootic in nature and its sylvatic or enzootic cycle is maintained by wild carnivores such as the members of the canids, mustelids, viverrids, procyonids, and chiropterans living in forest zones, national parks, or wildlife reserves although each strain is maintained in these particular hosts (CFSPH 2009b) . Besides, its nature is zoonotic because it can principally be transmitted to humans and animals by the bite of an infected animal that contains virus in saliva.\n",
            " Several outbreaks of rabies have been reported in the canines and bovines in Nepal with its high morbidity and 100% mortality of the livestock (DoAH 2016a, b). Data show that rabies kills about 100 livestock and 10-100 men per annum being the highest risk in the southern terai plain particularly due to agricultural lands, wildlife areas, and the open border with India (Devleesschauwer et al. 2016) . Rabies is gaining significance in travel medicine particularly because there are many reports of bites and scratches into both tourists and foreign residents by rhesus monkeys (Macaca mulatta) that live anthropogenically near temples in many parts including the Kathmandu Valley, one of the oldest cities of the Himalayan countries (Devleesschauwer et al. 2016; Pandey et al. 2002) . Although around 50,000 people seek post-exposure rabies prophylaxis (DoHS 2019b), there is no proof of rabies transmission following monkey attacks to the local and foreign travelers in Nepal (Shlim et al. 1991; Gongal 1998 ).\n",
            " Rinderpest disease, caused by a negative sense ssRNA virus called Morbillivirus genus of the Paramyxoviridae family affecting ungulates including wild and domestic animals, has been associated with the movement of warriors with the large cattle herds to carry foods and baggage (Roeder et al. 2013) . Although the terai plain was 'home' of the disease, the exports of buffaloes and cattle from terai and Bhutan resulted in the common problem in the hills in 1866 (Spinage 2003) . It caused several annual losses so that the GoN had to establish a Government Veterinary Service in 1939 (Spinage 2003) . Nepal was declared as Rinderpest disease and infection free country in 2002, which demonstrates the strength of effective national epidemiological system in Nepal (DoAH 2016a, b) . Mass vaccination to all bovids along the southern belt in the Indian border has been credited for the freedom from rinderpest within the country (Spinage 2003) . It has been reported that the population of wild buffaloes in the Tsavo National Parks of Kenya declined by over 60% and the lesser kudus, the forest antelope by 90% in 1994-1995 following rinderpest infection indicating a huge economic loss in the wildlife (Rossiter 1996) .\n",
            " Sheep pox and goat pox are caused by the antigenetically and physiochemically related the respective Sheeppox virus (SPPV) and goat pox virus (GTPV), the dsDNA virus, that belongs to the genus Capripoxvirus in Poxviridae family (Tulman et al. 2002) . Both are transmitted by the contact to aerosols, respiratory droplets or contact with oronasal secretions of infected animals and by the mechanical methods, for example, the arthropod vectors like Stomoxys calcitrans and tsetse flies suggesting a critical role of climates in the transmission of the diseases (Kitching and Taylor 1985) . Both diseases are underlying causes of a high morbidity but with only 1.6% CFR in sheep and goats in Nepal.\n",
            " The presence of several bacterial species have been detected in environmental, clinical and veterinary samples like water, meat (buff, chicken, fish, mutton), feces, milk, urine, tissues, water, nasal swabs, ear swabs, and skin scrapings provided by farmers, researchers, and medical, and veterinary professionals. These species include Bacillus, Enterobacter, Escherichia, Haemophilus, Klebsiella, Micrococcus, Pasteurella multocida, Proteus, Salmonella of subgenus I or II group including S. agona, S. choleraesuis, S. enterica, S. enteritidis, S. gallinarum, S. pullorum, S. virchow, Shigella, and Staphylococcus (Chhetri et al. 2008; Maharjan et al. 2006; DoAH 2015 DoAH , 2016a . These bacteria may solitarily or collectively induce the initiation of the diseases which are discussed in the next section (Photos 40.1).\n",
            " Actinomycosis, an infrequent invasive disease, is caused by a Gram-positive filamentous bacterium called Actinomyces (Wong et al. 2011) . It is a minor problem by occurrence in the country because few outbreaks of actinomycosis with few morbid cases have been reported. \n",
            " Anthrax is a zoonotic disease of humans and domestic and wild animals caused by Bacillus anthracis, a spore-bearing aerobic Gram-positive bacterium (Mwakapeje et al. 2018; Baillie and Read 2001) . Based on the transmission routes and the clinical features, the disease has been classified into the cutaneous form, the gastrointestinal form, and the pulmonary form that may lead to immediate death (Mwakapeje et al. 2018) . The disease has usually been sporadic and is responsible for several outbreaks in pigs, cattle, buffaloes, and horses with high morbidity leading up to 100% CFR in Nepal (DoAH 2016a, b; Aryal 2016). Postmortem examination of a dead pregnant rhino revealed the presence of anthrax bacteria indicating the etiology of death of other several rhinos died in nature in the country (Anonymous 2017) . In addition to overhunting, habitat degradation, exposure of rinderpest, and FMD, infection of anthrax has been attributed to the reduction of the population of Bos gaurus (Duckworth et al. 2016 ).\n",
            " Blackquarter or blackleg disease, a highly fatal disease in cattle, sheep, and goats, is caused by Clostridium chauvoei, an anaerobic spore-forming and toxin-producing motile Gram-positive highly pathogenic bacterium (Frey and Falquet 2015; Hatheway 1990 ). The disease occurs around water holes, well, in grazing areas, paddocks, and pens, and wells outbreaks may occur after flood and after excavation of soil because it may activate latent spores (Sultana et al. 2010; Hatheway 1990) . The disease has a huge impact on the cattle herders because of the tremendous loss on the economy (Ayele et al. 2016; Hatheway 1990) . It is an underlying cause of several outbreaks with high morbidity and about 1.7% CFR in the livestock in Nepal.\n",
            " BT, an endemic zoonotic disease of the cattle and buffaloes, is caused by Mycobacterium bovis, a slow-growing, aerobic bacterium called a bovine tubercle bacillus. The bacterium is highly virulent and its several strains have been recovered after milk, feces, and intradermal test of most of the areas of the country indicating a critical role of this pathogen in public health (Jha et al. 2007; Silwal et al. 2011; Joshi 2003; Pun et al. 2004) . TB in Nepal has been reported in the half of the Nepalese population among which 5000-7000 deaths and 44,000 new cases occurs per annum (NTP 2016) . Data show that new and old cases of low altitude people are highly infected compared to those in the mountainous region, however, M. tuberculosis-borne human TB confirmation has been the highest in mountains compared with other landscapes (NTP 2016) . This indicates that the possibility of bovine TB exists in the public health in the low altitude which may synchronize with respect to the numbers of cattle and buffalo population. Zoonotic characteristics of TB indicate that it is critical to farmers, raw milk consumers, cattle exporters and businessmen, and butchers.\n",
            " Brucellosis is a highly contagious zoonotic disease caused by a Gram-negative bacterium of the genus Brucella. B. melitensis principally infects the reproductive tract of sheep and goats and causes ovine and caprine brucellosis characterized by abortion, retained placenta, and impaired fertility. B. ovis causes ovine epididymitis. B. abortus infects cattle and buffaloes and causes bovine brucellosis. B. suis causes swine brucellosis (Smith and Shorman 2019). All of these brucellosis are recorded in Nepal (Knox et al. 2000) . The disease is transmitted vertically into the new babies via milk and reproductive tract discharges and blood transfusion and homo-and hetero-sexual activities (Burgess 1982) . Interestingly, few cultural practices involving the handling of dung in the agricultural land and biogas plant, drinking of raw goat blood by the pregnant women, consumption of raw milk, liver, kidney, testis, and brain, and practicing of shepherding and animal husbandry in the closet space with high stock density and high stocking rate might be the underlying risk factors of endemicity of the brucellosis. Principally, the evidences of high prevalence rate (up to 32%) and morbidity in the livestock of Nepal comes from the seroprevalence study of the disease of several outbreaks in the Bos grunniens, and its breeds with local hill cattle (Bos indicus), cattle, pigs, goats, dogs, sheep, and domestic and wild buffaloes (Smith and Shorman 2019; DoAH 2016a; Shrestha 2008a). The low mortality might be associated with different factors like pathogenicity of the bacterium that depends on the species, size of inoculum, portal of entry, mode of transmission, and immune status of the MS. Brucellosis has been a massive global economic issue because of the loss of income due to abortion, milk and meat production, low fertility of the animal hosts, and huge cost on control and prevention programs including drug therapy and mass vaccination.\n",
            " Chronic respiratory disease (CRD) in chicken, turkeys, game birds, pigeons, and wild birds is caused by Mycoplasma gallisepticum that is evolutionarily related to the low % Guanine and Cytosine Gram-positive Clostridiales (Weisburg et al. 1989; Ricketts et al. 2017) . Serology examination shows about 9.5% prevalence in the chicken in the Nepal (DoAH 2015).\n",
            " Colibacillosis (COB) is a disease caused by a Gram-negative, non-acid-fast, nonspore-forming bacterium called Escherichia coli with mainly serogroups O78, O1, O2, O15, O55 in animals including chicken (Chart et al. 2000; Dho-Moulin and Fairbrother 1999) . COB causes pericarditis, airsacculitis, and perihepatitis in chronic form and may cause death following septicemia (Dho-Moulin and Fairbrother 1999). Several COB outbreaks have caused a high morbidity leading about 4.1% of CFR of the Nepalese livestock indicating a massive impact on the economy of the country.\n",
            " Contagious agalactia principally infects sheep and goats in which the disease is caused by a bacterium called Mycoplasma agalactiae (Kumar et al. 2014) . However, principally, other species like M. capricolum, M. putrefaciens, M. mycoides capri, and M. mycoides (large colony forms) can cause this infection in goats (CFSPH 2009a; Lambert 1987) and various signs of mastitis, arthritis, and keratitis have been reported in few morbid cases in Nepal.\n",
            " Enterotoxemia is a disease primary of sheep and goats caused by the toxin of Clostridium perfringes type C and D that are normally found in small numbers in healthy animals (McDonel 1980) . The disease develops when the numbers of bacteria are increased and the microenvironments of the gut become favorable to toxin production (Nagahama et al. 2015; Uzal et al. 2010 ). Its outbreak is presumably associated with the lack of immunity, the heavy GI infestation, the periods of greatest pasture growth (Leite-Browning 2007) . This is possible during summer months when mass grazing practice is culturally conducted during the availability of the new, better, and grainy diet. Although its outbreaks, susceptibility, and morbidity are very high, its CFR is only about 2.4% in Nepal.\n",
            " FT is an acute or chronic septicemic disease that is caused by S. pullorum-related bacterium called S. gallilnarum (Shivaprasad 2000) . It primarily affects adult birds, but, grouse, guinea fowl, ostriches, parrots, peafowl, pheasants, quail, ring-necked doves, sparrows, and turkeys of all ages are susceptible. FT has contributed several outbreaks resulting in a high morbidity and about 7.6% of CFR in chicken indicating a huge massive impact on the Nepalese economy.\n",
            " Hemorrhagic septicemia, occurring primarily in cattle and buffaloes and secondarily in wild elephants, is caused by a Gram-negative nonmotile coccobacillus bacterium called Pasteurella multocida (Tankaew et al. 2017; Narasimham 1946) . The disease manifests fever, depression, salivation, and submandibular edema, acute respiratory distress, and septicemia (de Alwis 1984). The GoN has indicated its several outbreaks leading a high morbidity and about 5.9% of CFR in livestock that suggested a national concern in the economy and veterinary health.\n",
            " Infectious coryza (ICR) is an acute respiratory disease of chicken caused by Haemophilus paragallinarum, a Gram-negative bacterium (Blackall et al. 2005; Blackall 1999 ). ICR induces nasal and lacrimal discharges, facial swelling, and diarrhea reducing the growth and egg production in chicken (Han et al. 2016; Soriano et al. 2004) . Although ICR induces very high morbidity, it has about 1.6% CFR in chicken in Nepal.\n",
            " Mastitis is a common persistent inflammatory disease of livestock, principally the cattle, that is caused by mechanical, thermal and chemical injury and most importantly, the toxins released by various coliform bacteria, Staphylococcus albus, and S. epidermidis (Subedi and Dhakal 2002; Dhakal et al. 2007 ). The occurrence of mastitis is related to rainy season when temperature and humidity is high, and during first calving, and first month of parturition ). Since the replacement of local cows by many European breeds for increasing milk production, several thousands of mastitis cases with CFR less than 1% have been reported in the country (Knox et al. 2000 ; DoAH 2016b).\n",
            " Pullorum disease or bacillary white diarrhea is caused by a Gram negative bacterium, Salmonella pullorum (Shivaprasad 2000) . This disease highly affects the young birds, however, it has been recovered from many adult species like chicken, turkeys, quail, guinea fowl, pheasants, ducks, pigeons, sparrows, canaries, bullfinches, parrots, pigs, cattle, cats, dogs, foxes, mink, rabbits, guinea pigs, laboratory and wild rats, and chinchillas (Barrow and Freitas Neto 2011) . In addition to transmission via transovarian cycle and cannibalism of infected carcasses, the bacterium is transmitted by bird-to-bird contact, wound contamination, and fecal contamination of feed, water, and litter (Berchieri et al. 2001) . In Nepal, pullorum results in the high morbidity and about 11.0% CFR after several outbreaks in chicken indicating a huge impact on veterinary health and the consequent loss in economy.\n",
            " The infestation with external parasites is quite important in Nepal because of their effects in the high morbidity and mortality (DoAH 2016a). For example, several species of Amblyomma, Anomalohimalaya, Argas, Boophilus, Dermacentor, Haemaphysalis, Ixodes, Nosomma, and Rhipicephalus in humans and domestic and wild vertebrates have been well recorded (Estrada-Pena and Jongejan 1999; Clifford et al. 1971a, b; Hoogstraal 1971; Daniel 1979; Apanaskevich et al. 2014; Mitchell 1979; Bohara and Shrestha 2016; Fegan and Glennon 1996; Pun et al. 2018; Ghimire et al. 2018) .\n",
            " The country is also rich in several species of mite, lice, flea, and mosquito faunal diversity in various hosts (Mitchell 1979) . Mites cause skin disease called mange or acariasis that has resulted into high morbidity and <1% CFR (DoAH 2015, 2016b). Lice including Mallophaga (bird lice) and Anoplura like Pediculus human capitis, P. h. corporis, and Pthirus pubis are the predominant lice species (Mitchell 1979; Poudel and Barker 2004) .\n",
            " Importantly, a total of 44 species of Anopheles mosquitoes have been identified in the country, however, only seven of them (Anopheles minimus, Anopheles fluviatilis, Anopheles annularis, Anopheles maculatus, Anopheles dravidicus, Anopheles pseudowillmori, and Anopheles willmori) have been found to be malarial vectors (Ghimire 2016; Darsie and Pradhan 1990 ). In the same way, Aedes aegypti, A. albopictus, Culex quenquifasciatus, Culex tritaeniorhynchus, and several unidentified species have been recorded from low lands to upper lands of the country (Dhimal et al. 2014b) . Other species at various landscapes are Aedomyia, Armigeres, Heizmannia, Mansonia, Malaya, Mimoyia, Tripteroides, and Uranotaenia are also reported (Dhimal et al. 2014b; Pradhan and Darsie 1989; Darsie et al. 1993) indicating the possibility of either existence or import of other several unreported vector-borne diseases in this country. Notably, the adults of the Anopheles, Culex, and Aedes mosquitoes were found in animal habitat, human habitat, mixed habitat, and natural outdoor habitat, where as their larval forms are predominant in stream, seepage, water tanks, discarded tire, paddy fields, tree holes, and plastic drums at different landscape within the country (Dhimal et al. 2014b) .\n",
            " Notably, warble infestation or myiasis has predominantly been reported to lead <1% death of livestock in the country (DoAH 2016b). Warble myiasis is caused by the infestation of a warble fly called Hypoderma species on the body of horses, goats, sheep, and humans. When the fly lays eggs on the legs, the hatching larva invades the connective tissues and migrates almost all body parts and produces a swelling called 'warble'.\n",
            " Coccidiosis is a disease caused by spore forming protozoa called coccidia of the Eimeria genus traditionally, however, broadly, this term can be used for the infections led by various genera like Isospora, Cyclospora, Cryptosporidium, Toxoplasma, Sarcocystis, and Microsporidia. Various species of Eimeria, for example, E. acervulina, E. maxima, E. necatrix, E. tenella and E. brunetti have been reported in chicken that might get coccidiosis (Adhikari et al. 2008; Jayswal et al. 2014) . Several outbreaks of coccidiosis with high morbidity and about 4% CFR have been reported in chicken in Nepal (DoAH 2015 (DoAH , 2016a . Interestingly, the presence of one or more species of Eimeria, Isospora, Cyclospora, Cryptosporidium, Toxoplasma, and Sarcocystis have been predominantly reported in the wild hosts like red panda, rabbit, Hodgson's Giant Flying Squirrel (Petaurista magnificus), deer, yak, and in the humans (DoAH 2015 (DoAH , 2016a Lama et al. 2015; Bista et al. 2017; Koirala et al. 2016; Achhami et al. 2016; Byanju et al. 2011; Ghimire et al. , 2007 Ghimire et al. , 2010 Ghimire 2010 Ghimire , 2018 . Among these coccidia, toxoplasmosis has been predominantly reported in humans and domestic animals like sheep and goats showing the possibility of infection with meat-eating habits and cat-rearing situations in the country (Subedi et al. 2018; Rai et al. 1996 Rai et al. , 1999 Sah et al. 2017) . Even, it was reported to be lower in the sheep of high altitude with arid climate compared to those of lower altitude with hot and humid climate suggesting the climate-guided infection of T. gondii (Subedi et al. 2018 ).\n",
            " Several experiments revealed that the stools of one or more of the hosts like bats, pigs, cattle, buffaloes, sheep, goats, dogs, poultry, red panda, deer, rhesus and assamese macaques, elephants, rhinoceros, Hodgson's Giant Flying Squirrel (Petaurista magnificus), and yak contained Ancylostoma, Angiostrongylus, Anisakis, Ascaris, Baylisascaris, Capillaria, Chabertia, Dicrocoelium, Dictyocaulus, Diphyllobothrium, Dipyllidium, Dirofilaria, Fasciola hepatica, Fasciolopsis buski, Gnathostoma, Haemonchus, Moniezia, Nematodirus, Oesophagostomum, Ostertagia, Oxyuris, Paragonimus, Paramphistomum, Schistosoma, Spirometra, Strongyloides, Syphacia, Taenia, Toxocara, Trichinella, Trichostrongylus, and Trichuris (Devleesschauwer et al. 2014; DoAH 2015 DoAH , 2016a Achhami et al. 2016; Byanju et al. 2011; Ghimire 2010 Ghimire , 2018 Joshi et al. 1997 2). Several of these helminths cause echinococcosis or hydatidosis, cysticercosis, fasciolosis, schistosomiasis, trematodiasis, and soiltransmitted helminthiasis and all these induce about 1% CFR in Nepal. Among these infections, soil-transmitted helminths have been one of the major issues all over the country especially in the city areas particularly because of open defecation by domestic animals like dogs, cattle, and goats and seepage of sewage water in the soil.\n",
            " Mycotoxicosis is the disease caused by the ingestion of cereal grains or foods containing toxic metabolites of certain fungi like Aspergillus flavus, Aspergillus parasiticus or Penicillium puberulum, Claviceps purpurea, Fusarium moniliforme, and Fusarium graminearum (Zain 2011) . Several outbreaks of mycotoxicosis with various signs and pathologies leading high morbidity and about 4.0% CFR have occurred in Nepal. Our primary observations indicated that mycotoxicosis is mainly associated with the use of hybrid seeds, lack of optimum post-harvesting duration, lack of proper storage, early harvesting, and carelessness in maintenance and management of environment during storage of grains, food, and animal fodders.\n",
            " Ringworm or dermatophytosis characterized by red, itchy, scaly, and circular rash, and the loss of hair is caused by many fungi including Trichophyton, Microsporum, and Epidermophyton. The cases are very low, but critical in the veterinary health. In Nepalese people, ringworm has been critically experienced from many years in clinical settings (Paudel and Manandhar 2015; Reddy 2017; Mathur et al. 2012; Jha et al. 2019) resulting in the loss of economy, psychologic disorders, and high morbid cases especially in the immunocompromised, diabetic, and cancer patients.\n",
            " Nepalese veterinary and public health is highly affected by many vector-borne diseases that have massive impact on socio-economic status and socio-agricultural status. For example, bovine ephemeral fever (BEF) or Three Day Sickness is caused by bovine ephemeral fever virus (BEFV) that contains a negative ssRNA of the genus Ephemerovirus. As the virus has been isolated from various genera of Anophelines, Culicines, and Culicoides, they are implicated in the disease transmission (Walker 2020; Uren 1989) . Disease is characterized by sudden onset of fever, stiffness, nasal and ocular discharges, depression, muscle tremors, and constipation (Wang et al. 2001; Burgess and Spradbrow 1977) . The disease occurred with several outbreaks producing high morbidity and low mortality (CFR < 1%) in livestock of Nepal (DoAH 2016b).\n",
            " The public health is highly affected by the Chikungynya, Dengue, JE, and West Nile Fever in the country (Rutvisuttinunt et al. 2014 ). Chikungunya is caused by an icosahedral positive-sense ssRNA virus called Chikungunya virus (CHIKV) that falls in Alphavirus genus within Togaviridae family. CHIKV has 3 genotypes. After Chikungunya febrile cases were firstly reported in the patients from March to June 2013 , it has been dominantly reported in the terai regions of the country (Pandey et al. , 2017 .\n",
            " Similar virus called Dengue virus (DV) causes Dengue that occurs in the form of Dengue fever (DF), Dengue hemorrhagic fever (DHF), and Dengue shock syndrome (DSS) is also dominant in the country. DV is an icosahedral positive-sense ssRNA virus that falls in genus Flavivirus within the family Flaviviridae. DV has 5 serotypes and among them, only 4 serotypes (DEN-1, DEN-2, DEN-3 and DEN-4) have been reported in Nepal (Malla et al. 2008; DoHS 2017) indicating a serious threat to public health. Although the DV was firstly detected in a Japanese volunteer after his return to his country in 2004 (Takasaki et al. 2008) , its sporadic cases and outbreaks were detected after 2006. The country had massive outbreaks in several districts in 2010 especially in Chitwan and Rupandehi districts. In a 4-year periods from 2006 to 2010, the DF cases increased from 5 districts to 24 districts indicating the rapid expansion of the disease in a wide geography of the country . Similar epidemics in 2013 and 2016 occurred infecting several people of middle hill districts suggesting the shifting of DV from subtropical areas to temperate zones (Gupta et al. 2018 ). More than 2000 DF cases as well as few deaths have been recently reported from 28 districts including Rupandehi, Jhapa, Mahottari, and Sarlahi at low altitude and Palpa, Arghakhachi, Rolpa, Pyuthan, and others at high altitude (DoHS 2019a). The shifting data are evidenced by the presence of CHIKV and DV vectors like Aedes aegypti and A. albopitus and the climatic variables like rainfall, temperature, and relative humidity are critical factors in the distribution of these vectors from the lowlands (80 masl) up to highlands such as Dhunche, Rasuwa districts (2100 masl) (Dhimal et al. 2015) . The rapid expansion of the landscapes of these vectors and the associated viral diseases might be due to the increasing movement of viremic people, and means of transportation especially from the lowlands and endemic neighboring country like India, presence of vectors, and favorable environments via climate change (Narain 2008; Dhimal et al. 2014b) . Thus, in addition to several socio-economic determinants like awareness, educational and social status, the role of climate change and the subsequent spread, acclimatization, establishment, and breeding of mosquitoes is critical to establish and transmit the diseases in a wide landscape. This principle also applies to the transmission of Zika virus (ZV) which is an enveloped and icosahedral positive-sense ssRNA virus belonging to the genus Flavivirus within Flaviviridae family. This is because since most cases of Zika virus are asymptomatic, it is not wrong to hypothesize the ZV existence in Nepal although a seroepidemiologic study could be used to prove this question (Wiwanitkit 2016) . Nepal, as a member of HKH region, possesses few favorable environments of ZV transmission like shifting of Aedes vectors in highlands, public movement to the risk areas, lack of immunity in the people, climate change, and others (Dhimal et al. 2018) .\n",
            " Another vector-borne disease in Nepal is the West Nile Fever (WNF) caused by positive-sense ssRNA virus that belongs to the genus Flavivirus within the family Flaviviridae (Rutvisuttinunt et al. 2014) . WNF possesses 8 different lineages with 2 main virulent lineages (Lineage 1 with clades 1a, 1b, and 1c and Lineage 2) responsible for outbreaks in humans, the clade 1b containing Kunjin virus has already been reported to infect 3% pigs in Nepal (Pant et al. 2006) suggesting existing risks of zoonosis in future.\n",
            " Various emerging vector-borne diseases like rickettsioses and anaplasmosis have been reported in the Himalayan nations including Nepal. Rickettsioses caused by Rickettsia species are endemically found (Murphy et al. 2011; Murdoch et al. 2004 ). Anaplasmosis, transmitted by tick and characterized by severe anemia, increased heart rate, and hemoglobinuria, is caused by a Gram-negative rickettsial agent called Anaplasma. It has been detected in ticks as well as cattle, buffaloes, and dogs in Nepal suggesting one of the crucial vector-borne pathogens (Bohara and Shrestha 2016; DoAH 2016a; Adhikari et al. 1997) . Scrub typhus is an emerging disease caused by a Gram-negative obligate intracellular ricketts called Orientia tsutsugamushi and transmitted by the blood sucking larva (chigger) of mite. The disease possesses a zoonotic tetrad with chiggers, rodents, scrub forest, and mites which helps maintain a sylvatic cycle among the chiggers and rodents (Nayak 2016) . Thus, agricultural workers, travelers in endemic areas, people who are usual contact with mice and mites in houses or camping, and any form of temporary shelter are the high risk groups. Postearthquake consequences like human migration, overcrowding, and unsanitary conditions could increase the linkage among vector, rickets, and human which might represent truths of Earthquake Nepal-2015 (Nayak 2016; Upadhyaya et al. 2016; Blacksell et al. 2007; Sedhain and Bhattarai 2017) . Although a neglected disease, it has high morbidity and mortality in the Nepalese population. Another typhus called murine typhus is caused by Rickettsia typhii that is transmitted by the bite of fleas (Xenopsylla cheopis) of rats. It is an endemic disease of Nepal where thousands of people get infected indicating a huge public health issues in the country (Zimmerman et al. 2008; Walter et al. 2012; Pradhan et al. 2012; Thompson et al. 2015 ).\n",
            " Several babesiosis outbreaks with low morbidity and low mortality have been reported (DoAH 2016b). Cattle, buffaloes, dogs, and horses have been found to be positive with Babesia infection (DoAH 2016a; Bohara and Shrestha 2016) and their death has been resulted following red urine (DoAH 2016b). The prevalence recorded is about 10% and the lowland landscape, the transboundary area near India, and the hilly regions of the country are endemic areas for babesiosis (Adhikari et al. 1997; Shrestha and Singh 1999; Dhakal et al. 1996; Thakuri et al. 1992) .\n",
            " There are many reports of theileriosis, caused by a protozoan species called Theileria parva, that outbreaks with high morbidity and low mortality (DoAH 2016b). Tsetse-borne trypanosomiasis caused high morbidity and very low mortality of livestock following many outbreaks (DoAH 2016b). The disease is predominant in the transboundary region of Nepal and India, especially the lowlands areas (Shrestha and Singh 1999) . Importantly, dogs, buffaloes, and horses are found to be positive for Trypanosoma (DoAH 2016a; Adhikari et al. 1997) .\n",
            " While vector-borne protozoa have low impact on health of livestock, their association to that of human is severe. For example, malaria, an endemic as well as imported disease primarily caused by Plasmodium vivax in general situation, P. falciparum in epidemic situation, and P. ovale in people with traveling history from Africa, has been recorded from many districts including mountainous areas (EDCD 2019). The trend of clinically suspected malaria case, slide positivity rate, and malaria caused by P. falciparum, P. vivax are decreasing year by year and is due to the increased health services and socio-economic status of the local people, and others (DoHS 2019a). The malariometric indicator analysis shows that although indigenous P. falciparum cases are rapidly decreasing, the indigenous P. vivax cases are slowly decreasing (Dhimal et al. 2014a ). However, the trend of imported P. falciparum cases shows increasing (DoHS 2019a) indicating the critical role of human migration in the malaria transmission around the country.\n",
            " It has also been suggested that the high risks and high risk zones of malaria includes foothills and river belts, forest fringe areas, forests of lowland area, inner valleys, and some terai districts (EDCD 2019; DoHS 2016 DoHS , 2017 . It is suggested that climate change and global warming have favored the breeding mechanisms of its vector, Anopheles spp., even in the high altitude leading to the probability of transmission of sporozoites. This has been evidenced by the fact that Anopheles fluviatilis was not detected above 1500 masl, has now been observed in Kashmir and Bhutan at heights of 2000 masl and more, indicating the role of climate change in vector spread in the Himalayas (Narain 2008) .\n",
            " In the same way, over the last decade, visceral leishmaniasis, caused by a protozoan hemoflagellate called Leishmania donovani and its vector sand fly, Phlebotomus argentipes, has spread towards the hill and mountain regions (Ostyn et al. 2015) . Temperature, rainfall, and environment have been associated with the outbreaks. Notably, leishmaniasis has been reported from goats, buffaloes, and cattle indicating the possible role of domestic animals in the endemicity of the pathogen Khanal et al. 2010) . The GoN has listed 18 districts as kalaazar endemic areas, however, new cases have been regularly reported in other districts (DoHS 2019a). Incidence of kala-azar (1 per 10,000 population) is at risk in the country leading to even more fatal in the presence of HIV/TB co-infection or in the lack of treatment on time (DoHS 2017).\n",
            " Lymphatic filariasis (LF), caused by Wuchereria bancrofti and transmitted by Culex quinquefasciatus, is a neglected disease with <1% to 39% prevalence rates in 61 endemic districts of Nepal with about 25 million populations at its risks (DoHS 2016 (DoHS , 2017 . It showed various ranges of landscapes in distribution, for example, ranging from 92 masl to 1768 masl including the hill and mountain areas, especially the valleys and river basin areas of hilly districts with high disease burden suggesting the role of topographical landscapes in governing the establishment and distribution of the vectors (DoHS 2012 (DoHS , 2016 (DoHS , 2017 . This presence data was satisfied by the observation of its main vector Culex quinquefasciatus that had been found up to 2100 masl indicating the shifting of diseases following climate change (Dhimal et al. 2014c) . Since 2003, more than 100 million doses of drugs against LF have been administered to at-risk population and the transmission assessment survey in 25 districts in 2017 (DoHS 2019a) observed a significantly reduced prevalence of this disease suggesting government's successful achievement toward prevention of LF.\n",
            " The public health is devastated by many food and water-borne diseases like bacterial diarrhea, hepatitis A and E, and typhoid fever, sex-borne diseases like HIV/ AIDS and syphilis, airborne diseases like TB and acute respiratory illness, urineborne disease like leptospirosis, and vaccine-preventable diseases like diphtheria, influenza, measles, mumps, rubella, Haemophilus influenza type b infections, hepatitis B, polio, tetanus, and typhoid that have a very high morbidity and mortality (DoHS 2017; Murdoch et al. 2004; Karkey et al. 2008; Woods et al. 2006; Maskey et al. 2006; Blacksell et al. 2007) . Illness and or death of livestock following one or more of pneumonia (CFR <1%), poisoning (CFR 2%), metritis (inflammation of the uterus), unclassified respiratory disease (CFR 3.7%), respiratory sign diseases (CFR 2.1%), milk fever (CFR <1%), wound (CFR <1%), dystocia (CFR <1%), and skin lesions, seems to be critical in veterinary health. Besides, several outbreaks of Khari disease have been reported in the buffaloes in the Far-western regions. This has been probably associated with the higher indoor radiations, malnutrition, and parasitic infestation .\n",
            " Leptospirosis is an emerging disease of humans caused by Leptospira spp., a spirochete bacterium transmitted by food, water, soil contaminated by urine of infected hosts like domestic and wild vertebrates. The disease occurs during rainy season probably because of the high temperature, increased flood, and transmission of bacteria through open defection. It is usually underdiagnosed and underreported disease in Nepal where many cases are being reported due to the increased interests of scientists and veterinarians.\n",
            " Antibiotic resistance has been one of the biggest threats for environmental, public, and veterinary health resulting in the failure of treatment, cost of treatment, and the increase in morbidity and mortality of the MS in Nepal (Thapa et al. 2016; Baral et al. 2013; Belbase et al. 2017 ). This issue is evidenced by identification of the resistivity of one or more antibiotic/s to Acinetobacter, Citrobacter, Enterobacter, E. coli, Mycobacterium tuberculosis, Pseudomonas, Vibrio cholerae, Klebsiella pneumoniae, Proteus, Staphylococcus, Streptococcus pneumoniae, S. pyogenes, Shigella spp., S. typhi, S. paratyphi A, Salmonella species, Neisseria gonorrhoeae, in clinical, subclinical, veterinary, and environmental samples (Lamichhane et al. 2014; Chaudhary et al. 2017; Rijal et al. 2017; Bansal et al. 2015; Dhakal et al. 2007 ). Regarding antibiotic resistivity, the role of a fungus, Candida albicans is important (Photo 40.3). It is critical to note that Candida albicans and non-albicans groups are associated with the infections and are primarily present during immunosuppression. In this context, antibiotic resistivity might be dangerous because few antibiotics have been proved to be resisting by both albicans and non-albicans groups (Khadka et al. 2017) and patients can experience with fatal and chronic infections. The search of reliable antimicrobial surveillance data in animal health is particularly demanding, and prioritized because of the emergence of multi-drug resistance of mastitis, pyometra, colibacilosis, and tuberculosis. It has been shown that antibiotic resistivity is associated with the environmental density of the antibiotics spreading from focal points of drug distribution and the close community environment of antibiotic over-or mis-use (Walson et al. 2001) . In a close community, sharing water sources for drinking, bathing, laundry, and crop irrigation is common, and the practice of open defecation not only enhances the frequency of antibiotic resistant genes, but also speeds up the presence of biocenose that comprises bacteria, parasites, viruses, fungi, and others in the aquaculture, raw fruits, and fresh vegetables, fish, meat, and other agricultural products (Walson et al. 2001; Rolain 2013 ). In addition, ethnically used common herbal medicines in the country act as antiseptic or disinfectant that may contribute to the selection and multiplication of drug-resistant bacteria (Shrestha and Dhillion 2003; Bhattarai 1997) . In these contexts, several MS like arthropods, annelids, mollusks, and vertebrates including human and animals may act both as carriers and transmitters of antibiotic-resistant genes or biocenose all over the environment. This also suggests the possibility of the generation of drug-resistant genes in biocenose following the continuous feeding of several herbal plants by wild populations.\n",
            " As already discussed, ms has possibility to induce 60 zoonotic diseases including avian influenza, brucellosis, cysticercosis/taeniosis, hydatidosis, leptospirosis, neurocysticercosis, and toxoplasmosis that have played critical role in public health (DoHS 2017 (DoHS , 2019b . Deaths following snake bites and dog bites are also reported. In these cases, 32 deaths followed by the bite of more than 35,000 dogs and other animals and 20 deaths followed by more than 5600 snake bite cases have recently been reported throughout the country (DoHS 2019b). Critically, a total of 21 poisonous snakes include pit viper, krait, cobra, coral, and Russel's viper that are predominant in 26 low altitude districts and their bite cases generate 10% mortality rates (DoHS 2019b). There are cases of cat and monkey bites although none of the deaths have been reported yet. Due to increase in people-wildlife conflicts, attacks by monkeys, jackals, bears, and other large mammals have been critical in the country and it is not included in this chapter here.\n",
            " Since the beginning of agriculture civilization, the MS in Nepal has faced several ms infections leading their several morbidity and mortality. In addition, for several drivers of endangerment, the role of ms stands at the top. Although viral, bacterial, and parasitic diseases can lead to an endangerment process for a MS, the role of climate change and antibiotic resistivity and their consequences are critical. However, how these drivers play a role in the endangerment process have not been evaluated in situ. While lots of morbidity and mortality data are available for livestock, they are lacking in the context of wildlife. An integrated approach of research on human, wildlife, and livestock should be conducted so that we can collect many data related to the neglected diseases such as zoonotic diseases like brucellosis, reemerging diseases like many parasitic diseases, major killers like influenza, and vector-borne diseases like malaria, babesiasis, JE, and leishmaniasis. A coordinated control program including enhanced surveillance, isolation or rigorous precautions, early discharge, and alterations in antimicrobial usage can prevent the spread and emergence of drug resistance in the medical and veterinary offices (APUA 2008). In addition, search of effective, specific, and safe antigenic molecules to be used in vaccines and mass vaccination to prevent the future infections of ms into MS should be conducted.\n"
          ],
          "name": "stdout"
        }
      ]
    },
    {
      "cell_type": "markdown",
      "metadata": {
        "id": "w3DEFvod3Sha",
        "colab_type": "text"
      },
      "source": [
        "## **LDA Topic Modelling**"
      ]
    },
    {
      "cell_type": "markdown",
      "metadata": {
        "id": "rQYGTib53iWA",
        "colab_type": "text"
      },
      "source": [
        "> ### Creating Pre-processed data (Only run if you want to create the model again) -- *Approx Runtime = 15 seconds*"
      ]
    },
    {
      "cell_type": "markdown",
      "metadata": {
        "id": "VI7wwFdb4OoO",
        "colab_type": "text"
      },
      "source": [
        "We will be using the already pre-processed data in tf-idf, instead of preprocessing whole data again. Make sure you have loaded  pre-processed data from tf-idf."
      ]
    },
    {
      "cell_type": "markdown",
      "metadata": {
        "id": "ICbYxP6z4VRt",
        "colab_type": "text"
      },
      "source": [
        "Joining words, separated in word embedding.\n"
      ]
    },
    {
      "cell_type": "code",
      "metadata": {
        "id": "LH2XhTpC-nsT",
        "colab_type": "code",
        "colab": {}
      },
      "source": [
        "\n",
        "tm_df =  pd.read_csv('drive/My Drive/data/tf_idf/df_for_tf_idf.csv', low_memory=False)\n",
        "\n",
        "for i in range(tm_df.shape[0]) :\n",
        "    text = tm_df.at[i, 'body_preprocessed'].strip('][').split(', ')\n",
        "    newtext = \" \"\n",
        "    newtext = newtext.join(text)\n",
        "    newtext = newtext.replace(\"'\", \"\")\n",
        "    tm_df.at[i, 'body_preprocessed'] = newtext"
      ],
      "execution_count": 0,
      "outputs": []
    },
    {
      "cell_type": "code",
      "metadata": {
        "id": "Dbutq0LFJZze",
        "colab_type": "code",
        "outputId": "09d93b8c-19df-4912-80a4-42c4fbef3a2f",
        "colab": {
          "base_uri": "https://localhost:8080/",
          "height": 630
        }
      },
      "source": [
        "tm_df.head()\n"
      ],
      "execution_count": 0,
      "outputs": [
        {
          "output_type": "execute_result",
          "data": {
            "text/html": [
              "<div>\n",
              "<style scoped>\n",
              "    .dataframe tbody tr th:only-of-type {\n",
              "        vertical-align: middle;\n",
              "    }\n",
              "\n",
              "    .dataframe tbody tr th {\n",
              "        vertical-align: top;\n",
              "    }\n",
              "\n",
              "    .dataframe thead th {\n",
              "        text-align: right;\n",
              "    }\n",
              "</style>\n",
              "<table border=\"1\" class=\"dataframe\">\n",
              "  <thead>\n",
              "    <tr style=\"text-align: right;\">\n",
              "      <th></th>\n",
              "      <th>Unnamed: 0</th>\n",
              "      <th>Unnamed: 0.1</th>\n",
              "      <th>abstract</th>\n",
              "      <th>body_text</th>\n",
              "      <th>paper_id</th>\n",
              "      <th>title</th>\n",
              "      <th>body_preprocessed</th>\n",
              "    </tr>\n",
              "  </thead>\n",
              "  <tbody>\n",
              "    <tr>\n",
              "      <th>0</th>\n",
              "      <td>3</td>\n",
              "      <td>3</td>\n",
              "      <td>The key enzyme in coronavirus polyprotein proc...</td>\n",
              "      <td>Transmissible gastroenteritis virus (TGEV) bel...</td>\n",
              "      <td>cf584e00f637cbd8f1bb35f3f09f5ed07b71aeb0</td>\n",
              "      <td>NaN</td>\n",
              "      <td>transmiss gastroenter viru tgev belong coronav...</td>\n",
              "    </tr>\n",
              "    <tr>\n",
              "      <th>1</th>\n",
              "      <td>12</td>\n",
              "      <td>12</td>\n",
              "      <td>The exact origin of the cause of the Severe Ac...</td>\n",
              "      <td>Severe Acute Respiratory Syndrome (SARS), a ne...</td>\n",
              "      <td>59ffca26c9d1f881e4e37e7c5af626d72d858dc4</td>\n",
              "      <td>Relationship of SARS-CoV to other pathogenic R...</td>\n",
              "      <td>sever acut respiratori syndrom sar newli ident...</td>\n",
              "    </tr>\n",
              "    <tr>\n",
              "      <th>2</th>\n",
              "      <td>13</td>\n",
              "      <td>13</td>\n",
              "      <td>Because of the constant threat posed by emergi...</td>\n",
              "      <td>Over the past two decades, technological advan...</td>\n",
              "      <td>c63c4d58d170136b8d3b5a66424b5ac3f73a92d9</td>\n",
              "      <td>Viral Discovery and Sequence Recovery Using DN...</td>\n",
              "      <td>past two decad technolog advanc molecular biol...</td>\n",
              "    </tr>\n",
              "    <tr>\n",
              "      <th>3</th>\n",
              "      <td>27</td>\n",
              "      <td>27</td>\n",
              "      <td>Background: Despite the passing of more than a...</td>\n",
              "      <td>In the spring of 2003, the Severe Acute Respir...</td>\n",
              "      <td>b499a41ad1d85a0e071b59e60065c874e534911d</td>\n",
              "      <td>Coronavirus 3CL pro proteinase cleavage sites:...</td>\n",
              "      <td>spring 2003 sever acut respiratori syndrom sar...</td>\n",
              "    </tr>\n",
              "    <tr>\n",
              "      <th>4</th>\n",
              "      <td>34</td>\n",
              "      <td>34</td>\n",
              "      <td>The molecular basis of severe acute respirator...</td>\n",
              "      <td>The causative agent for SARS has been identifi...</td>\n",
              "      <td>45d2d838cb3d5ae2dabd7bb7c82329b398d1c65f</td>\n",
              "      <td>BMC Infectious Diseases A human in vitro model...</td>\n",
              "      <td>caus agent sar identifi novel coronaviru 1 2 3...</td>\n",
              "    </tr>\n",
              "  </tbody>\n",
              "</table>\n",
              "</div>"
            ],
            "text/plain": [
              "   Unnamed: 0  ...                                  body_preprocessed\n",
              "0           3  ...  transmiss gastroenter viru tgev belong coronav...\n",
              "1          12  ...  sever acut respiratori syndrom sar newli ident...\n",
              "2          13  ...  past two decad technolog advanc molecular biol...\n",
              "3          27  ...  spring 2003 sever acut respiratori syndrom sar...\n",
              "4          34  ...  caus agent sar identifi novel coronaviru 1 2 3...\n",
              "\n",
              "[5 rows x 7 columns]"
            ]
          },
          "metadata": {
            "tags": []
          },
          "execution_count": 107
        }
      ]
    },
    {
      "cell_type": "markdown",
      "metadata": {
        "id": "VrC7RNnaPYNU",
        "colab_type": "text"
      },
      "source": [
        "> ### Creating the model\n"
      ]
    },
    {
      "cell_type": "markdown",
      "metadata": {
        "id": "0YzR56ErQBKs",
        "colab_type": "text"
      },
      "source": [
        "Installing ktrain"
      ]
    },
    {
      "cell_type": "code",
      "metadata": {
        "id": "f_bOKQNyIGxr",
        "colab_type": "code",
        "colab": {}
      },
      "source": [
        "!pip install ktrain"
      ],
      "execution_count": 0,
      "outputs": []
    },
    {
      "cell_type": "markdown",
      "metadata": {
        "id": "soJgRD7kRpU3",
        "colab_type": "text"
      },
      "source": [
        "Creating Model"
      ]
    },
    {
      "cell_type": "code",
      "metadata": {
        "id": "sRZh9wgbP-pB",
        "colab_type": "code",
        "outputId": "9aae141a-698c-42e5-b1dd-2e851a37c18c",
        "colab": {
          "base_uri": "https://localhost:8080/",
          "height": 235
        }
      },
      "source": [
        "%%time\n",
        "\n",
        "import ktrain\n",
        "ktrain.text.preprocessor.detect_lang = ktrain.text.textutils.detect_lang\n",
        "texts = tm_df[\"body_preprocessed\"] \n",
        "tm = ktrain.text.get_topic_model(texts, n_topics=None, n_features=10000)"
      ],
      "execution_count": 0,
      "outputs": [
        {
          "output_type": "stream",
          "text": [
            "n_topics automatically set to 70\n",
            "lang: en\n",
            "preprocessing texts...\n",
            "fitting model...\n",
            "iteration: 1 of max_iter: 5\n",
            "iteration: 2 of max_iter: 5\n",
            "iteration: 3 of max_iter: 5\n",
            "iteration: 4 of max_iter: 5\n",
            "iteration: 5 of max_iter: 5\n",
            "done.\n",
            "CPU times: user 4min 51s, sys: 2min 30s, total: 7min 21s\n",
            "Wall time: 3min 56s\n"
          ],
          "name": "stdout"
        }
      ]
    },
    {
      "cell_type": "markdown",
      "metadata": {
        "id": "A4ffbHVwaYF_",
        "colab_type": "text"
      },
      "source": [
        "Printing Topics"
      ]
    },
    {
      "cell_type": "code",
      "metadata": {
        "id": "EaFWjy1mSqOk",
        "colab_type": "code",
        "outputId": "e61687ac-94fd-4aa8-e591-80677d76edac",
        "colab": {
          "base_uri": "https://localhost:8080/",
          "height": 1000
        }
      },
      "source": [
        "tm.print_topics()\n",
        "tm.build(texts, threshold=0.25)\n"
      ],
      "execution_count": 0,
      "outputs": [
        {
          "output_type": "stream",
          "text": [
            "topic 0 | drug antivir viral trial treat dose inhibit therapi activ chloroquin\n",
            "topic 1 | mrna bind rna interact protein trna ifit1 ifit viral complex\n",
            "topic 2 | surgeri manag staff team resourc icu procedur servic physician unit\n",
            "topic 3 | women pregnant pregnanc infant neonat mother deliveri matern birth newborn\n",
            "topic 4 | perpetu grant countri display transmiss death post version contact april\n",
            "topic 5 | anfi die week antibodi type sequenc strain ein epitop rna\n",
            "topic 6 | fibrot ild ipf rituximab viral cell activ detect nsp13 lung\n",
            "topic 7 | evd marin crit rss elsevi signal une que hrv est\n",
            "topic 8 | cell rna gene viral express protein sequenc host sampl replic\n",
            "topic 9 | pattern frequenc usag codon subtyp bia composit iav bias valu\n",
            "topic 10 | mhv protein rna cell gene replic ibv express mutant sequenc\n",
            "topic 11 | residu sequenc genom rna mutat catalyt activ structur domain sti\n",
            "topic 12 | mer ncov hcov anim coronavirus transmiss syndrom bat market novel\n",
            "topic 13 | mask protect ppe room procedur recommend face transmiss equip worker\n",
            "topic 14 | ventil ard oxygen mechan lung icu injuri cardiac failur invas\n",
            "topic 15 | model estim epidem paramet predict assum period distribut simul valu\n",
            "topic 16 | tab pic unet disord protein activ virus residu viral domain\n",
            "topic 17 | hiv releas bst2 virion lysosom express flag gst vlp assembl\n",
            "topic 18 | medicin chines brazil tcm liu wang die van chen tradit\n",
            "topic 19 | cd13 mab anti migrat aggreg adhes monocyt induc disaggreg antibodi\n",
            "topic 20 | influenza virus detect viral rsv children specimen pathogen sampl cultur\n",
            "topic 21 | que por del pacient para una como caso est esta\n",
            "topic 22 | cancer radiat therapi oncolog tumor chemotherapi radiotherapi delay breast fraction\n",
            "topic 23 | social peopl countri polici commun state govern distanc person contact\n",
            "topic 24 | confin que est car dan qui plu une sur leur\n",
            "topic 25 | agent ect signifi liquid eff rst hav run diff method\n",
            "topic 26 | rbd cell fusion protein ace2 receptor spike entri neutral bind\n",
            "topic 27 | cell activ express immun induc gene cytokin ifn inflammatori pathway\n",
            "topic 28 | signal hybrid probe oil spot array microarray chip iranian gam\n",
            "topic 29 | network model learn train imag research set process propos approach\n",
            "topic 30 | dengu denv iec claus dss dhf majeur antibodi infant contractor\n",
            "topic 31 | pneumonia chest fever lung imag diagnosi wuhan cough laboratori normal\n",
            "topic 32 | rabbit tgev pedv cat ccov fipv apn fcov type dog\n",
            "topic 33 | asthma airway exacerb nasal hrv copd cold year children chronic\n",
            "topic 34 | sampl detect assay rna sensit primer neg pool viral method\n",
            "topic 35 | une dan par est pour avec risqu que sont sur\n",
            "topic 36 | structur bind residu interact compound energi model activ inhibitor pro\n",
            "topic 37 | adv raa tachycardia ner notch cidofovir adam17 roch type cell\n",
            "topic 38 | ncov predict protein epitop score peptid cell sequenc vaccin target\n",
            "topic 39 | hcv alcohol nafld cirrhosi nash genotyp cad prison daa hcc\n",
            "topic 40 | cell incub cultur concentr buffer assay wash protein viral medium\n",
            "topic 41 | loss olfactori sud anosmia smell tast inject dispers macro bulb\n",
            "topic 42 | protein bind domain structur membran acid interact residu receptor amino\n",
            "topic 43 | subject app print usc ifit1 interact ppp met eif2 proxim\n",
            "topic 44 | lung liver tissu mice cell brain injuri organ anim kidney\n",
            "topic 45 | rna mrna sequenc translat structur frameshift genom transcript viral strand\n",
            "topic 46 | defici caveola caveolin cav g6pd cox nox ipv anti immunoreact\n",
            "topic 47 | cell protein rna detect virus viral primer ifn bind cap\n",
            "topic 48 | vector dna plasmid cftr hku gta frankfurt luc transfect gene\n",
            "topic 49 | mse epp sera protein detect sequenc cell ard sampl truncat\n",
            "topic 50 | alt cc0 sequenc rna genom mutat strain type viral replic\n",
            "topic 51 | comic clip subcrit ltc critiqu harri acupunctur chelat cartoon hpa\n",
            "topic 52 | ace2 express cell receptor lung angiotensin protein viral tmprss2 ace\n",
            "topic 53 | sequenc genom bat mutat speci gene virus host genet viral\n",
            "topic 54 | particip mental psycholog anxieti survey student social respond nurs stress\n",
            "topic 55 | vaccin virus immun viral anim host cell pathogen occur protect\n",
            "topic 56 | outcom review evid mortal critic ill death articl research therapi\n",
            "topic 57 | passeng transport locat volum airport air connect flight network januari\n",
            "topic 58 | antibodi igg serum antigen protein igm elisa immun serolog detect\n",
            "topic 59 | occup collaps extra sti machineri dynam correl previous motion catalyt\n",
            "topic 60 | activ helicas dna rdrp reaction substrat atp strand enzym unwind\n",
            "topic 61 | column aqi cui acm unhealthi minu cell activ interact rna\n",
            "topic 62 | attack secret detect uav sarscov authent decrypt ciphertext homomorph anti\n",
            "topic 63 | sampl dataset sequenc cluster read map annot file databas genom\n",
            "topic 64 | food vitamin diabet nutrit oxid obes consumpt glucos diet tokyo\n",
            "topic 65 | temperatur air water surfac pollut particl concentr humid environment condit\n",
            "topic 66 | strain rat ccv fibroma poland isol chikv dog type iii\n",
            "topic 67 | media user tweet news topic word twitter post content text\n",
            "topic 68 | age year children variabl outcom display mortal factor adult statist\n",
            "topic 69 | oral cap transmiss saliva rout fecal dental diarrhea stool digest\n",
            "done.\n"
          ],
          "name": "stdout"
        }
      ]
    },
    {
      "cell_type": "code",
      "metadata": {
        "id": "zrarDDfURuoB",
        "colab_type": "code",
        "outputId": "916c45f6-2351-4ae7-ca59-1e870e8a0b07",
        "colab": {
          "base_uri": "https://localhost:8080/",
          "height": 394
        }
      },
      "source": [
        "%%time\n",
        "\n",
        "texts = tm.filter(texts)\n",
        "tm_df = tm.filter(tm_df)"
      ],
      "execution_count": 0,
      "outputs": [
        {
          "output_type": "error",
          "ename": "ValueError",
          "evalue": "ignored",
          "traceback": [
            "\u001b[0;31m---------------------------------------------------------------------------\u001b[0m",
            "\u001b[0;31mValueError\u001b[0m                                Traceback (most recent call last)",
            "\u001b[0;32m<ipython-input-111-363fd318cde9>\u001b[0m in \u001b[0;36m<module>\u001b[0;34m()\u001b[0m\n\u001b[0;32m----> 1\u001b[0;31m \u001b[0mget_ipython\u001b[0m\u001b[0;34m(\u001b[0m\u001b[0;34m)\u001b[0m\u001b[0;34m.\u001b[0m\u001b[0mrun_cell_magic\u001b[0m\u001b[0;34m(\u001b[0m\u001b[0;34m'time'\u001b[0m\u001b[0;34m,\u001b[0m \u001b[0;34m''\u001b[0m\u001b[0;34m,\u001b[0m \u001b[0;34m'\\ntexts = tm.filter(texts)\\ntm_df = tm.filter(tm_df)'\u001b[0m\u001b[0;34m)\u001b[0m\u001b[0;34m\u001b[0m\u001b[0;34m\u001b[0m\u001b[0m\n\u001b[0m",
            "\u001b[0;32m/usr/local/lib/python3.6/dist-packages/IPython/core/interactiveshell.py\u001b[0m in \u001b[0;36mrun_cell_magic\u001b[0;34m(self, magic_name, line, cell)\u001b[0m\n\u001b[1;32m   2115\u001b[0m             \u001b[0mmagic_arg_s\u001b[0m \u001b[0;34m=\u001b[0m \u001b[0mself\u001b[0m\u001b[0;34m.\u001b[0m\u001b[0mvar_expand\u001b[0m\u001b[0;34m(\u001b[0m\u001b[0mline\u001b[0m\u001b[0;34m,\u001b[0m \u001b[0mstack_depth\u001b[0m\u001b[0;34m)\u001b[0m\u001b[0;34m\u001b[0m\u001b[0;34m\u001b[0m\u001b[0m\n\u001b[1;32m   2116\u001b[0m             \u001b[0;32mwith\u001b[0m \u001b[0mself\u001b[0m\u001b[0;34m.\u001b[0m\u001b[0mbuiltin_trap\u001b[0m\u001b[0;34m:\u001b[0m\u001b[0;34m\u001b[0m\u001b[0;34m\u001b[0m\u001b[0m\n\u001b[0;32m-> 2117\u001b[0;31m                 \u001b[0mresult\u001b[0m \u001b[0;34m=\u001b[0m \u001b[0mfn\u001b[0m\u001b[0;34m(\u001b[0m\u001b[0mmagic_arg_s\u001b[0m\u001b[0;34m,\u001b[0m \u001b[0mcell\u001b[0m\u001b[0;34m)\u001b[0m\u001b[0;34m\u001b[0m\u001b[0;34m\u001b[0m\u001b[0m\n\u001b[0m\u001b[1;32m   2118\u001b[0m             \u001b[0;32mreturn\u001b[0m \u001b[0mresult\u001b[0m\u001b[0;34m\u001b[0m\u001b[0;34m\u001b[0m\u001b[0m\n\u001b[1;32m   2119\u001b[0m \u001b[0;34m\u001b[0m\u001b[0m\n",
            "\u001b[0;32m<decorator-gen-60>\u001b[0m in \u001b[0;36mtime\u001b[0;34m(self, line, cell, local_ns)\u001b[0m\n",
            "\u001b[0;32m/usr/local/lib/python3.6/dist-packages/IPython/core/magic.py\u001b[0m in \u001b[0;36m<lambda>\u001b[0;34m(f, *a, **k)\u001b[0m\n\u001b[1;32m    186\u001b[0m     \u001b[0;31m# but it's overkill for just that one bit of state.\u001b[0m\u001b[0;34m\u001b[0m\u001b[0;34m\u001b[0m\u001b[0;34m\u001b[0m\u001b[0m\n\u001b[1;32m    187\u001b[0m     \u001b[0;32mdef\u001b[0m \u001b[0mmagic_deco\u001b[0m\u001b[0;34m(\u001b[0m\u001b[0marg\u001b[0m\u001b[0;34m)\u001b[0m\u001b[0;34m:\u001b[0m\u001b[0;34m\u001b[0m\u001b[0;34m\u001b[0m\u001b[0m\n\u001b[0;32m--> 188\u001b[0;31m         \u001b[0mcall\u001b[0m \u001b[0;34m=\u001b[0m \u001b[0;32mlambda\u001b[0m \u001b[0mf\u001b[0m\u001b[0;34m,\u001b[0m \u001b[0;34m*\u001b[0m\u001b[0ma\u001b[0m\u001b[0;34m,\u001b[0m \u001b[0;34m**\u001b[0m\u001b[0mk\u001b[0m\u001b[0;34m:\u001b[0m \u001b[0mf\u001b[0m\u001b[0;34m(\u001b[0m\u001b[0;34m*\u001b[0m\u001b[0ma\u001b[0m\u001b[0;34m,\u001b[0m \u001b[0;34m**\u001b[0m\u001b[0mk\u001b[0m\u001b[0;34m)\u001b[0m\u001b[0;34m\u001b[0m\u001b[0;34m\u001b[0m\u001b[0m\n\u001b[0m\u001b[1;32m    189\u001b[0m \u001b[0;34m\u001b[0m\u001b[0m\n\u001b[1;32m    190\u001b[0m         \u001b[0;32mif\u001b[0m \u001b[0mcallable\u001b[0m\u001b[0;34m(\u001b[0m\u001b[0marg\u001b[0m\u001b[0;34m)\u001b[0m\u001b[0;34m:\u001b[0m\u001b[0;34m\u001b[0m\u001b[0;34m\u001b[0m\u001b[0m\n",
            "\u001b[0;32m/usr/local/lib/python3.6/dist-packages/IPython/core/magics/execution.py\u001b[0m in \u001b[0;36mtime\u001b[0;34m(self, line, cell, local_ns)\u001b[0m\n\u001b[1;32m   1191\u001b[0m         \u001b[0;32melse\u001b[0m\u001b[0;34m:\u001b[0m\u001b[0;34m\u001b[0m\u001b[0;34m\u001b[0m\u001b[0m\n\u001b[1;32m   1192\u001b[0m             \u001b[0mst\u001b[0m \u001b[0;34m=\u001b[0m \u001b[0mclock2\u001b[0m\u001b[0;34m(\u001b[0m\u001b[0;34m)\u001b[0m\u001b[0;34m\u001b[0m\u001b[0;34m\u001b[0m\u001b[0m\n\u001b[0;32m-> 1193\u001b[0;31m             \u001b[0mexec\u001b[0m\u001b[0;34m(\u001b[0m\u001b[0mcode\u001b[0m\u001b[0;34m,\u001b[0m \u001b[0mglob\u001b[0m\u001b[0;34m,\u001b[0m \u001b[0mlocal_ns\u001b[0m\u001b[0;34m)\u001b[0m\u001b[0;34m\u001b[0m\u001b[0;34m\u001b[0m\u001b[0m\n\u001b[0m\u001b[1;32m   1194\u001b[0m             \u001b[0mend\u001b[0m \u001b[0;34m=\u001b[0m \u001b[0mclock2\u001b[0m\u001b[0;34m(\u001b[0m\u001b[0;34m)\u001b[0m\u001b[0;34m\u001b[0m\u001b[0;34m\u001b[0m\u001b[0m\n\u001b[1;32m   1195\u001b[0m             \u001b[0mout\u001b[0m \u001b[0;34m=\u001b[0m \u001b[0;32mNone\u001b[0m\u001b[0;34m\u001b[0m\u001b[0;34m\u001b[0m\u001b[0m\n",
            "\u001b[0;32m<timed exec>\u001b[0m in \u001b[0;36m<module>\u001b[0;34m()\u001b[0m\n",
            "\u001b[0;32m/usr/local/lib/python3.6/dist-packages/ktrain/text/eda.py\u001b[0m in \u001b[0;36mfilter\u001b[0;34m(self, lst)\u001b[0m\n\u001b[1;32m    243\u001b[0m         \u001b[0;32mif\u001b[0m \u001b[0mlen\u001b[0m\u001b[0;34m(\u001b[0m\u001b[0mlst\u001b[0m\u001b[0;34m)\u001b[0m \u001b[0;34m!=\u001b[0m \u001b[0mself\u001b[0m\u001b[0;34m.\u001b[0m\u001b[0mbool_array\u001b[0m\u001b[0;34m.\u001b[0m\u001b[0mshape\u001b[0m\u001b[0;34m[\u001b[0m\u001b[0;36m0\u001b[0m\u001b[0;34m]\u001b[0m\u001b[0;34m:\u001b[0m\u001b[0;34m\u001b[0m\u001b[0;34m\u001b[0m\u001b[0m\n\u001b[1;32m    244\u001b[0m             raise ValueError('Length of lst is not consistent with the number of documents ' +\n\u001b[0;32m--> 245\u001b[0;31m                              'supplied to get_topic_model')\n\u001b[0m\u001b[1;32m    246\u001b[0m         \u001b[0marr\u001b[0m \u001b[0;34m=\u001b[0m \u001b[0mnp\u001b[0m\u001b[0;34m.\u001b[0m\u001b[0marray\u001b[0m\u001b[0;34m(\u001b[0m\u001b[0mlst\u001b[0m\u001b[0;34m)\u001b[0m\u001b[0;34m\u001b[0m\u001b[0;34m\u001b[0m\u001b[0m\n\u001b[1;32m    247\u001b[0m         \u001b[0;32mreturn\u001b[0m \u001b[0mlist\u001b[0m\u001b[0;34m(\u001b[0m\u001b[0marr\u001b[0m\u001b[0;34m[\u001b[0m\u001b[0mself\u001b[0m\u001b[0;34m.\u001b[0m\u001b[0mbool_array\u001b[0m\u001b[0;34m]\u001b[0m\u001b[0;34m)\u001b[0m\u001b[0;34m\u001b[0m\u001b[0;34m\u001b[0m\u001b[0m\n",
            "\u001b[0;31mValueError\u001b[0m: Length of lst is not consistent with the number of documents supplied to get_topic_model"
          ]
        }
      ]
    },
    {
      "cell_type": "markdown",
      "metadata": {
        "id": "b9saP21Qar2-",
        "colab_type": "text"
      },
      "source": [
        "Creating Recommender"
      ]
    },
    {
      "cell_type": "code",
      "metadata": {
        "id": "gwkSICXlavD1",
        "colab_type": "code",
        "colab": {}
      },
      "source": [
        "%%time\n",
        "tm.train_recommender()"
      ],
      "execution_count": 0,
      "outputs": []
    },
    {
      "cell_type": "markdown",
      "metadata": {
        "id": "T_keOA60a3J6",
        "colab_type": "text"
      },
      "source": [
        "Saving Model as Pickle"
      ]
    },
    {
      "cell_type": "code",
      "metadata": {
        "id": "nspHNnRca12u",
        "colab_type": "code",
        "colab": {}
      },
      "source": [
        "%%time\n",
        "import pickle \n",
        "  \n",
        "# Save the trained model as a pickle string. \n",
        "Pkl_Filename = \"drive/My Drive/data/lda_tm/tmPickle_tm_Model.pkl\"  \n",
        "\n",
        "with open(Pkl_Filename, 'wb') as file:  \n",
        "    pickle.dump(tm, file)\n",
        "\n",
        "tm_df.to_csv(\"drive/My Drive/data/lda_tm/tm_df_for_lda_tm.csv\")\n"
      ],
      "execution_count": 0,
      "outputs": []
    }
  ]
}